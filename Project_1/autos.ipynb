{
 "cells": [
  {
   "cell_type": "markdown",
   "metadata": {},
   "source": [
    "# Определение стоимости автомобилей"
   ]
  },
  {
   "cell_type": "markdown",
   "metadata": {},
   "source": [
    "## Подготовка данных"
   ]
  },
  {
   "cell_type": "markdown",
   "metadata": {},
   "source": [
    "Импортируем  и установим необходимые библиотеки:"
   ]
  },
  {
   "cell_type": "code",
   "execution_count": 1,
   "metadata": {},
   "outputs": [
    {
     "name": "stdout",
     "output_type": "stream",
     "text": [
      "Requirement already satisfied: catboost in c:\\users\\vasil\\anaconda3\\lib\\site-packages (1.0.6)\n",
      "Requirement already satisfied: scipy in c:\\users\\vasil\\anaconda3\\lib\\site-packages (from catboost) (1.7.1)\n",
      "Requirement already satisfied: numpy>=1.16.0 in c:\\users\\vasil\\anaconda3\\lib\\site-packages (from catboost) (1.20.3)\n",
      "Requirement already satisfied: plotly in c:\\users\\vasil\\anaconda3\\lib\\site-packages (from catboost) (5.10.0)\n",
      "Requirement already satisfied: pandas>=0.24.0 in c:\\users\\vasil\\anaconda3\\lib\\site-packages (from catboost) (1.3.4)\n",
      "Requirement already satisfied: six in c:\\users\\vasil\\anaconda3\\lib\\site-packages (from catboost) (1.16.0)\n",
      "Requirement already satisfied: matplotlib in c:\\users\\vasil\\anaconda3\\lib\\site-packages (from catboost) (3.4.3)\n",
      "Requirement already satisfied: graphviz in c:\\users\\vasil\\anaconda3\\lib\\site-packages (from catboost) (0.20.1)\n",
      "Requirement already satisfied: python-dateutil>=2.7.3 in c:\\users\\vasil\\anaconda3\\lib\\site-packages (from pandas>=0.24.0->catboost) (2.8.2)\n",
      "Requirement already satisfied: pytz>=2017.3 in c:\\users\\vasil\\anaconda3\\lib\\site-packages (from pandas>=0.24.0->catboost) (2021.3)\n",
      "Requirement already satisfied: cycler>=0.10 in c:\\users\\vasil\\anaconda3\\lib\\site-packages (from matplotlib->catboost) (0.10.0)\n",
      "Requirement already satisfied: pillow>=6.2.0 in c:\\users\\vasil\\anaconda3\\lib\\site-packages (from matplotlib->catboost) (8.4.0)\n",
      "Requirement already satisfied: pyparsing>=2.2.1 in c:\\users\\vasil\\anaconda3\\lib\\site-packages (from matplotlib->catboost) (3.0.4)\n",
      "Requirement already satisfied: kiwisolver>=1.0.1 in c:\\users\\vasil\\anaconda3\\lib\\site-packages (from matplotlib->catboost) (1.3.1)\n",
      "Requirement already satisfied: tenacity>=6.2.0 in c:\\users\\vasil\\anaconda3\\lib\\site-packages (from plotly->catboost) (8.0.1)\n"
     ]
    }
   ],
   "source": [
    "!pip install catboost"
   ]
  },
  {
   "cell_type": "code",
   "execution_count": 2,
   "metadata": {},
   "outputs": [
    {
     "name": "stdout",
     "output_type": "stream",
     "text": [
      "Requirement already satisfied: lightgbm in c:\\users\\vasil\\anaconda3\\lib\\site-packages (3.3.2)\n",
      "Requirement already satisfied: wheel in c:\\users\\vasil\\anaconda3\\lib\\site-packages (from lightgbm) (0.37.0)\n",
      "Requirement already satisfied: numpy in c:\\users\\vasil\\anaconda3\\lib\\site-packages (from lightgbm) (1.20.3)\n",
      "Requirement already satisfied: scikit-learn!=0.22.0 in c:\\users\\vasil\\anaconda3\\lib\\site-packages (from lightgbm) (0.24.2)\n",
      "Requirement already satisfied: scipy in c:\\users\\vasil\\anaconda3\\lib\\site-packages (from lightgbm) (1.7.1)\n",
      "Requirement already satisfied: joblib>=0.11 in c:\\users\\vasil\\anaconda3\\lib\\site-packages (from scikit-learn!=0.22.0->lightgbm) (1.1.0)\n",
      "Requirement already satisfied: threadpoolctl>=2.0.0 in c:\\users\\vasil\\anaconda3\\lib\\site-packages (from scikit-learn!=0.22.0->lightgbm) (2.2.0)\n"
     ]
    }
   ],
   "source": [
    "!pip install lightgbm"
   ]
  },
  {
   "cell_type": "code",
   "execution_count": 3,
   "metadata": {},
   "outputs": [],
   "source": [
    "import numpy as np\n",
    "import pandas as pd\n",
    "import seaborn as sns\n",
    "import matplotlib.pyplot as plt\n",
    "import lightgbm as lgb\n",
    "\n",
    "from sklearn.preprocessing import OrdinalEncoder\n",
    "from sklearn.preprocessing import StandardScaler\n",
    "from sklearn.model_selection import train_test_split\n",
    "from sklearn.model_selection import GridSearchCV\n",
    "from catboost import CatBoostRegressor\n",
    "from lightgbm import LGBMRegressor \n",
    "from sklearn.linear_model import LinearRegression\n",
    "from sklearn.metrics import mean_squared_error\n",
    "from sklearn.model_selection import cross_val_score"
   ]
  },
  {
   "cell_type": "markdown",
   "metadata": {},
   "source": [
    "Откроем таблицу с данными:"
   ]
  },
  {
   "cell_type": "code",
   "execution_count": 4,
   "metadata": {},
   "outputs": [
    {
     "data": {
      "text/html": [
       "<div>\n",
       "<style scoped>\n",
       "    .dataframe tbody tr th:only-of-type {\n",
       "        vertical-align: middle;\n",
       "    }\n",
       "\n",
       "    .dataframe tbody tr th {\n",
       "        vertical-align: top;\n",
       "    }\n",
       "\n",
       "    .dataframe thead th {\n",
       "        text-align: right;\n",
       "    }\n",
       "</style>\n",
       "<table border=\"1\" class=\"dataframe\">\n",
       "  <thead>\n",
       "    <tr style=\"text-align: right;\">\n",
       "      <th></th>\n",
       "      <th>DateCrawled</th>\n",
       "      <th>Price</th>\n",
       "      <th>VehicleType</th>\n",
       "      <th>RegistrationYear</th>\n",
       "      <th>Gearbox</th>\n",
       "      <th>Power</th>\n",
       "      <th>Model</th>\n",
       "      <th>Kilometer</th>\n",
       "      <th>RegistrationMonth</th>\n",
       "      <th>FuelType</th>\n",
       "      <th>Brand</th>\n",
       "      <th>NotRepaired</th>\n",
       "      <th>DateCreated</th>\n",
       "      <th>NumberOfPictures</th>\n",
       "      <th>PostalCode</th>\n",
       "      <th>LastSeen</th>\n",
       "    </tr>\n",
       "  </thead>\n",
       "  <tbody>\n",
       "    <tr>\n",
       "      <th>0</th>\n",
       "      <td>2016-03-24 11:52:17</td>\n",
       "      <td>480</td>\n",
       "      <td>NaN</td>\n",
       "      <td>1993</td>\n",
       "      <td>manual</td>\n",
       "      <td>0</td>\n",
       "      <td>golf</td>\n",
       "      <td>150000</td>\n",
       "      <td>0</td>\n",
       "      <td>petrol</td>\n",
       "      <td>volkswagen</td>\n",
       "      <td>NaN</td>\n",
       "      <td>2016-03-24 00:00:00</td>\n",
       "      <td>0</td>\n",
       "      <td>70435</td>\n",
       "      <td>2016-04-07 03:16:57</td>\n",
       "    </tr>\n",
       "    <tr>\n",
       "      <th>1</th>\n",
       "      <td>2016-03-24 10:58:45</td>\n",
       "      <td>18300</td>\n",
       "      <td>coupe</td>\n",
       "      <td>2011</td>\n",
       "      <td>manual</td>\n",
       "      <td>190</td>\n",
       "      <td>NaN</td>\n",
       "      <td>125000</td>\n",
       "      <td>5</td>\n",
       "      <td>gasoline</td>\n",
       "      <td>audi</td>\n",
       "      <td>yes</td>\n",
       "      <td>2016-03-24 00:00:00</td>\n",
       "      <td>0</td>\n",
       "      <td>66954</td>\n",
       "      <td>2016-04-07 01:46:50</td>\n",
       "    </tr>\n",
       "    <tr>\n",
       "      <th>2</th>\n",
       "      <td>2016-03-14 12:52:21</td>\n",
       "      <td>9800</td>\n",
       "      <td>suv</td>\n",
       "      <td>2004</td>\n",
       "      <td>auto</td>\n",
       "      <td>163</td>\n",
       "      <td>grand</td>\n",
       "      <td>125000</td>\n",
       "      <td>8</td>\n",
       "      <td>gasoline</td>\n",
       "      <td>jeep</td>\n",
       "      <td>NaN</td>\n",
       "      <td>2016-03-14 00:00:00</td>\n",
       "      <td>0</td>\n",
       "      <td>90480</td>\n",
       "      <td>2016-04-05 12:47:46</td>\n",
       "    </tr>\n",
       "    <tr>\n",
       "      <th>3</th>\n",
       "      <td>2016-03-17 16:54:04</td>\n",
       "      <td>1500</td>\n",
       "      <td>small</td>\n",
       "      <td>2001</td>\n",
       "      <td>manual</td>\n",
       "      <td>75</td>\n",
       "      <td>golf</td>\n",
       "      <td>150000</td>\n",
       "      <td>6</td>\n",
       "      <td>petrol</td>\n",
       "      <td>volkswagen</td>\n",
       "      <td>no</td>\n",
       "      <td>2016-03-17 00:00:00</td>\n",
       "      <td>0</td>\n",
       "      <td>91074</td>\n",
       "      <td>2016-03-17 17:40:17</td>\n",
       "    </tr>\n",
       "    <tr>\n",
       "      <th>4</th>\n",
       "      <td>2016-03-31 17:25:20</td>\n",
       "      <td>3600</td>\n",
       "      <td>small</td>\n",
       "      <td>2008</td>\n",
       "      <td>manual</td>\n",
       "      <td>69</td>\n",
       "      <td>fabia</td>\n",
       "      <td>90000</td>\n",
       "      <td>7</td>\n",
       "      <td>gasoline</td>\n",
       "      <td>skoda</td>\n",
       "      <td>no</td>\n",
       "      <td>2016-03-31 00:00:00</td>\n",
       "      <td>0</td>\n",
       "      <td>60437</td>\n",
       "      <td>2016-04-06 10:17:21</td>\n",
       "    </tr>\n",
       "    <tr>\n",
       "      <th>...</th>\n",
       "      <td>...</td>\n",
       "      <td>...</td>\n",
       "      <td>...</td>\n",
       "      <td>...</td>\n",
       "      <td>...</td>\n",
       "      <td>...</td>\n",
       "      <td>...</td>\n",
       "      <td>...</td>\n",
       "      <td>...</td>\n",
       "      <td>...</td>\n",
       "      <td>...</td>\n",
       "      <td>...</td>\n",
       "      <td>...</td>\n",
       "      <td>...</td>\n",
       "      <td>...</td>\n",
       "      <td>...</td>\n",
       "    </tr>\n",
       "    <tr>\n",
       "      <th>354364</th>\n",
       "      <td>2016-03-21 09:50:58</td>\n",
       "      <td>0</td>\n",
       "      <td>NaN</td>\n",
       "      <td>2005</td>\n",
       "      <td>manual</td>\n",
       "      <td>0</td>\n",
       "      <td>colt</td>\n",
       "      <td>150000</td>\n",
       "      <td>7</td>\n",
       "      <td>petrol</td>\n",
       "      <td>mitsubishi</td>\n",
       "      <td>yes</td>\n",
       "      <td>2016-03-21 00:00:00</td>\n",
       "      <td>0</td>\n",
       "      <td>2694</td>\n",
       "      <td>2016-03-21 10:42:49</td>\n",
       "    </tr>\n",
       "    <tr>\n",
       "      <th>354365</th>\n",
       "      <td>2016-03-14 17:48:27</td>\n",
       "      <td>2200</td>\n",
       "      <td>NaN</td>\n",
       "      <td>2005</td>\n",
       "      <td>NaN</td>\n",
       "      <td>0</td>\n",
       "      <td>NaN</td>\n",
       "      <td>20000</td>\n",
       "      <td>1</td>\n",
       "      <td>NaN</td>\n",
       "      <td>sonstige_autos</td>\n",
       "      <td>NaN</td>\n",
       "      <td>2016-03-14 00:00:00</td>\n",
       "      <td>0</td>\n",
       "      <td>39576</td>\n",
       "      <td>2016-04-06 00:46:52</td>\n",
       "    </tr>\n",
       "    <tr>\n",
       "      <th>354366</th>\n",
       "      <td>2016-03-05 19:56:21</td>\n",
       "      <td>1199</td>\n",
       "      <td>convertible</td>\n",
       "      <td>2000</td>\n",
       "      <td>auto</td>\n",
       "      <td>101</td>\n",
       "      <td>fortwo</td>\n",
       "      <td>125000</td>\n",
       "      <td>3</td>\n",
       "      <td>petrol</td>\n",
       "      <td>smart</td>\n",
       "      <td>no</td>\n",
       "      <td>2016-03-05 00:00:00</td>\n",
       "      <td>0</td>\n",
       "      <td>26135</td>\n",
       "      <td>2016-03-11 18:17:12</td>\n",
       "    </tr>\n",
       "    <tr>\n",
       "      <th>354367</th>\n",
       "      <td>2016-03-19 18:57:12</td>\n",
       "      <td>9200</td>\n",
       "      <td>bus</td>\n",
       "      <td>1996</td>\n",
       "      <td>manual</td>\n",
       "      <td>102</td>\n",
       "      <td>transporter</td>\n",
       "      <td>150000</td>\n",
       "      <td>3</td>\n",
       "      <td>gasoline</td>\n",
       "      <td>volkswagen</td>\n",
       "      <td>no</td>\n",
       "      <td>2016-03-19 00:00:00</td>\n",
       "      <td>0</td>\n",
       "      <td>87439</td>\n",
       "      <td>2016-04-07 07:15:26</td>\n",
       "    </tr>\n",
       "    <tr>\n",
       "      <th>354368</th>\n",
       "      <td>2016-03-20 19:41:08</td>\n",
       "      <td>3400</td>\n",
       "      <td>wagon</td>\n",
       "      <td>2002</td>\n",
       "      <td>manual</td>\n",
       "      <td>100</td>\n",
       "      <td>golf</td>\n",
       "      <td>150000</td>\n",
       "      <td>6</td>\n",
       "      <td>gasoline</td>\n",
       "      <td>volkswagen</td>\n",
       "      <td>NaN</td>\n",
       "      <td>2016-03-20 00:00:00</td>\n",
       "      <td>0</td>\n",
       "      <td>40764</td>\n",
       "      <td>2016-03-24 12:45:21</td>\n",
       "    </tr>\n",
       "  </tbody>\n",
       "</table>\n",
       "<p>354369 rows × 16 columns</p>\n",
       "</div>"
      ],
      "text/plain": [
       "                DateCrawled  Price  VehicleType  RegistrationYear Gearbox  \\\n",
       "0       2016-03-24 11:52:17    480          NaN              1993  manual   \n",
       "1       2016-03-24 10:58:45  18300        coupe              2011  manual   \n",
       "2       2016-03-14 12:52:21   9800          suv              2004    auto   \n",
       "3       2016-03-17 16:54:04   1500        small              2001  manual   \n",
       "4       2016-03-31 17:25:20   3600        small              2008  manual   \n",
       "...                     ...    ...          ...               ...     ...   \n",
       "354364  2016-03-21 09:50:58      0          NaN              2005  manual   \n",
       "354365  2016-03-14 17:48:27   2200          NaN              2005     NaN   \n",
       "354366  2016-03-05 19:56:21   1199  convertible              2000    auto   \n",
       "354367  2016-03-19 18:57:12   9200          bus              1996  manual   \n",
       "354368  2016-03-20 19:41:08   3400        wagon              2002  manual   \n",
       "\n",
       "        Power        Model  Kilometer  RegistrationMonth  FuelType  \\\n",
       "0           0         golf     150000                  0    petrol   \n",
       "1         190          NaN     125000                  5  gasoline   \n",
       "2         163        grand     125000                  8  gasoline   \n",
       "3          75         golf     150000                  6    petrol   \n",
       "4          69        fabia      90000                  7  gasoline   \n",
       "...       ...          ...        ...                ...       ...   \n",
       "354364      0         colt     150000                  7    petrol   \n",
       "354365      0          NaN      20000                  1       NaN   \n",
       "354366    101       fortwo     125000                  3    petrol   \n",
       "354367    102  transporter     150000                  3  gasoline   \n",
       "354368    100         golf     150000                  6  gasoline   \n",
       "\n",
       "                 Brand NotRepaired          DateCreated  NumberOfPictures  \\\n",
       "0           volkswagen         NaN  2016-03-24 00:00:00                 0   \n",
       "1                 audi         yes  2016-03-24 00:00:00                 0   \n",
       "2                 jeep         NaN  2016-03-14 00:00:00                 0   \n",
       "3           volkswagen          no  2016-03-17 00:00:00                 0   \n",
       "4                skoda          no  2016-03-31 00:00:00                 0   \n",
       "...                ...         ...                  ...               ...   \n",
       "354364      mitsubishi         yes  2016-03-21 00:00:00                 0   \n",
       "354365  sonstige_autos         NaN  2016-03-14 00:00:00                 0   \n",
       "354366           smart          no  2016-03-05 00:00:00                 0   \n",
       "354367      volkswagen          no  2016-03-19 00:00:00                 0   \n",
       "354368      volkswagen         NaN  2016-03-20 00:00:00                 0   \n",
       "\n",
       "        PostalCode             LastSeen  \n",
       "0            70435  2016-04-07 03:16:57  \n",
       "1            66954  2016-04-07 01:46:50  \n",
       "2            90480  2016-04-05 12:47:46  \n",
       "3            91074  2016-03-17 17:40:17  \n",
       "4            60437  2016-04-06 10:17:21  \n",
       "...            ...                  ...  \n",
       "354364        2694  2016-03-21 10:42:49  \n",
       "354365       39576  2016-04-06 00:46:52  \n",
       "354366       26135  2016-03-11 18:17:12  \n",
       "354367       87439  2016-04-07 07:15:26  \n",
       "354368       40764  2016-03-24 12:45:21  \n",
       "\n",
       "[354369 rows x 16 columns]"
      ]
     },
     "execution_count": 4,
     "metadata": {},
     "output_type": "execute_result"
    }
   ],
   "source": [
    "data = pd.read_csv('C:\\\\Users\\\\vasil\\\\Downloads\\\\Chislennye_metody\\\\autos.csv')\n",
    "    \n",
    "data"
   ]
  },
  {
   "cell_type": "code",
   "execution_count": 5,
   "metadata": {},
   "outputs": [
    {
     "name": "stderr",
     "output_type": "stream",
     "text": [
      "C:\\Users\\vasil\\AppData\\Local\\Temp/ipykernel_20312/2554096034.py:1: FutureWarning: The default value of regex will change from True to False in a future version.\n",
      "  data.columns = data.columns.str.replace(r\"([A-Z])\", r\" \\1\").str.lower().str.replace(' ', '_').str[1:]\n"
     ]
    },
    {
     "data": {
      "text/plain": [
       "Index(['date_crawled', 'price', 'vehicle_type', 'registration_year', 'gearbox',\n",
       "       'power', 'model', 'kilometer', 'registration_month', 'fuel_type',\n",
       "       'brand', 'not_repaired', 'date_created', 'number_of_pictures',\n",
       "       'postal_code', 'last_seen'],\n",
       "      dtype='object')"
      ]
     },
     "execution_count": 5,
     "metadata": {},
     "output_type": "execute_result"
    }
   ],
   "source": [
    "data.columns = data.columns.str.replace(r\"([A-Z])\", r\" \\1\").str.lower().str.replace(' ', '_').str[1:]\n",
    "data.columns"
   ]
  },
  {
   "cell_type": "code",
   "execution_count": 6,
   "metadata": {
    "scrolled": true
   },
   "outputs": [
    {
     "data": {
      "text/html": [
       "<div>\n",
       "<style scoped>\n",
       "    .dataframe tbody tr th:only-of-type {\n",
       "        vertical-align: middle;\n",
       "    }\n",
       "\n",
       "    .dataframe tbody tr th {\n",
       "        vertical-align: top;\n",
       "    }\n",
       "\n",
       "    .dataframe thead th {\n",
       "        text-align: right;\n",
       "    }\n",
       "</style>\n",
       "<table border=\"1\" class=\"dataframe\">\n",
       "  <thead>\n",
       "    <tr style=\"text-align: right;\">\n",
       "      <th></th>\n",
       "      <th>price</th>\n",
       "      <th>vehicle_type</th>\n",
       "      <th>registration_year</th>\n",
       "      <th>gearbox</th>\n",
       "      <th>power</th>\n",
       "      <th>model</th>\n",
       "      <th>kilometer</th>\n",
       "      <th>fuel_type</th>\n",
       "      <th>brand</th>\n",
       "      <th>not_repaired</th>\n",
       "      <th>number_of_pictures</th>\n",
       "    </tr>\n",
       "  </thead>\n",
       "  <tbody>\n",
       "    <tr>\n",
       "      <th>0</th>\n",
       "      <td>480</td>\n",
       "      <td>NaN</td>\n",
       "      <td>1993</td>\n",
       "      <td>manual</td>\n",
       "      <td>0</td>\n",
       "      <td>golf</td>\n",
       "      <td>150000</td>\n",
       "      <td>petrol</td>\n",
       "      <td>volkswagen</td>\n",
       "      <td>NaN</td>\n",
       "      <td>0</td>\n",
       "    </tr>\n",
       "    <tr>\n",
       "      <th>1</th>\n",
       "      <td>18300</td>\n",
       "      <td>coupe</td>\n",
       "      <td>2011</td>\n",
       "      <td>manual</td>\n",
       "      <td>190</td>\n",
       "      <td>NaN</td>\n",
       "      <td>125000</td>\n",
       "      <td>gasoline</td>\n",
       "      <td>audi</td>\n",
       "      <td>yes</td>\n",
       "      <td>0</td>\n",
       "    </tr>\n",
       "    <tr>\n",
       "      <th>2</th>\n",
       "      <td>9800</td>\n",
       "      <td>suv</td>\n",
       "      <td>2004</td>\n",
       "      <td>auto</td>\n",
       "      <td>163</td>\n",
       "      <td>grand</td>\n",
       "      <td>125000</td>\n",
       "      <td>gasoline</td>\n",
       "      <td>jeep</td>\n",
       "      <td>NaN</td>\n",
       "      <td>0</td>\n",
       "    </tr>\n",
       "    <tr>\n",
       "      <th>3</th>\n",
       "      <td>1500</td>\n",
       "      <td>small</td>\n",
       "      <td>2001</td>\n",
       "      <td>manual</td>\n",
       "      <td>75</td>\n",
       "      <td>golf</td>\n",
       "      <td>150000</td>\n",
       "      <td>petrol</td>\n",
       "      <td>volkswagen</td>\n",
       "      <td>no</td>\n",
       "      <td>0</td>\n",
       "    </tr>\n",
       "    <tr>\n",
       "      <th>4</th>\n",
       "      <td>3600</td>\n",
       "      <td>small</td>\n",
       "      <td>2008</td>\n",
       "      <td>manual</td>\n",
       "      <td>69</td>\n",
       "      <td>fabia</td>\n",
       "      <td>90000</td>\n",
       "      <td>gasoline</td>\n",
       "      <td>skoda</td>\n",
       "      <td>no</td>\n",
       "      <td>0</td>\n",
       "    </tr>\n",
       "  </tbody>\n",
       "</table>\n",
       "</div>"
      ],
      "text/plain": [
       "   price vehicle_type  registration_year gearbox  power  model  kilometer  \\\n",
       "0    480          NaN               1993  manual      0   golf     150000   \n",
       "1  18300        coupe               2011  manual    190    NaN     125000   \n",
       "2   9800          suv               2004    auto    163  grand     125000   \n",
       "3   1500        small               2001  manual     75   golf     150000   \n",
       "4   3600        small               2008  manual     69  fabia      90000   \n",
       "\n",
       "  fuel_type       brand not_repaired  number_of_pictures  \n",
       "0    petrol  volkswagen          NaN                   0  \n",
       "1  gasoline        audi          yes                   0  \n",
       "2  gasoline        jeep          NaN                   0  \n",
       "3    petrol  volkswagen           no                   0  \n",
       "4  gasoline       skoda           no                   0  "
      ]
     },
     "execution_count": 6,
     "metadata": {},
     "output_type": "execute_result"
    }
   ],
   "source": [
    "#Удалим из таблицы столбцы, которые не потребуются для построения модели \n",
    "data.drop(columns=['date_crawled', 'registration_month', 'date_created','postal_code', 'last_seen'], inplace=True)\n",
    "data.head()"
   ]
  },
  {
   "cell_type": "code",
   "execution_count": 7,
   "metadata": {},
   "outputs": [
    {
     "data": {
      "text/plain": [
       "0        10772\n",
       "500       5670\n",
       "1500      5394\n",
       "1000      4649\n",
       "1200      4594\n",
       "         ...  \n",
       "1368         1\n",
       "233          1\n",
       "11080        1\n",
       "16340        1\n",
       "10985        1\n",
       "Name: price, Length: 3731, dtype: int64"
      ]
     },
     "execution_count": 7,
     "metadata": {},
     "output_type": "execute_result"
    }
   ],
   "source": [
    "data['price'].value_counts()"
   ]
  },
  {
   "cell_type": "code",
   "execution_count": 8,
   "metadata": {},
   "outputs": [],
   "source": [
    "#Исключим нулевые значения цены \n",
    "data = data.query('price != 0')"
   ]
  },
  {
   "cell_type": "code",
   "execution_count": 9,
   "metadata": {},
   "outputs": [
    {
     "data": {
      "text/plain": [
       "1     1189\n",
       "10      84\n",
       "5       26\n",
       "2       12\n",
       "8        9\n",
       "3        8\n",
       "9        8\n",
       "7        3\n",
       "4        1\n",
       "Name: price, dtype: int64"
      ]
     },
     "execution_count": 9,
     "metadata": {},
     "output_type": "execute_result"
    }
   ],
   "source": [
    "data.query('0 <= price <= 10')['price'].value_counts()"
   ]
  },
  {
   "cell_type": "code",
   "execution_count": 10,
   "metadata": {},
   "outputs": [],
   "source": [
    "#Сделаем срез \n",
    "data = data.query('price > 10')"
   ]
  },
  {
   "cell_type": "code",
   "execution_count": 11,
   "metadata": {},
   "outputs": [
    {
     "data": {
      "text/plain": [
       "price                 0.000000\n",
       "vehicle_type          0.097009\n",
       "registration_year     0.000000\n",
       "gearbox               0.049384\n",
       "power                 0.000000\n",
       "model                 0.050345\n",
       "kilometer             0.000000\n",
       "fuel_type             0.084562\n",
       "brand                 0.000000\n",
       "not_repaired          0.190284\n",
       "number_of_pictures    0.000000\n",
       "dtype: float64"
      ]
     },
     "execution_count": 11,
     "metadata": {},
     "output_type": "execute_result"
    }
   ],
   "source": [
    "#Проверим таблицу на наличие пропусков \n",
    "data.isna().mean()"
   ]
  },
  {
   "cell_type": "code",
   "execution_count": 12,
   "metadata": {},
   "outputs": [
    {
     "name": "stdout",
     "output_type": "stream",
     "text": [
      "<class 'pandas.core.frame.DataFrame'>\n",
      "Int64Index: 342257 entries, 0 to 354368\n",
      "Data columns (total 11 columns):\n",
      " #   Column              Non-Null Count   Dtype \n",
      "---  ------              --------------   ----- \n",
      " 0   price               342257 non-null  int64 \n",
      " 1   vehicle_type        309055 non-null  object\n",
      " 2   registration_year   342257 non-null  int64 \n",
      " 3   gearbox             325355 non-null  object\n",
      " 4   power               342257 non-null  int64 \n",
      " 5   model               325026 non-null  object\n",
      " 6   kilometer           342257 non-null  int64 \n",
      " 7   fuel_type           313315 non-null  object\n",
      " 8   brand               342257 non-null  object\n",
      " 9   not_repaired        277131 non-null  object\n",
      " 10  number_of_pictures  342257 non-null  int64 \n",
      "dtypes: int64(5), object(6)\n",
      "memory usage: 31.3+ MB\n"
     ]
    }
   ],
   "source": [
    "data.info()"
   ]
  },
  {
   "cell_type": "markdown",
   "metadata": {},
   "source": [
    "Все столбцы имеющие пропуски, явяются категориальными, поэтому пропуски в столбцах  `vehicle_type`, `gearbox`, `model`, `fuel_type `, `not_repaired` заполним новой категорией no data. "
   ]
  },
  {
   "cell_type": "code",
   "execution_count": 13,
   "metadata": {},
   "outputs": [],
   "source": [
    "data['vehicle_type'].replace(np.nan, 'no data', inplace = True)\n",
    "data['gearbox'].replace(np.nan, 'no data', inplace = True)\n",
    "data['model'].replace(np.nan, 'no data', inplace = True)\n",
    "data['fuel_type'].replace(np.nan, 'no data', inplace = True)\n",
    "data['not_repaired'].replace(np.nan, 'no data', inplace = True)"
   ]
  },
  {
   "cell_type": "code",
   "execution_count": 14,
   "metadata": {},
   "outputs": [
    {
     "data": {
      "text/plain": [
       "price                 0\n",
       "vehicle_type          0\n",
       "registration_year     0\n",
       "gearbox               0\n",
       "power                 0\n",
       "model                 0\n",
       "kilometer             0\n",
       "fuel_type             0\n",
       "brand                 0\n",
       "not_repaired          0\n",
       "number_of_pictures    0\n",
       "dtype: int64"
      ]
     },
     "execution_count": 14,
     "metadata": {},
     "output_type": "execute_result"
    }
   ],
   "source": [
    "data.isna().sum()"
   ]
  },
  {
   "cell_type": "code",
   "execution_count": 15,
   "metadata": {},
   "outputs": [
    {
     "data": {
      "text/html": [
       "<div>\n",
       "<style scoped>\n",
       "    .dataframe tbody tr th:only-of-type {\n",
       "        vertical-align: middle;\n",
       "    }\n",
       "\n",
       "    .dataframe tbody tr th {\n",
       "        vertical-align: top;\n",
       "    }\n",
       "\n",
       "    .dataframe thead th {\n",
       "        text-align: right;\n",
       "    }\n",
       "</style>\n",
       "<table border=\"1\" class=\"dataframe\">\n",
       "  <thead>\n",
       "    <tr style=\"text-align: right;\">\n",
       "      <th></th>\n",
       "      <th>price</th>\n",
       "      <th>registration_year</th>\n",
       "      <th>power</th>\n",
       "      <th>kilometer</th>\n",
       "      <th>number_of_pictures</th>\n",
       "    </tr>\n",
       "  </thead>\n",
       "  <tbody>\n",
       "    <tr>\n",
       "      <th>count</th>\n",
       "      <td>342257.000000</td>\n",
       "      <td>342257.000000</td>\n",
       "      <td>342257.000000</td>\n",
       "      <td>342257.000000</td>\n",
       "      <td>342257.0</td>\n",
       "    </tr>\n",
       "    <tr>\n",
       "      <th>mean</th>\n",
       "      <td>4572.949184</td>\n",
       "      <td>2004.075700</td>\n",
       "      <td>111.125470</td>\n",
       "      <td>128396.745720</td>\n",
       "      <td>0.0</td>\n",
       "    </tr>\n",
       "    <tr>\n",
       "      <th>std</th>\n",
       "      <td>4514.872802</td>\n",
       "      <td>77.264358</td>\n",
       "      <td>188.194035</td>\n",
       "      <td>37407.668003</td>\n",
       "      <td>0.0</td>\n",
       "    </tr>\n",
       "    <tr>\n",
       "      <th>min</th>\n",
       "      <td>11.000000</td>\n",
       "      <td>1000.000000</td>\n",
       "      <td>0.000000</td>\n",
       "      <td>5000.000000</td>\n",
       "      <td>0.0</td>\n",
       "    </tr>\n",
       "    <tr>\n",
       "      <th>25%</th>\n",
       "      <td>1200.000000</td>\n",
       "      <td>1999.000000</td>\n",
       "      <td>69.000000</td>\n",
       "      <td>125000.000000</td>\n",
       "      <td>0.0</td>\n",
       "    </tr>\n",
       "    <tr>\n",
       "      <th>50%</th>\n",
       "      <td>2900.000000</td>\n",
       "      <td>2003.000000</td>\n",
       "      <td>105.000000</td>\n",
       "      <td>150000.000000</td>\n",
       "      <td>0.0</td>\n",
       "    </tr>\n",
       "    <tr>\n",
       "      <th>75%</th>\n",
       "      <td>6500.000000</td>\n",
       "      <td>2008.000000</td>\n",
       "      <td>143.000000</td>\n",
       "      <td>150000.000000</td>\n",
       "      <td>0.0</td>\n",
       "    </tr>\n",
       "    <tr>\n",
       "      <th>max</th>\n",
       "      <td>20000.000000</td>\n",
       "      <td>9999.000000</td>\n",
       "      <td>20000.000000</td>\n",
       "      <td>150000.000000</td>\n",
       "      <td>0.0</td>\n",
       "    </tr>\n",
       "  </tbody>\n",
       "</table>\n",
       "</div>"
      ],
      "text/plain": [
       "               price  registration_year          power      kilometer  \\\n",
       "count  342257.000000      342257.000000  342257.000000  342257.000000   \n",
       "mean     4572.949184        2004.075700     111.125470  128396.745720   \n",
       "std      4514.872802          77.264358     188.194035   37407.668003   \n",
       "min        11.000000        1000.000000       0.000000    5000.000000   \n",
       "25%      1200.000000        1999.000000      69.000000  125000.000000   \n",
       "50%      2900.000000        2003.000000     105.000000  150000.000000   \n",
       "75%      6500.000000        2008.000000     143.000000  150000.000000   \n",
       "max     20000.000000        9999.000000   20000.000000  150000.000000   \n",
       "\n",
       "       number_of_pictures  \n",
       "count            342257.0  \n",
       "mean                  0.0  \n",
       "std                   0.0  \n",
       "min                   0.0  \n",
       "25%                   0.0  \n",
       "50%                   0.0  \n",
       "75%                   0.0  \n",
       "max                   0.0  "
      ]
     },
     "execution_count": 15,
     "metadata": {},
     "output_type": "execute_result"
    }
   ],
   "source": [
    "data.describe()"
   ]
  },
  {
   "cell_type": "code",
   "execution_count": 16,
   "metadata": {},
   "outputs": [],
   "source": [
    "# Столбец с количеством фотографий имеет только нулевые значения, исключим его из числа признаков \n",
    "data = data.drop(['number_of_pictures'],axis=1)"
   ]
  },
  {
   "cell_type": "code",
   "execution_count": 17,
   "metadata": {},
   "outputs": [],
   "source": [
    "data = data.drop_duplicates()"
   ]
  },
  {
   "cell_type": "code",
   "execution_count": 18,
   "metadata": {},
   "outputs": [
    {
     "data": {
      "text/plain": [
       "0"
      ]
     },
     "execution_count": 18,
     "metadata": {},
     "output_type": "execute_result"
    }
   ],
   "source": [
    "data.duplicated().sum()"
   ]
  },
  {
   "cell_type": "markdown",
   "metadata": {},
   "source": [
    "### Исследование данных "
   ]
  },
  {
   "cell_type": "markdown",
   "metadata": {},
   "source": [
    "Цена на машины является целевым признаком, поэтому корректировать этот столбец не будем. Рассмотрим распределение цены при помощи графиков. "
   ]
  },
  {
   "cell_type": "code",
   "execution_count": 19,
   "metadata": {},
   "outputs": [
    {
     "data": {
      "image/png": "[encoded data removed]",
      "text/plain": [
       "<Figure size 648x504 with 1 Axes>"
      ]
     },
     "metadata": {
      "needs_background": "light"
     },
     "output_type": "display_data"
    }
   ],
   "source": [
    "data['price'].hist(bins=50, figsize=(9,7), edgecolor='black', linewidth=2)\n",
    "plt.title('Распределение цен на машины')\n",
    "plt.xlabel('Цена в евро')\n",
    "plt.show()"
   ]
  },
  {
   "cell_type": "code",
   "execution_count": 20,
   "metadata": {},
   "outputs": [
    {
     "data": {
      "image/png": "[encoded data removed]",
      "text/plain": [
       "<Figure size 432x288 with 1 Axes>"
      ]
     },
     "metadata": {
      "needs_background": "light"
     },
     "output_type": "display_data"
    }
   ],
   "source": [
    "sns.boxplot(y='price',data=data) \n",
    "plt.title('Распределение цен на машины')\n",
    "plt.xlabel('Цена в евро')\n",
    "plt.show()"
   ]
  },
  {
   "cell_type": "markdown",
   "metadata": {},
   "source": [
    "Проведем анализ количественных признаков на предмет аномалий и редких значений."
   ]
  },
  {
   "cell_type": "code",
   "execution_count": 21,
   "metadata": {},
   "outputs": [
    {
     "data": {
      "image/png": "[encoded data removed]",
      "text/plain": [
       "<Figure size 720x504 with 1 Axes>"
      ]
     },
     "metadata": {
      "needs_background": "light"
     },
     "output_type": "display_data"
    }
   ],
   "source": [
    "data['registration_year'].hist(bins=50, range=(1950,2022), figsize=(10,7), edgecolor='black', linewidth=2)\n",
    "plt.title('Распределение машин по году регистрации')\n",
    "plt.xlabel('Год регистрации')\n",
    "plt.show()"
   ]
  },
  {
   "cell_type": "code",
   "execution_count": 22,
   "metadata": {},
   "outputs": [
    {
     "data": {
      "image/png": "[encoded data removed]",
      "text/plain": [
       "<Figure size 432x288 with 1 Axes>"
      ]
     },
     "metadata": {
      "needs_background": "light"
     },
     "output_type": "display_data"
    }
   ],
   "source": [
    "sns.boxplot(y='registration_year',data=data) \n",
    "plt.title('Распределение машин по году регистрации, редкие значения')\n",
    "plt.ylim(1000,9999)\n",
    "plt.show()"
   ]
  },
  {
   "cell_type": "code",
   "execution_count": 23,
   "metadata": {},
   "outputs": [
    {
     "data": {
      "image/png": "[encoded data removed]",
      "text/plain": [
       "<Figure size 432x288 with 1 Axes>"
      ]
     },
     "metadata": {
      "needs_background": "light"
     },
     "output_type": "display_data"
    }
   ],
   "source": [
    "#Посмотрим редкие значения на графике boxplot\n",
    "sns.boxplot(y='registration_year',data=data) \n",
    "plt.title('Распределение машин по году регистрации за период 1910-2020')\n",
    "plt.ylim(1910,2022)\n",
    "plt.show()"
   ]
  },
  {
   "cell_type": "markdown",
   "metadata": {},
   "source": [
    "Год регистрации явно имеет аномалии, такие как: минимальное (1000) и максимальное значение (9999). Если срезать сверху мы можем по значению текущего года (2022), то для того чтобы отледить аномалии снизу был построен еще график ящика с усами. Хвост до 1 квартиля достаточно длиный, при том машины зарегистрированные до 1990 являются редкими, вычислим их долю. "
   ]
  },
  {
   "cell_type": "code",
   "execution_count": 24,
   "metadata": {},
   "outputs": [
    {
     "data": {
      "text/plain": [
       "0.028090920332746225"
      ]
     },
     "execution_count": 24,
     "metadata": {},
     "output_type": "execute_result"
    }
   ],
   "source": [
    "#Доля машин с годом регистрации раньше 1990 года \n",
    "\n",
    "data.loc[data['registration_year'] < 1990]['registration_year'].count()/data.loc[data['registration_year'] != 0]['registration_year'].count()"
   ]
  },
  {
   "cell_type": "markdown",
   "metadata": {},
   "source": [
    "Доля машин с годом регистрации раньше 1990 года меньше 3%. Далее сделаем срез по годам от 1990 до 2016 и сохраним его в новой таблице. "
   ]
  },
  {
   "cell_type": "code",
   "execution_count": 25,
   "metadata": {},
   "outputs": [
    {
     "data": {
      "text/plain": [
       "(277948, 10)"
      ]
     },
     "execution_count": 25,
     "metadata": {},
     "output_type": "execute_result"
    }
   ],
   "source": [
    "data_good = data.query('1990 <= registration_year <= 2016')\n",
    "data_good.shape"
   ]
  },
  {
   "cell_type": "code",
   "execution_count": 26,
   "metadata": {},
   "outputs": [
    {
     "data": {
      "image/png": "[encoded data removed]",
      "text/plain": [
       "<Figure size 648x504 with 1 Axes>"
      ]
     },
     "metadata": {
      "needs_background": "light"
     },
     "output_type": "display_data"
    }
   ],
   "source": [
    "data['power'].hist(bins=50,range=(1,800), figsize=(9,7), edgecolor='black', linewidth=2)\n",
    "plt.title('Распределение машин по мощности двигателя')\n",
    "plt.xlabel('л.с.')\n",
    "plt.show()"
   ]
  },
  {
   "cell_type": "code",
   "execution_count": 27,
   "metadata": {},
   "outputs": [
    {
     "data": {
      "image/png": "[encoded data removed]",
      "text/plain": [
       "<Figure size 432x288 with 1 Axes>"
      ]
     },
     "metadata": {
      "needs_background": "light"
     },
     "output_type": "display_data"
    }
   ],
   "source": [
    "#Посмотрим редкие значения на графике boxplot\n",
    "sns.boxplot(y='power',data=data) \n",
    "plt.ylim(0,20000)\n",
    "plt.title('Распределение машин по мощности')\n",
    "plt.xlabel('л.с.')\n",
    "plt.show()"
   ]
  },
  {
   "cell_type": "markdown",
   "metadata": {},
   "source": [
    "В данных есть не точности, часть больших значений заполнена неверно. Посмотрм какие модели имеют значение мощности свыше 1000. "
   ]
  },
  {
   "cell_type": "code",
   "execution_count": 28,
   "metadata": {},
   "outputs": [
    {
     "data": {
      "text/html": [
       "<div>\n",
       "<style scoped>\n",
       "    .dataframe tbody tr th:only-of-type {\n",
       "        vertical-align: middle;\n",
       "    }\n",
       "\n",
       "    .dataframe tbody tr th {\n",
       "        vertical-align: top;\n",
       "    }\n",
       "\n",
       "    .dataframe thead th {\n",
       "        text-align: right;\n",
       "    }\n",
       "</style>\n",
       "<table border=\"1\" class=\"dataframe\">\n",
       "  <thead>\n",
       "    <tr style=\"text-align: right;\">\n",
       "      <th></th>\n",
       "      <th>price</th>\n",
       "      <th>vehicle_type</th>\n",
       "      <th>registration_year</th>\n",
       "      <th>gearbox</th>\n",
       "      <th>power</th>\n",
       "      <th>model</th>\n",
       "      <th>kilometer</th>\n",
       "      <th>fuel_type</th>\n",
       "      <th>brand</th>\n",
       "      <th>not_repaired</th>\n",
       "    </tr>\n",
       "  </thead>\n",
       "  <tbody>\n",
       "    <tr>\n",
       "      <th>5328</th>\n",
       "      <td>500</td>\n",
       "      <td>wagon</td>\n",
       "      <td>1999</td>\n",
       "      <td>manual</td>\n",
       "      <td>1001</td>\n",
       "      <td>astra</td>\n",
       "      <td>150000</td>\n",
       "      <td>petrol</td>\n",
       "      <td>opel</td>\n",
       "      <td>no data</td>\n",
       "    </tr>\n",
       "    <tr>\n",
       "      <th>351947</th>\n",
       "      <td>1500</td>\n",
       "      <td>bus</td>\n",
       "      <td>2001</td>\n",
       "      <td>manual</td>\n",
       "      <td>1001</td>\n",
       "      <td>zafira</td>\n",
       "      <td>5000</td>\n",
       "      <td>gasoline</td>\n",
       "      <td>opel</td>\n",
       "      <td>no</td>\n",
       "    </tr>\n",
       "    <tr>\n",
       "      <th>307044</th>\n",
       "      <td>1500</td>\n",
       "      <td>sedan</td>\n",
       "      <td>1999</td>\n",
       "      <td>manual</td>\n",
       "      <td>1001</td>\n",
       "      <td>astra</td>\n",
       "      <td>125000</td>\n",
       "      <td>petrol</td>\n",
       "      <td>opel</td>\n",
       "      <td>no</td>\n",
       "    </tr>\n",
       "    <tr>\n",
       "      <th>79305</th>\n",
       "      <td>1650</td>\n",
       "      <td>small</td>\n",
       "      <td>2000</td>\n",
       "      <td>auto</td>\n",
       "      <td>1001</td>\n",
       "      <td>a_klasse</td>\n",
       "      <td>150000</td>\n",
       "      <td>petrol</td>\n",
       "      <td>mercedes_benz</td>\n",
       "      <td>no</td>\n",
       "    </tr>\n",
       "    <tr>\n",
       "      <th>179821</th>\n",
       "      <td>1100</td>\n",
       "      <td>sedan</td>\n",
       "      <td>1995</td>\n",
       "      <td>manual</td>\n",
       "      <td>1001</td>\n",
       "      <td>a4</td>\n",
       "      <td>150000</td>\n",
       "      <td>no data</td>\n",
       "      <td>audi</td>\n",
       "      <td>no</td>\n",
       "    </tr>\n",
       "    <tr>\n",
       "      <th>49724</th>\n",
       "      <td>1500</td>\n",
       "      <td>wagon</td>\n",
       "      <td>2003</td>\n",
       "      <td>manual</td>\n",
       "      <td>1001</td>\n",
       "      <td>focus</td>\n",
       "      <td>150000</td>\n",
       "      <td>gasoline</td>\n",
       "      <td>ford</td>\n",
       "      <td>no data</td>\n",
       "    </tr>\n",
       "    <tr>\n",
       "      <th>59887</th>\n",
       "      <td>300</td>\n",
       "      <td>sedan</td>\n",
       "      <td>2004</td>\n",
       "      <td>manual</td>\n",
       "      <td>1002</td>\n",
       "      <td>no data</td>\n",
       "      <td>150000</td>\n",
       "      <td>no data</td>\n",
       "      <td>ford</td>\n",
       "      <td>yes</td>\n",
       "    </tr>\n",
       "    <tr>\n",
       "      <th>254594</th>\n",
       "      <td>3990</td>\n",
       "      <td>bus</td>\n",
       "      <td>2003</td>\n",
       "      <td>manual</td>\n",
       "      <td>1003</td>\n",
       "      <td>other</td>\n",
       "      <td>40000</td>\n",
       "      <td>petrol</td>\n",
       "      <td>citroen</td>\n",
       "      <td>no</td>\n",
       "    </tr>\n",
       "    <tr>\n",
       "      <th>345756</th>\n",
       "      <td>850</td>\n",
       "      <td>no data</td>\n",
       "      <td>2005</td>\n",
       "      <td>manual</td>\n",
       "      <td>1003</td>\n",
       "      <td>ka</td>\n",
       "      <td>5000</td>\n",
       "      <td>petrol</td>\n",
       "      <td>ford</td>\n",
       "      <td>no</td>\n",
       "    </tr>\n",
       "    <tr>\n",
       "      <th>347016</th>\n",
       "      <td>450</td>\n",
       "      <td>sedan</td>\n",
       "      <td>1996</td>\n",
       "      <td>auto</td>\n",
       "      <td>1004</td>\n",
       "      <td>vectra</td>\n",
       "      <td>80000</td>\n",
       "      <td>petrol</td>\n",
       "      <td>opel</td>\n",
       "      <td>yes</td>\n",
       "    </tr>\n",
       "  </tbody>\n",
       "</table>\n",
       "</div>"
      ],
      "text/plain": [
       "        price vehicle_type  registration_year gearbox  power     model  \\\n",
       "5328      500        wagon               1999  manual   1001     astra   \n",
       "351947   1500          bus               2001  manual   1001    zafira   \n",
       "307044   1500        sedan               1999  manual   1001     astra   \n",
       "79305    1650        small               2000    auto   1001  a_klasse   \n",
       "179821   1100        sedan               1995  manual   1001        a4   \n",
       "49724    1500        wagon               2003  manual   1001     focus   \n",
       "59887     300        sedan               2004  manual   1002   no data   \n",
       "254594   3990          bus               2003  manual   1003     other   \n",
       "345756    850      no data               2005  manual   1003        ka   \n",
       "347016    450        sedan               1996    auto   1004    vectra   \n",
       "\n",
       "        kilometer fuel_type          brand not_repaired  \n",
       "5328       150000    petrol           opel      no data  \n",
       "351947       5000  gasoline           opel           no  \n",
       "307044     125000    petrol           opel           no  \n",
       "79305      150000    petrol  mercedes_benz           no  \n",
       "179821     150000   no data           audi           no  \n",
       "49724      150000  gasoline           ford      no data  \n",
       "59887      150000   no data           ford          yes  \n",
       "254594      40000    petrol        citroen           no  \n",
       "345756       5000    petrol           ford           no  \n",
       "347016      80000    petrol           opel          yes  "
      ]
     },
     "execution_count": 28,
     "metadata": {},
     "output_type": "execute_result"
    }
   ],
   "source": [
    "data.loc[data['power'] > 1000].sort_values(by= 'power').head(10)"
   ]
  },
  {
   "cell_type": "markdown",
   "metadata": {},
   "source": [
    "В данных опрделенно ошибка, таких значений у этих моделей быть не может. Посмотрим какая доля машим имеет значение более 350л.с."
   ]
  },
  {
   "cell_type": "code",
   "execution_count": 29,
   "metadata": {},
   "outputs": [
    {
     "data": {
      "text/plain": [
       "0.004089987216446922"
      ]
     },
     "execution_count": 29,
     "metadata": {},
     "output_type": "execute_result"
    }
   ],
   "source": [
    "#Доля машин с мощностью двигателя более 350 л.с. \n",
    "data.loc[data['power'] > 350]['power'].count()/data.loc[data['power'] != 0]['power'].count()"
   ]
  },
  {
   "cell_type": "code",
   "execution_count": 30,
   "metadata": {},
   "outputs": [
    {
     "data": {
      "text/html": [
       "<div>\n",
       "<style scoped>\n",
       "    .dataframe tbody tr th:only-of-type {\n",
       "        vertical-align: middle;\n",
       "    }\n",
       "\n",
       "    .dataframe tbody tr th {\n",
       "        vertical-align: top;\n",
       "    }\n",
       "\n",
       "    .dataframe thead th {\n",
       "        text-align: right;\n",
       "    }\n",
       "</style>\n",
       "<table border=\"1\" class=\"dataframe\">\n",
       "  <thead>\n",
       "    <tr style=\"text-align: right;\">\n",
       "      <th></th>\n",
       "      <th>price</th>\n",
       "      <th>vehicle_type</th>\n",
       "      <th>registration_year</th>\n",
       "      <th>gearbox</th>\n",
       "      <th>power</th>\n",
       "      <th>model</th>\n",
       "      <th>kilometer</th>\n",
       "      <th>fuel_type</th>\n",
       "      <th>brand</th>\n",
       "      <th>not_repaired</th>\n",
       "    </tr>\n",
       "  </thead>\n",
       "  <tbody>\n",
       "    <tr>\n",
       "      <th>181200</th>\n",
       "      <td>15000</td>\n",
       "      <td>other</td>\n",
       "      <td>1969</td>\n",
       "      <td>manual</td>\n",
       "      <td>351</td>\n",
       "      <td>other</td>\n",
       "      <td>90000</td>\n",
       "      <td>petrol</td>\n",
       "      <td>ford</td>\n",
       "      <td>no</td>\n",
       "    </tr>\n",
       "    <tr>\n",
       "      <th>117691</th>\n",
       "      <td>18500</td>\n",
       "      <td>convertible</td>\n",
       "      <td>2007</td>\n",
       "      <td>auto</td>\n",
       "      <td>352</td>\n",
       "      <td>slk</td>\n",
       "      <td>150000</td>\n",
       "      <td>petrol</td>\n",
       "      <td>mercedes_benz</td>\n",
       "      <td>no data</td>\n",
       "    </tr>\n",
       "    <tr>\n",
       "      <th>116730</th>\n",
       "      <td>4900</td>\n",
       "      <td>wagon</td>\n",
       "      <td>2002</td>\n",
       "      <td>auto</td>\n",
       "      <td>353</td>\n",
       "      <td>other</td>\n",
       "      <td>150000</td>\n",
       "      <td>petrol</td>\n",
       "      <td>mercedes_benz</td>\n",
       "      <td>no</td>\n",
       "    </tr>\n",
       "    <tr>\n",
       "      <th>84354</th>\n",
       "      <td>7000</td>\n",
       "      <td>wagon</td>\n",
       "      <td>2001</td>\n",
       "      <td>auto</td>\n",
       "      <td>354</td>\n",
       "      <td>c_klasse</td>\n",
       "      <td>150000</td>\n",
       "      <td>petrol</td>\n",
       "      <td>mercedes_benz</td>\n",
       "      <td>no</td>\n",
       "    </tr>\n",
       "    <tr>\n",
       "      <th>273424</th>\n",
       "      <td>3150</td>\n",
       "      <td>sedan</td>\n",
       "      <td>1999</td>\n",
       "      <td>auto</td>\n",
       "      <td>354</td>\n",
       "      <td>e_klasse</td>\n",
       "      <td>150000</td>\n",
       "      <td>petrol</td>\n",
       "      <td>mercedes_benz</td>\n",
       "      <td>no</td>\n",
       "    </tr>\n",
       "    <tr>\n",
       "      <th>268634</th>\n",
       "      <td>8000</td>\n",
       "      <td>sedan</td>\n",
       "      <td>2001</td>\n",
       "      <td>auto</td>\n",
       "      <td>354</td>\n",
       "      <td>e_klasse</td>\n",
       "      <td>150000</td>\n",
       "      <td>petrol</td>\n",
       "      <td>mercedes_benz</td>\n",
       "      <td>no</td>\n",
       "    </tr>\n",
       "    <tr>\n",
       "      <th>267088</th>\n",
       "      <td>19300</td>\n",
       "      <td>coupe</td>\n",
       "      <td>2007</td>\n",
       "      <td>manual</td>\n",
       "      <td>354</td>\n",
       "      <td>other</td>\n",
       "      <td>150000</td>\n",
       "      <td>petrol</td>\n",
       "      <td>audi</td>\n",
       "      <td>no</td>\n",
       "    </tr>\n",
       "    <tr>\n",
       "      <th>33501</th>\n",
       "      <td>7000</td>\n",
       "      <td>wagon</td>\n",
       "      <td>2000</td>\n",
       "      <td>auto</td>\n",
       "      <td>354</td>\n",
       "      <td>e_klasse</td>\n",
       "      <td>150000</td>\n",
       "      <td>petrol</td>\n",
       "      <td>mercedes_benz</td>\n",
       "      <td>yes</td>\n",
       "    </tr>\n",
       "    <tr>\n",
       "      <th>116047</th>\n",
       "      <td>10000</td>\n",
       "      <td>sedan</td>\n",
       "      <td>2000</td>\n",
       "      <td>auto</td>\n",
       "      <td>354</td>\n",
       "      <td>e_klasse</td>\n",
       "      <td>125000</td>\n",
       "      <td>petrol</td>\n",
       "      <td>mercedes_benz</td>\n",
       "      <td>no</td>\n",
       "    </tr>\n",
       "    <tr>\n",
       "      <th>218740</th>\n",
       "      <td>8888</td>\n",
       "      <td>wagon</td>\n",
       "      <td>2000</td>\n",
       "      <td>auto</td>\n",
       "      <td>354</td>\n",
       "      <td>e_klasse</td>\n",
       "      <td>150000</td>\n",
       "      <td>lpg</td>\n",
       "      <td>mercedes_benz</td>\n",
       "      <td>no</td>\n",
       "    </tr>\n",
       "  </tbody>\n",
       "</table>\n",
       "</div>"
      ],
      "text/plain": [
       "        price vehicle_type  registration_year gearbox  power     model  \\\n",
       "181200  15000        other               1969  manual    351     other   \n",
       "117691  18500  convertible               2007    auto    352       slk   \n",
       "116730   4900        wagon               2002    auto    353     other   \n",
       "84354    7000        wagon               2001    auto    354  c_klasse   \n",
       "273424   3150        sedan               1999    auto    354  e_klasse   \n",
       "268634   8000        sedan               2001    auto    354  e_klasse   \n",
       "267088  19300        coupe               2007  manual    354     other   \n",
       "33501    7000        wagon               2000    auto    354  e_klasse   \n",
       "116047  10000        sedan               2000    auto    354  e_klasse   \n",
       "218740   8888        wagon               2000    auto    354  e_klasse   \n",
       "\n",
       "        kilometer fuel_type          brand not_repaired  \n",
       "181200      90000    petrol           ford           no  \n",
       "117691     150000    petrol  mercedes_benz      no data  \n",
       "116730     150000    petrol  mercedes_benz           no  \n",
       "84354      150000    petrol  mercedes_benz           no  \n",
       "273424     150000    petrol  mercedes_benz           no  \n",
       "268634     150000    petrol  mercedes_benz           no  \n",
       "267088     150000    petrol           audi           no  \n",
       "33501      150000    petrol  mercedes_benz          yes  \n",
       "116047     125000    petrol  mercedes_benz           no  \n",
       "218740     150000       lpg  mercedes_benz           no  "
      ]
     },
     "execution_count": 30,
     "metadata": {},
     "output_type": "execute_result"
    }
   ],
   "source": [
    "data.loc[data['power'] > 350].sort_values(by= 'power').head(10)"
   ]
  },
  {
   "cell_type": "markdown",
   "metadata": {},
   "source": [
    "Теперь информация о мощности двигателя ближе к истине. Так как устранить аномалию, не зная, причины мы не сможем, сделаем срез по мощности до 350 л.с. и потеряем менее 1% данных."
   ]
  },
  {
   "cell_type": "code",
   "execution_count": 31,
   "metadata": {},
   "outputs": [
    {
     "data": {
      "text/plain": [
       "((299207, 10), (276945, 10))"
      ]
     },
     "execution_count": 31,
     "metadata": {},
     "output_type": "execute_result"
    }
   ],
   "source": [
    "data_good = data_good.query('power <= 350')\n",
    "data.shape, data_good.shape"
   ]
  },
  {
   "cell_type": "code",
   "execution_count": 32,
   "metadata": {},
   "outputs": [
    {
     "data": {
      "image/png": "[encoded data removed]",
      "text/plain": [
       "<Figure size 720x504 with 1 Axes>"
      ]
     },
     "metadata": {
      "needs_background": "light"
     },
     "output_type": "display_data"
    }
   ],
   "source": [
    "data['kilometer'].hist(bins=50,range=(0,16000), figsize=(10,7), edgecolor='black', linewidth=2)\n",
    "plt.title('Распределение машин по величене пробега')\n",
    "plt.xlabel('км')\n",
    "plt.show()"
   ]
  },
  {
   "cell_type": "code",
   "execution_count": 33,
   "metadata": {},
   "outputs": [
    {
     "data": {
      "text/plain": [
       "count    299207.000000\n",
       "mean     127358.734923\n",
       "std       38117.717814\n",
       "min        5000.000000\n",
       "25%      125000.000000\n",
       "50%      150000.000000\n",
       "75%      150000.000000\n",
       "max      150000.000000\n",
       "Name: kilometer, dtype: float64"
      ]
     },
     "execution_count": 33,
     "metadata": {},
     "output_type": "execute_result"
    }
   ],
   "source": [
    "data['kilometer'].describe()"
   ]
  },
  {
   "cell_type": "code",
   "execution_count": 34,
   "metadata": {},
   "outputs": [
    {
     "data": {
      "image/png": "[encoded data removed]",
      "text/plain": [
       "<Figure size 432x288 with 1 Axes>"
      ]
     },
     "metadata": {
      "needs_background": "light"
     },
     "output_type": "display_data"
    }
   ],
   "source": [
    "#Посмотрим редкие значения на графике boxplot\n",
    "sns.boxplot(y='kilometer',data=data) \n",
    "plt.ylim(0,155000)\n",
    "plt.title('Распределение пробега машин')\n",
    "plt.xlabel('км')\n",
    "plt.show()"
   ]
  },
  {
   "cell_type": "markdown",
   "metadata": {},
   "source": [
    "Распредление значений пробега отличается от всех остальных признаков. У других признаков хвост в сторону больших значений, а в случае пробега длинный хвост редких значений слева, от нуля до значений первого квартиля. И только у этого признака среднее меньше медианы. Но в данном случае не будем исключать редкие значения, так как фактический пробег может быть действительно нулевым или иметь небольшое значение. "
   ]
  },
  {
   "cell_type": "markdown",
   "metadata": {},
   "source": [
    "## Обучение моделей"
   ]
  },
  {
   "cell_type": "code",
   "execution_count": 35,
   "metadata": {},
   "outputs": [
    {
     "data": {
      "text/plain": [
       "((166167, 10), (110778, 10))"
      ]
     },
     "execution_count": 35,
     "metadata": {},
     "output_type": "execute_result"
    }
   ],
   "source": [
    "#Разделим данные на обучающую и тестовую выборки\n",
    "train, test = train_test_split(data_good,train_size=0.6, random_state=42)\n",
    "train.shape, test.shape"
   ]
  },
  {
   "cell_type": "code",
   "execution_count": 36,
   "metadata": {},
   "outputs": [
    {
     "data": {
      "text/plain": [
       "((55389, 10), (55389, 10))"
      ]
     },
     "execution_count": 36,
     "metadata": {},
     "output_type": "execute_result"
    }
   ],
   "source": [
    "#Разделим тестовую выборкe на валидационную и тестовую \n",
    "valid, test = train_test_split(test,train_size=0.5, random_state=42)\n",
    "valid.shape, test.shape"
   ]
  },
  {
   "cell_type": "code",
   "execution_count": 37,
   "metadata": {},
   "outputs": [],
   "source": [
    "#Функция оценки качества предсказаний \n",
    "def rmse(test,predict):\n",
    "    return ((mean_squared_error(test,predict))**0.5).round(2)"
   ]
  },
  {
   "cell_type": "markdown",
   "metadata": {},
   "source": [
    "### CatBoost"
   ]
  },
  {
   "cell_type": "markdown",
   "metadata": {},
   "source": [
    "Первую модель обучим при помощи библиотеки CatBoost:"
   ]
  },
  {
   "cell_type": "code",
   "execution_count": 38,
   "metadata": {},
   "outputs": [
    {
     "data": {
      "text/plain": [
       "Index(['price', 'vehicle_type', 'registration_year', 'gearbox', 'power',\n",
       "       'model', 'kilometer', 'fuel_type', 'brand', 'not_repaired'],\n",
       "      dtype='object')"
      ]
     },
     "execution_count": 38,
     "metadata": {},
     "output_type": "execute_result"
    }
   ],
   "source": [
    "train.columns"
   ]
  },
  {
   "cell_type": "code",
   "execution_count": 39,
   "metadata": {},
   "outputs": [],
   "source": [
    "X = ['vehicle_type', 'registration_year', 'gearbox', 'power',\n",
    "       'model', 'kilometer', 'fuel_type', 'brand', 'not_repaired']\n",
    "cat_features = ['vehicle_type','gearbox', 'model','fuel_type', 'brand', 'not_repaired']\n",
    "y = ['price']"
   ]
  },
  {
   "cell_type": "code",
   "execution_count": 40,
   "metadata": {},
   "outputs": [
    {
     "name": "stderr",
     "output_type": "stream",
     "text": [
      "C:\\Users\\vasil\\anaconda3\\lib\\site-packages\\sklearn\\model_selection\\_search.py:922: UserWarning: One or more of the test scores are non-finite: [nan nan nan nan nan nan]\n",
      "  warnings.warn(\n"
     ]
    },
    {
     "name": "stdout",
     "output_type": "stream",
     "text": [
      "0:\tlearn: 3479.6300536\ttest: 3480.4242002\tbest: 3480.4242002 (0)\ttotal: 235ms\tremaining: 3m 54s\n",
      "100:\tlearn: 1556.3794021\ttest: 1585.7269335\tbest: 1585.7269335 (100)\ttotal: 8.61s\tremaining: 1m 16s\n",
      "200:\tlearn: 1505.8721030\ttest: 1560.3777911\tbest: 1560.3777911 (200)\ttotal: 17.3s\tremaining: 1m 8s\n",
      "300:\tlearn: 1474.6140826\ttest: 1549.8606167\tbest: 1549.8606167 (300)\ttotal: 25.8s\tremaining: 59.9s\n",
      "400:\tlearn: 1449.3626351\ttest: 1541.7569434\tbest: 1541.7375662 (399)\ttotal: 34.2s\tremaining: 51.1s\n",
      "500:\tlearn: 1427.5126315\ttest: 1534.3720290\tbest: 1534.2632196 (499)\ttotal: 42.9s\tremaining: 42.7s\n",
      "600:\tlearn: 1409.3179532\ttest: 1531.9414526\tbest: 1531.8113222 (597)\ttotal: 51.3s\tremaining: 34.1s\n",
      "700:\tlearn: 1395.4631372\ttest: 1530.0594568\tbest: 1529.8430237 (672)\ttotal: 59.7s\tremaining: 25.5s\n",
      "800:\tlearn: 1381.0694650\ttest: 1528.9672034\tbest: 1528.9672034 (800)\ttotal: 1m 8s\tremaining: 16.9s\n",
      "900:\tlearn: 1368.5519739\ttest: 1528.3814800\tbest: 1528.3479687 (899)\ttotal: 1m 16s\tremaining: 8.43s\n",
      "999:\tlearn: 1357.5452760\ttest: 1527.0213880\tbest: 1526.9676213 (953)\ttotal: 1m 24s\tremaining: 0us\n",
      "\n",
      "bestTest = 1526.967621\n",
      "bestIteration = 953\n",
      "\n",
      "Shrink model to first 954 iterations.\n",
      "Wall time: 12min 34s\n"
     ]
    },
    {
     "data": {
      "text/plain": [
       "GridSearchCV(cv=2,\n",
       "             estimator=<catboost.core.CatBoostRegressor object at 0x00000260F1D956D0>,\n",
       "             n_jobs=-1,\n",
       "             param_grid={'depth': [6, 8, 10], 'learning_rate': [0.4, 0.6]})"
      ]
     },
     "execution_count": 40,
     "metadata": {},
     "output_type": "execute_result"
    }
   ],
   "source": [
    "%%time\n",
    "\n",
    "CBR = CatBoostRegressor(cat_features=cat_features, eval_metric='RMSE',random_seed=42,verbose=100)\n",
    "parameters_CBR = {\n",
    "               'depth': [6,8,10],\n",
    "               'learning_rate':[0.4,0.6]\n",
    "                }\n",
    "grid_CBR = GridSearchCV(estimator=CBR, param_grid=parameters_CBR, cv=2, n_jobs=-1)\n",
    "\n",
    "grid_CBR.fit(train[X],train[y],eval_set=(valid[X],valid[y]))"
   ]
  },
  {
   "cell_type": "code",
   "execution_count": 41,
   "metadata": {},
   "outputs": [
    {
     "data": {
      "text/plain": [
       "{'depth': 6, 'learning_rate': 0.4}"
      ]
     },
     "execution_count": 41,
     "metadata": {},
     "output_type": "execute_result"
    }
   ],
   "source": [
    "#Лучшие параметры\n",
    "grid_CBR.best_params_"
   ]
  },
  {
   "cell_type": "code",
   "execution_count": 42,
   "metadata": {},
   "outputs": [
    {
     "name": "stdout",
     "output_type": "stream",
     "text": [
      "Wall time: 221 ms\n"
     ]
    }
   ],
   "source": [
    "%%time\n",
    "valid_price_pred_CBR = grid_CBR.predict(valid[X])"
   ]
  },
  {
   "cell_type": "code",
   "execution_count": 43,
   "metadata": {},
   "outputs": [
    {
     "data": {
      "text/plain": [
       "1526.97"
      ]
     },
     "execution_count": 43,
     "metadata": {},
     "output_type": "execute_result"
    }
   ],
   "source": [
    "#Проверим качество предсказаний  первой модели на тестовой выборке\n",
    "rmse_grid_CBR = rmse(valid[y],valid_price_pred_CBR)\n",
    "rmse_grid_CBR"
   ]
  },
  {
   "cell_type": "code",
   "execution_count": 44,
   "metadata": {},
   "outputs": [],
   "source": [
    "time_predict_grid_CBR = '308 ms'\n",
    "time_learning_grid_CBR = '14min 42s'"
   ]
  },
  {
   "cell_type": "markdown",
   "metadata": {},
   "source": [
    "### LightGBM и линейная регрессия "
   ]
  },
  {
   "cell_type": "markdown",
   "metadata": {},
   "source": [
    "Для обучения двух следующих моделей необходимо дополнить подготовку данных преобразованием категориальных признаков и масштабирование их. CatBoost преобразовывает категориальные признаки, поэтому для обучения ему отдаем неизменный датасет. Для обучения моделей линейной регрессии и бустинга LGBMRegressor будем использовать новый датасет с преобразованиями."
   ]
  },
  {
   "cell_type": "code",
   "execution_count": 45,
   "metadata": {},
   "outputs": [
    {
     "data": {
      "text/html": [
       "<div>\n",
       "<style scoped>\n",
       "    .dataframe tbody tr th:only-of-type {\n",
       "        vertical-align: middle;\n",
       "    }\n",
       "\n",
       "    .dataframe tbody tr th {\n",
       "        vertical-align: top;\n",
       "    }\n",
       "\n",
       "    .dataframe thead th {\n",
       "        text-align: right;\n",
       "    }\n",
       "</style>\n",
       "<table border=\"1\" class=\"dataframe\">\n",
       "  <thead>\n",
       "    <tr style=\"text-align: right;\">\n",
       "      <th></th>\n",
       "      <th>price</th>\n",
       "      <th>vehicle_type</th>\n",
       "      <th>registration_year</th>\n",
       "      <th>gearbox</th>\n",
       "      <th>power</th>\n",
       "      <th>model</th>\n",
       "      <th>kilometer</th>\n",
       "      <th>fuel_type</th>\n",
       "      <th>brand</th>\n",
       "      <th>not_repaired</th>\n",
       "    </tr>\n",
       "  </thead>\n",
       "  <tbody>\n",
       "    <tr>\n",
       "      <th>0</th>\n",
       "      <td>244.0</td>\n",
       "      <td>3.0</td>\n",
       "      <td>3.0</td>\n",
       "      <td>1.0</td>\n",
       "      <td>0.0</td>\n",
       "      <td>116.0</td>\n",
       "      <td>12.0</td>\n",
       "      <td>7.0</td>\n",
       "      <td>38.0</td>\n",
       "      <td>1.0</td>\n",
       "    </tr>\n",
       "    <tr>\n",
       "      <th>1</th>\n",
       "      <td>3495.0</td>\n",
       "      <td>2.0</td>\n",
       "      <td>21.0</td>\n",
       "      <td>1.0</td>\n",
       "      <td>189.0</td>\n",
       "      <td>161.0</td>\n",
       "      <td>11.0</td>\n",
       "      <td>2.0</td>\n",
       "      <td>1.0</td>\n",
       "      <td>2.0</td>\n",
       "    </tr>\n",
       "    <tr>\n",
       "      <th>2</th>\n",
       "      <td>2516.0</td>\n",
       "      <td>7.0</td>\n",
       "      <td>14.0</td>\n",
       "      <td>0.0</td>\n",
       "      <td>162.0</td>\n",
       "      <td>117.0</td>\n",
       "      <td>11.0</td>\n",
       "      <td>2.0</td>\n",
       "      <td>14.0</td>\n",
       "      <td>1.0</td>\n",
       "    </tr>\n",
       "    <tr>\n",
       "      <th>3</th>\n",
       "      <td>678.0</td>\n",
       "      <td>6.0</td>\n",
       "      <td>11.0</td>\n",
       "      <td>1.0</td>\n",
       "      <td>74.0</td>\n",
       "      <td>116.0</td>\n",
       "      <td>12.0</td>\n",
       "      <td>7.0</td>\n",
       "      <td>38.0</td>\n",
       "      <td>0.0</td>\n",
       "    </tr>\n",
       "    <tr>\n",
       "      <th>4</th>\n",
       "      <td>1290.0</td>\n",
       "      <td>6.0</td>\n",
       "      <td>18.0</td>\n",
       "      <td>1.0</td>\n",
       "      <td>68.0</td>\n",
       "      <td>101.0</td>\n",
       "      <td>9.0</td>\n",
       "      <td>2.0</td>\n",
       "      <td>31.0</td>\n",
       "      <td>0.0</td>\n",
       "    </tr>\n",
       "  </tbody>\n",
       "</table>\n",
       "</div>"
      ],
      "text/plain": [
       "    price  vehicle_type  registration_year  gearbox  power  model  kilometer  \\\n",
       "0   244.0           3.0                3.0      1.0    0.0  116.0       12.0   \n",
       "1  3495.0           2.0               21.0      1.0  189.0  161.0       11.0   \n",
       "2  2516.0           7.0               14.0      0.0  162.0  117.0       11.0   \n",
       "3   678.0           6.0               11.0      1.0   74.0  116.0       12.0   \n",
       "4  1290.0           6.0               18.0      1.0   68.0  101.0        9.0   \n",
       "\n",
       "   fuel_type  brand  not_repaired  \n",
       "0        7.0   38.0           1.0  \n",
       "1        2.0    1.0           2.0  \n",
       "2        2.0   14.0           1.0  \n",
       "3        7.0   38.0           0.0  \n",
       "4        2.0   31.0           0.0  "
      ]
     },
     "execution_count": 45,
     "metadata": {},
     "output_type": "execute_result"
    }
   ],
   "source": [
    "#Преобразуем категориальные признаки\n",
    "\n",
    "encoder = OrdinalEncoder()\n",
    "encoder.fit(data_good)\n",
    "data_good_ordinal = encoder.transform(data_good) \n",
    "data_good_ordinal = pd.DataFrame(encoder.transform(data_good), columns=data_good.columns) \n",
    "data_good_ordinal.head()"
   ]
  },
  {
   "cell_type": "code",
   "execution_count": 46,
   "metadata": {},
   "outputs": [
    {
     "data": {
      "text/plain": [
       "((110778, 9), (166167, 9))"
      ]
     },
     "execution_count": 46,
     "metadata": {},
     "output_type": "execute_result"
    }
   ],
   "source": [
    "#Разделим выборки\n",
    "train_X, test_X, train_Y, test_Y = train_test_split(data_good_ordinal.drop('price', axis = 1), data_good['price'],\n",
    "                                             test_size = 0.6, random_state = 42)\n",
    "train_X.shape, test_X.shape"
   ]
  },
  {
   "cell_type": "code",
   "execution_count": 47,
   "metadata": {},
   "outputs": [
    {
     "data": {
      "text/plain": [
       "((83083, 9), (83084, 9))"
      ]
     },
     "execution_count": 47,
     "metadata": {},
     "output_type": "execute_result"
    }
   ],
   "source": [
    "valid_X, test_X, valid_Y, test_Y = train_test_split(test_X, test_Y, test_size = 0.5, random_state = 42)\n",
    "\n",
    "valid_X.shape, test_X.shape"
   ]
  },
  {
   "cell_type": "code",
   "execution_count": 48,
   "metadata": {},
   "outputs": [
    {
     "data": {
      "text/html": [
       "<div>\n",
       "<style scoped>\n",
       "    .dataframe tbody tr th:only-of-type {\n",
       "        vertical-align: middle;\n",
       "    }\n",
       "\n",
       "    .dataframe tbody tr th {\n",
       "        vertical-align: top;\n",
       "    }\n",
       "\n",
       "    .dataframe thead th {\n",
       "        text-align: right;\n",
       "    }\n",
       "</style>\n",
       "<table border=\"1\" class=\"dataframe\">\n",
       "  <thead>\n",
       "    <tr style=\"text-align: right;\">\n",
       "      <th></th>\n",
       "      <th>vehicle_type</th>\n",
       "      <th>registration_year</th>\n",
       "      <th>gearbox</th>\n",
       "      <th>power</th>\n",
       "      <th>model</th>\n",
       "      <th>kilometer</th>\n",
       "      <th>fuel_type</th>\n",
       "      <th>brand</th>\n",
       "      <th>not_repaired</th>\n",
       "    </tr>\n",
       "  </thead>\n",
       "  <tbody>\n",
       "    <tr>\n",
       "      <th>32082</th>\n",
       "      <td>6.0</td>\n",
       "      <td>1.706273</td>\n",
       "      <td>1.0</td>\n",
       "      <td>-0.663373</td>\n",
       "      <td>167.0</td>\n",
       "      <td>-0.984989</td>\n",
       "      <td>7.0</td>\n",
       "      <td>24.0</td>\n",
       "      <td>0.0</td>\n",
       "    </tr>\n",
       "    <tr>\n",
       "      <th>17277</th>\n",
       "      <td>0.0</td>\n",
       "      <td>-0.758902</td>\n",
       "      <td>1.0</td>\n",
       "      <td>0.095903</td>\n",
       "      <td>247.0</td>\n",
       "      <td>0.513236</td>\n",
       "      <td>4.0</td>\n",
       "      <td>24.0</td>\n",
       "      <td>0.0</td>\n",
       "    </tr>\n",
       "    <tr>\n",
       "      <th>128753</th>\n",
       "      <td>8.0</td>\n",
       "      <td>0.121518</td>\n",
       "      <td>1.0</td>\n",
       "      <td>-0.316747</td>\n",
       "      <td>167.0</td>\n",
       "      <td>0.513236</td>\n",
       "      <td>2.0</td>\n",
       "      <td>5.0</td>\n",
       "      <td>0.0</td>\n",
       "    </tr>\n",
       "    <tr>\n",
       "      <th>255265</th>\n",
       "      <td>5.0</td>\n",
       "      <td>-0.934986</td>\n",
       "      <td>1.0</td>\n",
       "      <td>-0.564337</td>\n",
       "      <td>164.0</td>\n",
       "      <td>0.513236</td>\n",
       "      <td>5.0</td>\n",
       "      <td>31.0</td>\n",
       "      <td>1.0</td>\n",
       "    </tr>\n",
       "    <tr>\n",
       "      <th>231481</th>\n",
       "      <td>7.0</td>\n",
       "      <td>0.297602</td>\n",
       "      <td>0.0</td>\n",
       "      <td>0.888191</td>\n",
       "      <td>145.0</td>\n",
       "      <td>0.138680</td>\n",
       "      <td>2.0</td>\n",
       "      <td>20.0</td>\n",
       "      <td>0.0</td>\n",
       "    </tr>\n",
       "  </tbody>\n",
       "</table>\n",
       "</div>"
      ],
      "text/plain": [
       "        vehicle_type  registration_year  gearbox     power  model  kilometer  \\\n",
       "32082            6.0           1.706273      1.0 -0.663373  167.0  -0.984989   \n",
       "17277            0.0          -0.758902      1.0  0.095903  247.0   0.513236   \n",
       "128753           8.0           0.121518      1.0 -0.316747  167.0   0.513236   \n",
       "255265           5.0          -0.934986      1.0 -0.564337  164.0   0.513236   \n",
       "231481           7.0           0.297602      0.0  0.888191  145.0   0.138680   \n",
       "\n",
       "        fuel_type  brand  not_repaired  \n",
       "32082         7.0   24.0           0.0  \n",
       "17277         4.0   24.0           0.0  \n",
       "128753        2.0    5.0           0.0  \n",
       "255265        5.0   31.0           1.0  \n",
       "231481        2.0   20.0           0.0  "
      ]
     },
     "execution_count": 48,
     "metadata": {},
     "output_type": "execute_result"
    }
   ],
   "source": [
    "#Масштабируем количественные признакми \n",
    "\n",
    "numeric=['registration_year', 'power', 'kilometer']\n",
    "scaler=StandardScaler()\n",
    "scaler.fit(data_good_ordinal[numeric])\n",
    "\n",
    "\n",
    "train_X[numeric]=scaler.transform(train_X[numeric])\n",
    "valid_X[numeric]=scaler.transform(valid_X[numeric])\n",
    "test_X[numeric]=scaler.transform(test_X[numeric])\n",
    "\n",
    "train_X.head()"
   ]
  },
  {
   "cell_type": "markdown",
   "metadata": {},
   "source": [
    "### LightGBM "
   ]
  },
  {
   "cell_type": "code",
   "execution_count": 49,
   "metadata": {},
   "outputs": [
    {
     "name": "stderr",
     "output_type": "stream",
     "text": [
      "C:\\Users\\vasil\\anaconda3\\lib\\site-packages\\lightgbm\\sklearn.py:736: UserWarning: 'verbose' argument is deprecated and will be removed in a future release of LightGBM. Pass 'log_evaluation()' callback via 'callbacks' argument instead.\n",
      "  _log_warning(\"'verbose' argument is deprecated and will be removed in a future release of LightGBM. \"\n"
     ]
    },
    {
     "name": "stdout",
     "output_type": "stream",
     "text": [
      "[LightGBM] [Warning] Unknown parameter: depth\n",
      "[100]\tvalid_0's rmse: 1594.54\tvalid_0's l2: 2.54255e+06\n",
      "[200]\tvalid_0's rmse: 1576.04\tvalid_0's l2: 2.4839e+06\n",
      "[300]\tvalid_0's rmse: 1569.14\tvalid_0's l2: 2.46221e+06\n",
      "[400]\tvalid_0's rmse: 1569.29\tvalid_0's l2: 2.46269e+06\n",
      "[500]\tvalid_0's rmse: 1570.16\tvalid_0's l2: 2.46541e+06\n",
      "Wall time: 24 s\n"
     ]
    },
    {
     "data": {
      "text/plain": [
       "GridSearchCV(cv=2,\n",
       "             estimator=LGBMRegressor(objective='regression_l2',\n",
       "                                     random_state=42),\n",
       "             n_jobs=-1,\n",
       "             param_grid={'depth': [6, 8, 10], 'learning_rate': [0.4, 0.6],\n",
       "                         'n_estimators': [500, 1000]})"
      ]
     },
     "execution_count": 49,
     "metadata": {},
     "output_type": "execute_result"
    }
   ],
   "source": [
    "%%time\n",
    "\n",
    "lgb_R = lgb.sklearn.LGBMRegressor(random_state=42, objective=\"regression_l2\")\n",
    "parameters_lgb = {\n",
    "               'depth': [6,8,10],\n",
    "               'learning_rate':[0.4,0.6],\n",
    "               'n_estimators':[500,1000]\n",
    "                }\n",
    "grid_lgb = GridSearchCV(estimator=lgb_R, param_grid=parameters_lgb, cv=2, n_jobs=-1)\n",
    "\n",
    "grid_lgb.fit(train_X, train_Y, eval_set=(valid_X, valid_Y), eval_metric='rmse', verbose=100)"
   ]
  },
  {
   "cell_type": "code",
   "execution_count": 50,
   "metadata": {},
   "outputs": [
    {
     "data": {
      "text/plain": [
       "{'depth': 6, 'learning_rate': 0.4, 'n_estimators': 500}"
      ]
     },
     "execution_count": 50,
     "metadata": {},
     "output_type": "execute_result"
    }
   ],
   "source": [
    "#Лучшие параметры\n",
    "grid_lgb.best_params_"
   ]
  },
  {
   "cell_type": "code",
   "execution_count": 51,
   "metadata": {},
   "outputs": [
    {
     "name": "stdout",
     "output_type": "stream",
     "text": [
      "Wall time: 227 ms\n"
     ]
    }
   ],
   "source": [
    "%%time\n",
    "\n",
    "predict_grid_lgb = grid_lgb.predict(valid_X)"
   ]
  },
  {
   "cell_type": "code",
   "execution_count": 52,
   "metadata": {},
   "outputs": [
    {
     "data": {
      "text/plain": [
       "1570.16"
      ]
     },
     "execution_count": 52,
     "metadata": {},
     "output_type": "execute_result"
    }
   ],
   "source": [
    "#Проверим качество предсказаний второй модели на тестовой выборке\n",
    "rmse_grid_LGB = rmse(valid_Y, predict_grid_lgb)\n",
    "rmse_grid_LGB"
   ]
  },
  {
   "cell_type": "code",
   "execution_count": 53,
   "metadata": {},
   "outputs": [],
   "source": [
    "time_predict_grid_LGB = '262 ms'\n",
    "time_learning_grid_LGB = '27.5 s'"
   ]
  },
  {
   "cell_type": "markdown",
   "metadata": {},
   "source": [
    "### Линейная регрессия "
   ]
  },
  {
   "cell_type": "code",
   "execution_count": 54,
   "metadata": {},
   "outputs": [
    {
     "data": {
      "text/html": [
       "<div>\n",
       "<style scoped>\n",
       "    .dataframe tbody tr th:only-of-type {\n",
       "        vertical-align: middle;\n",
       "    }\n",
       "\n",
       "    .dataframe tbody tr th {\n",
       "        vertical-align: top;\n",
       "    }\n",
       "\n",
       "    .dataframe thead th {\n",
       "        text-align: right;\n",
       "    }\n",
       "</style>\n",
       "<table border=\"1\" class=\"dataframe\">\n",
       "  <thead>\n",
       "    <tr style=\"text-align: right;\">\n",
       "      <th></th>\n",
       "      <th>price</th>\n",
       "      <th>registration_year</th>\n",
       "      <th>power</th>\n",
       "      <th>kilometer</th>\n",
       "      <th>vehicle_type_convertible</th>\n",
       "      <th>vehicle_type_coupe</th>\n",
       "      <th>vehicle_type_no data</th>\n",
       "      <th>vehicle_type_other</th>\n",
       "      <th>vehicle_type_sedan</th>\n",
       "      <th>vehicle_type_small</th>\n",
       "      <th>...</th>\n",
       "      <th>brand_smart</th>\n",
       "      <th>brand_sonstige_autos</th>\n",
       "      <th>brand_subaru</th>\n",
       "      <th>brand_suzuki</th>\n",
       "      <th>brand_toyota</th>\n",
       "      <th>brand_trabant</th>\n",
       "      <th>brand_volkswagen</th>\n",
       "      <th>brand_volvo</th>\n",
       "      <th>not_repaired_no data</th>\n",
       "      <th>not_repaired_yes</th>\n",
       "    </tr>\n",
       "  </thead>\n",
       "  <tbody>\n",
       "    <tr>\n",
       "      <th>0</th>\n",
       "      <td>480</td>\n",
       "      <td>1993</td>\n",
       "      <td>0</td>\n",
       "      <td>150000</td>\n",
       "      <td>0</td>\n",
       "      <td>0</td>\n",
       "      <td>1</td>\n",
       "      <td>0</td>\n",
       "      <td>0</td>\n",
       "      <td>0</td>\n",
       "      <td>...</td>\n",
       "      <td>0</td>\n",
       "      <td>0</td>\n",
       "      <td>0</td>\n",
       "      <td>0</td>\n",
       "      <td>0</td>\n",
       "      <td>0</td>\n",
       "      <td>1</td>\n",
       "      <td>0</td>\n",
       "      <td>1</td>\n",
       "      <td>0</td>\n",
       "    </tr>\n",
       "    <tr>\n",
       "      <th>1</th>\n",
       "      <td>18300</td>\n",
       "      <td>2011</td>\n",
       "      <td>190</td>\n",
       "      <td>125000</td>\n",
       "      <td>0</td>\n",
       "      <td>1</td>\n",
       "      <td>0</td>\n",
       "      <td>0</td>\n",
       "      <td>0</td>\n",
       "      <td>0</td>\n",
       "      <td>...</td>\n",
       "      <td>0</td>\n",
       "      <td>0</td>\n",
       "      <td>0</td>\n",
       "      <td>0</td>\n",
       "      <td>0</td>\n",
       "      <td>0</td>\n",
       "      <td>0</td>\n",
       "      <td>0</td>\n",
       "      <td>0</td>\n",
       "      <td>1</td>\n",
       "    </tr>\n",
       "    <tr>\n",
       "      <th>2</th>\n",
       "      <td>9800</td>\n",
       "      <td>2004</td>\n",
       "      <td>163</td>\n",
       "      <td>125000</td>\n",
       "      <td>0</td>\n",
       "      <td>0</td>\n",
       "      <td>0</td>\n",
       "      <td>0</td>\n",
       "      <td>0</td>\n",
       "      <td>0</td>\n",
       "      <td>...</td>\n",
       "      <td>0</td>\n",
       "      <td>0</td>\n",
       "      <td>0</td>\n",
       "      <td>0</td>\n",
       "      <td>0</td>\n",
       "      <td>0</td>\n",
       "      <td>0</td>\n",
       "      <td>0</td>\n",
       "      <td>1</td>\n",
       "      <td>0</td>\n",
       "    </tr>\n",
       "    <tr>\n",
       "      <th>3</th>\n",
       "      <td>1500</td>\n",
       "      <td>2001</td>\n",
       "      <td>75</td>\n",
       "      <td>150000</td>\n",
       "      <td>0</td>\n",
       "      <td>0</td>\n",
       "      <td>0</td>\n",
       "      <td>0</td>\n",
       "      <td>0</td>\n",
       "      <td>1</td>\n",
       "      <td>...</td>\n",
       "      <td>0</td>\n",
       "      <td>0</td>\n",
       "      <td>0</td>\n",
       "      <td>0</td>\n",
       "      <td>0</td>\n",
       "      <td>0</td>\n",
       "      <td>1</td>\n",
       "      <td>0</td>\n",
       "      <td>0</td>\n",
       "      <td>0</td>\n",
       "    </tr>\n",
       "    <tr>\n",
       "      <th>4</th>\n",
       "      <td>3600</td>\n",
       "      <td>2008</td>\n",
       "      <td>69</td>\n",
       "      <td>90000</td>\n",
       "      <td>0</td>\n",
       "      <td>0</td>\n",
       "      <td>0</td>\n",
       "      <td>0</td>\n",
       "      <td>0</td>\n",
       "      <td>1</td>\n",
       "      <td>...</td>\n",
       "      <td>0</td>\n",
       "      <td>0</td>\n",
       "      <td>0</td>\n",
       "      <td>0</td>\n",
       "      <td>0</td>\n",
       "      <td>0</td>\n",
       "      <td>0</td>\n",
       "      <td>0</td>\n",
       "      <td>0</td>\n",
       "      <td>0</td>\n",
       "    </tr>\n",
       "  </tbody>\n",
       "</table>\n",
       "<p>5 rows × 309 columns</p>\n",
       "</div>"
      ],
      "text/plain": [
       "   price  registration_year  power  kilometer  vehicle_type_convertible  \\\n",
       "0    480               1993      0     150000                         0   \n",
       "1  18300               2011    190     125000                         0   \n",
       "2   9800               2004    163     125000                         0   \n",
       "3   1500               2001     75     150000                         0   \n",
       "4   3600               2008     69      90000                         0   \n",
       "\n",
       "   vehicle_type_coupe  vehicle_type_no data  vehicle_type_other  \\\n",
       "0                   0                     1                   0   \n",
       "1                   1                     0                   0   \n",
       "2                   0                     0                   0   \n",
       "3                   0                     0                   0   \n",
       "4                   0                     0                   0   \n",
       "\n",
       "   vehicle_type_sedan  vehicle_type_small  ...  brand_smart  \\\n",
       "0                   0                   0  ...            0   \n",
       "1                   0                   0  ...            0   \n",
       "2                   0                   0  ...            0   \n",
       "3                   0                   1  ...            0   \n",
       "4                   0                   1  ...            0   \n",
       "\n",
       "   brand_sonstige_autos  brand_subaru  brand_suzuki  brand_toyota  \\\n",
       "0                     0             0             0             0   \n",
       "1                     0             0             0             0   \n",
       "2                     0             0             0             0   \n",
       "3                     0             0             0             0   \n",
       "4                     0             0             0             0   \n",
       "\n",
       "   brand_trabant  brand_volkswagen  brand_volvo  not_repaired_no data  \\\n",
       "0              0                 1            0                     1   \n",
       "1              0                 0            0                     0   \n",
       "2              0                 0            0                     1   \n",
       "3              0                 1            0                     0   \n",
       "4              0                 0            0                     0   \n",
       "\n",
       "   not_repaired_yes  \n",
       "0                 0  \n",
       "1                 1  \n",
       "2                 0  \n",
       "3                 0  \n",
       "4                 0  \n",
       "\n",
       "[5 rows x 309 columns]"
      ]
     },
     "execution_count": 54,
     "metadata": {},
     "output_type": "execute_result"
    }
   ],
   "source": [
    "#Преобразуем категориальные признаки\n",
    "\n",
    "data_ohe = pd.get_dummies(data_good, drop_first=True)\n",
    "data_ohe.head()"
   ]
  },
  {
   "cell_type": "code",
   "execution_count": 55,
   "metadata": {},
   "outputs": [
    {
     "data": {
      "text/plain": [
       "((110778, 308), (166167, 308))"
      ]
     },
     "execution_count": 55,
     "metadata": {},
     "output_type": "execute_result"
    }
   ],
   "source": [
    "#Разделим выборки\n",
    "trainX, testX, trainY, testY = train_test_split(data_ohe.drop('price', axis = 1), data_good['price'],\n",
    "                                             test_size = 0.6, random_state = 42)\n",
    "trainX.shape, testX.shape"
   ]
  },
  {
   "cell_type": "code",
   "execution_count": 56,
   "metadata": {},
   "outputs": [
    {
     "data": {
      "text/plain": [
       "((83083, 308), (83084, 308))"
      ]
     },
     "execution_count": 56,
     "metadata": {},
     "output_type": "execute_result"
    }
   ],
   "source": [
    "validX, testX, validY, testY = train_test_split(testX, testY, test_size = 0.5, random_state = 42)\n",
    "\n",
    "validX.shape, testX.shape"
   ]
  },
  {
   "cell_type": "code",
   "execution_count": 57,
   "metadata": {},
   "outputs": [
    {
     "data": {
      "text/html": [
       "<div>\n",
       "<style scoped>\n",
       "    .dataframe tbody tr th:only-of-type {\n",
       "        vertical-align: middle;\n",
       "    }\n",
       "\n",
       "    .dataframe tbody tr th {\n",
       "        vertical-align: top;\n",
       "    }\n",
       "\n",
       "    .dataframe thead th {\n",
       "        text-align: right;\n",
       "    }\n",
       "</style>\n",
       "<table border=\"1\" class=\"dataframe\">\n",
       "  <thead>\n",
       "    <tr style=\"text-align: right;\">\n",
       "      <th></th>\n",
       "      <th>registration_year</th>\n",
       "      <th>power</th>\n",
       "      <th>kilometer</th>\n",
       "      <th>vehicle_type_convertible</th>\n",
       "      <th>vehicle_type_coupe</th>\n",
       "      <th>vehicle_type_no data</th>\n",
       "      <th>vehicle_type_other</th>\n",
       "      <th>vehicle_type_sedan</th>\n",
       "      <th>vehicle_type_small</th>\n",
       "      <th>vehicle_type_suv</th>\n",
       "      <th>...</th>\n",
       "      <th>brand_smart</th>\n",
       "      <th>brand_sonstige_autos</th>\n",
       "      <th>brand_subaru</th>\n",
       "      <th>brand_suzuki</th>\n",
       "      <th>brand_toyota</th>\n",
       "      <th>brand_trabant</th>\n",
       "      <th>brand_volkswagen</th>\n",
       "      <th>brand_volvo</th>\n",
       "      <th>not_repaired_no data</th>\n",
       "      <th>not_repaired_yes</th>\n",
       "    </tr>\n",
       "  </thead>\n",
       "  <tbody>\n",
       "    <tr>\n",
       "      <th>36578</th>\n",
       "      <td>1.705587</td>\n",
       "      <td>-0.659033</td>\n",
       "      <td>-1.277606</td>\n",
       "      <td>0</td>\n",
       "      <td>0</td>\n",
       "      <td>0</td>\n",
       "      <td>0</td>\n",
       "      <td>0</td>\n",
       "      <td>1</td>\n",
       "      <td>0</td>\n",
       "      <td>...</td>\n",
       "      <td>0</td>\n",
       "      <td>0</td>\n",
       "      <td>0</td>\n",
       "      <td>0</td>\n",
       "      <td>0</td>\n",
       "      <td>0</td>\n",
       "      <td>0</td>\n",
       "      <td>0</td>\n",
       "      <td>0</td>\n",
       "      <td>0</td>\n",
       "    </tr>\n",
       "    <tr>\n",
       "      <th>19473</th>\n",
       "      <td>-0.761116</td>\n",
       "      <td>0.096777</td>\n",
       "      <td>0.591064</td>\n",
       "      <td>0</td>\n",
       "      <td>0</td>\n",
       "      <td>0</td>\n",
       "      <td>0</td>\n",
       "      <td>0</td>\n",
       "      <td>0</td>\n",
       "      <td>0</td>\n",
       "      <td>...</td>\n",
       "      <td>0</td>\n",
       "      <td>0</td>\n",
       "      <td>0</td>\n",
       "      <td>0</td>\n",
       "      <td>0</td>\n",
       "      <td>0</td>\n",
       "      <td>0</td>\n",
       "      <td>0</td>\n",
       "      <td>0</td>\n",
       "      <td>0</td>\n",
       "    </tr>\n",
       "    <tr>\n",
       "      <th>153873</th>\n",
       "      <td>0.119849</td>\n",
       "      <td>-0.313990</td>\n",
       "      <td>0.591064</td>\n",
       "      <td>0</td>\n",
       "      <td>0</td>\n",
       "      <td>0</td>\n",
       "      <td>0</td>\n",
       "      <td>0</td>\n",
       "      <td>0</td>\n",
       "      <td>0</td>\n",
       "      <td>...</td>\n",
       "      <td>0</td>\n",
       "      <td>0</td>\n",
       "      <td>0</td>\n",
       "      <td>0</td>\n",
       "      <td>0</td>\n",
       "      <td>0</td>\n",
       "      <td>0</td>\n",
       "      <td>0</td>\n",
       "      <td>0</td>\n",
       "      <td>0</td>\n",
       "    </tr>\n",
       "    <tr>\n",
       "      <th>323562</th>\n",
       "      <td>-0.937309</td>\n",
       "      <td>-0.560450</td>\n",
       "      <td>0.591064</td>\n",
       "      <td>0</td>\n",
       "      <td>0</td>\n",
       "      <td>0</td>\n",
       "      <td>0</td>\n",
       "      <td>1</td>\n",
       "      <td>0</td>\n",
       "      <td>0</td>\n",
       "      <td>...</td>\n",
       "      <td>0</td>\n",
       "      <td>0</td>\n",
       "      <td>0</td>\n",
       "      <td>0</td>\n",
       "      <td>0</td>\n",
       "      <td>0</td>\n",
       "      <td>0</td>\n",
       "      <td>0</td>\n",
       "      <td>1</td>\n",
       "      <td>0</td>\n",
       "    </tr>\n",
       "    <tr>\n",
       "      <th>290247</th>\n",
       "      <td>0.296042</td>\n",
       "      <td>0.885448</td>\n",
       "      <td>-0.076318</td>\n",
       "      <td>0</td>\n",
       "      <td>0</td>\n",
       "      <td>0</td>\n",
       "      <td>0</td>\n",
       "      <td>0</td>\n",
       "      <td>0</td>\n",
       "      <td>1</td>\n",
       "      <td>...</td>\n",
       "      <td>0</td>\n",
       "      <td>0</td>\n",
       "      <td>0</td>\n",
       "      <td>0</td>\n",
       "      <td>0</td>\n",
       "      <td>0</td>\n",
       "      <td>0</td>\n",
       "      <td>0</td>\n",
       "      <td>0</td>\n",
       "      <td>0</td>\n",
       "    </tr>\n",
       "  </tbody>\n",
       "</table>\n",
       "<p>5 rows × 308 columns</p>\n",
       "</div>"
      ],
      "text/plain": [
       "        registration_year     power  kilometer  vehicle_type_convertible  \\\n",
       "36578            1.705587 -0.659033  -1.277606                         0   \n",
       "19473           -0.761116  0.096777   0.591064                         0   \n",
       "153873           0.119849 -0.313990   0.591064                         0   \n",
       "323562          -0.937309 -0.560450   0.591064                         0   \n",
       "290247           0.296042  0.885448  -0.076318                         0   \n",
       "\n",
       "        vehicle_type_coupe  vehicle_type_no data  vehicle_type_other  \\\n",
       "36578                    0                     0                   0   \n",
       "19473                    0                     0                   0   \n",
       "153873                   0                     0                   0   \n",
       "323562                   0                     0                   0   \n",
       "290247                   0                     0                   0   \n",
       "\n",
       "        vehicle_type_sedan  vehicle_type_small  vehicle_type_suv  ...  \\\n",
       "36578                    0                   1                 0  ...   \n",
       "19473                    0                   0                 0  ...   \n",
       "153873                   0                   0                 0  ...   \n",
       "323562                   1                   0                 0  ...   \n",
       "290247                   0                   0                 1  ...   \n",
       "\n",
       "        brand_smart  brand_sonstige_autos  brand_subaru  brand_suzuki  \\\n",
       "36578             0                     0             0             0   \n",
       "19473             0                     0             0             0   \n",
       "153873            0                     0             0             0   \n",
       "323562            0                     0             0             0   \n",
       "290247            0                     0             0             0   \n",
       "\n",
       "        brand_toyota  brand_trabant  brand_volkswagen  brand_volvo  \\\n",
       "36578              0              0                 0            0   \n",
       "19473              0              0                 0            0   \n",
       "153873             0              0                 0            0   \n",
       "323562             0              0                 0            0   \n",
       "290247             0              0                 0            0   \n",
       "\n",
       "        not_repaired_no data  not_repaired_yes  \n",
       "36578                      0                 0  \n",
       "19473                      0                 0  \n",
       "153873                     0                 0  \n",
       "323562                     1                 0  \n",
       "290247                     0                 0  \n",
       "\n",
       "[5 rows x 308 columns]"
      ]
     },
     "execution_count": 57,
     "metadata": {},
     "output_type": "execute_result"
    }
   ],
   "source": [
    "#Масштабируем количественные признакми \n",
    "\n",
    "numeric=['registration_year', 'power', 'kilometer']\n",
    "scaler=StandardScaler()\n",
    "scaler.fit(trainX[numeric])\n",
    "\n",
    "\n",
    "trainX[numeric]=scaler.transform(trainX[numeric])\n",
    "validX[numeric]=scaler.transform(validX[numeric])\n",
    "testX[numeric]=scaler.transform(testX[numeric])\n",
    "\n",
    "trainX.head()"
   ]
  },
  {
   "cell_type": "markdown",
   "metadata": {},
   "source": [
    "Обучим модель линейной регрессии"
   ]
  },
  {
   "cell_type": "code",
   "execution_count": 58,
   "metadata": {},
   "outputs": [
    {
     "name": "stdout",
     "output_type": "stream",
     "text": [
      "Wall time: 4.03 s\n"
     ]
    },
    {
     "data": {
      "text/plain": [
       "(array([-2.43911984e+03, -2.44063385e+03, -3.58137888e+12]),\n",
       " -2439.876845603635)"
      ]
     },
     "execution_count": 58,
     "metadata": {},
     "output_type": "execute_result"
    }
   ],
   "source": [
    "%%time\n",
    "\n",
    "lr=LinearRegression()\n",
    "lr.fit(trainX, trainY)\n",
    "lr_cv = cross_val_score(lr, trainX, trainY, cv=3,scoring='neg_root_mean_squared_error')\n",
    "rmse_LR = lr_cv[:-1].mean()\n",
    "lr_cv, rmse_LR"
   ]
  },
  {
   "cell_type": "code",
   "execution_count": 59,
   "metadata": {},
   "outputs": [
    {
     "name": "stdout",
     "output_type": "stream",
     "text": [
      "Wall time: 89.3 ms\n"
     ]
    }
   ],
   "source": [
    "%%time\n",
    "predict_LR = lr.predict(validX)"
   ]
  },
  {
   "cell_type": "code",
   "execution_count": 60,
   "metadata": {},
   "outputs": [
    {
     "data": {
      "text/plain": [
       "2441.7"
      ]
     },
     "execution_count": 60,
     "metadata": {},
     "output_type": "execute_result"
    }
   ],
   "source": [
    "rmse_LR = rmse(validY, predict_LR)\n",
    "rmse_LR"
   ]
  },
  {
   "cell_type": "code",
   "execution_count": 61,
   "metadata": {},
   "outputs": [],
   "source": [
    "time_predict_LR = '108 ms'\n",
    "time_learning_LR = '5.04s'"
   ]
  },
  {
   "cell_type": "markdown",
   "metadata": {},
   "source": [
    "## Анализ моделей"
   ]
  },
  {
   "cell_type": "markdown",
   "metadata": {},
   "source": [
    "Для оценки моделей создадим таблицу с показателями:"
   ]
  },
  {
   "cell_type": "code",
   "execution_count": 62,
   "metadata": {},
   "outputs": [
    {
     "data": {
      "text/html": [
       "<div>\n",
       "<style scoped>\n",
       "    .dataframe tbody tr th:only-of-type {\n",
       "        vertical-align: middle;\n",
       "    }\n",
       "\n",
       "    .dataframe tbody tr th {\n",
       "        vertical-align: top;\n",
       "    }\n",
       "\n",
       "    .dataframe thead th {\n",
       "        text-align: right;\n",
       "    }\n",
       "</style>\n",
       "<table border=\"1\" class=\"dataframe\">\n",
       "  <thead>\n",
       "    <tr style=\"text-align: right;\">\n",
       "      <th></th>\n",
       "      <th>CatBoostRegressor</th>\n",
       "      <th>LGBMRegressor</th>\n",
       "      <th>LinearRegression</th>\n",
       "    </tr>\n",
       "  </thead>\n",
       "  <tbody>\n",
       "    <tr>\n",
       "      <th>качество предсказания, RMSE</th>\n",
       "      <td>1526.97</td>\n",
       "      <td>1570.16</td>\n",
       "      <td>2441.7</td>\n",
       "    </tr>\n",
       "    <tr>\n",
       "      <th>время предсказания</th>\n",
       "      <td>308 ms</td>\n",
       "      <td>262 ms</td>\n",
       "      <td>108 ms</td>\n",
       "    </tr>\n",
       "    <tr>\n",
       "      <th>время обучения</th>\n",
       "      <td>14min 42s</td>\n",
       "      <td>27.5 s</td>\n",
       "      <td>5.04s</td>\n",
       "    </tr>\n",
       "  </tbody>\n",
       "</table>\n",
       "</div>"
      ],
      "text/plain": [
       "                            CatBoostRegressor LGBMRegressor LinearRegression\n",
       "качество предсказания, RMSE           1526.97       1570.16           2441.7\n",
       "время предсказания                     308 ms        262 ms           108 ms\n",
       "время обучения                      14min 42s        27.5 s            5.04s"
      ]
     },
     "execution_count": 62,
     "metadata": {},
     "output_type": "execute_result"
    }
   ],
   "source": [
    "columns=['качество предсказания, RMSE','время предсказания','время обучения']\n",
    "\n",
    "models = pd.DataFrame(index=columns)\n",
    "models['CatBoostRegressor'] = rmse_grid_CBR, time_predict_grid_CBR, time_learning_grid_CBR\n",
    "models['LGBMRegressor'] = rmse_grid_LGB, time_predict_grid_LGB, time_learning_grid_LGB\n",
    "models['LinearRegression'] = rmse_LR, time_predict_LR, time_learning_LR\n",
    "models"
   ]
  },
  {
   "cell_type": "markdown",
   "metadata": {},
   "source": [
    "Модели LGBMRegressor и  CatBoostRegressor имеют лучшие показатели, чем LinearRegression, у них значительно ниже показатель RMSE, LGBMRegressor имеет высокую скорость работы. \n",
    "\n",
    "У модели CatBoostRegressor время обучения у модели ощутимо дольше. \n",
    "\n",
    "Лучшей моделью для применения является LGB. Проверим ее на тестовой выборке"
   ]
  },
  {
   "cell_type": "code",
   "execution_count": 63,
   "metadata": {},
   "outputs": [],
   "source": [
    "predict_grid_lgb = grid_lgb.predict(test_X)"
   ]
  },
  {
   "cell_type": "code",
   "execution_count": 64,
   "metadata": {},
   "outputs": [
    {
     "data": {
      "text/plain": [
       "1595.95"
      ]
     },
     "execution_count": 64,
     "metadata": {},
     "output_type": "execute_result"
    }
   ],
   "source": [
    "rmse(test_Y, predict_grid_lgb)"
   ]
  },
  {
   "cell_type": "markdown",
   "metadata": {},
   "source": [
    "**Метрика RMSE на тестовой выборке меньше заданного значения 2500, значит модель выбрана верно, можно использовать для данного цели**"
   ]
  },
  {
   "cell_type": "code",
   "execution_count": 65,
   "metadata": {},
   "outputs": [
    {
     "data": {
      "image/png": "[encoded data removed]",
      "text/plain": [
       "<Figure size 432x288 with 1 Axes>"
      ]
     },
     "metadata": {
      "needs_background": "light"
     },
     "output_type": "display_data"
    }
   ],
   "source": [
    "error_abs = abs(predict_grid_lgb - test_Y)\n",
    "error_abs.hist()\n",
    "plt.title(\"Распределение значений ошибки предсказаний\")\n",
    "plt.xlabel(\"Значение ошибки\")\n",
    "plt.ylabel(\"Частота\")\n",
    "plt.show()"
   ]
  },
  {
   "cell_type": "code",
   "execution_count": 66,
   "metadata": {},
   "outputs": [
    {
     "data": {
      "text/plain": [
       "count    83084.000000\n",
       "mean       992.847692\n",
       "std       1249.530958\n",
       "min          0.002630\n",
       "25%        261.477980\n",
       "50%        598.448457\n",
       "75%       1252.975358\n",
       "max      20239.783183\n",
       "Name: price, dtype: float64"
      ]
     },
     "execution_count": 66,
     "metadata": {},
     "output_type": "execute_result"
    }
   ],
   "source": [
    "error_abs.describe()"
   ]
  },
  {
   "cell_type": "code",
   "execution_count": 67,
   "metadata": {},
   "outputs": [],
   "source": [
    "target = pd.Series(test_Y)\n",
    "predict = pd.Series(predict_grid_lgb)"
   ]
  },
  {
   "cell_type": "code",
   "execution_count": 68,
   "metadata": {},
   "outputs": [
    {
     "data": {
      "image/png": "[encoded data removed]",
      "text/plain": [
       "<Figure size 432x288 with 1 Axes>"
      ]
     },
     "metadata": {
      "needs_background": "light"
     },
     "output_type": "display_data"
    }
   ],
   "source": [
    "ax = predict.hist(bins=50,range=(0,21000), alpha=0.7) \n",
    "target.hist(bins=50, ax=ax, range=(0,21000), alpha=0.7) \n",
    "plt.title(\"Предсказания и ответы\")\n",
    "plt.xlabel(\"Евро\")\n",
    "plt.show()"
   ]
  },
  {
   "cell_type": "markdown",
   "metadata": {},
   "source": [
    "Медиана меньше среднего, большие редкие значения ошибки влияют на среднее"
   ]
  },
  {
   "cell_type": "markdown",
   "metadata": {},
   "source": [
    "## Общий вывод "
   ]
  },
  {
   "cell_type": "markdown",
   "metadata": {},
   "source": [
    "В ходе проекта была реализована цель построения модели, которая определяет стоимость автомобиля, и выбрана модель с лучшими харктеристиками. \n",
    "\n",
    "Для реализации цели были выполнены следующие шаги:\n",
    "\n",
    "    изучены данные, определены признаки для анализа и целевой признак, заполнены пропуски;\n",
    "    проведен исследовательский анализ признаков, устранены аномалии;\n",
    "    данные подготовлены для обучения моделей;\n",
    "    обучены 3 модели: CatBoostRegressor, LGBMRegressor,LinearRegression;\n",
    "    определены и расчитаны критерии качества для каждой модели, составлена таблица с основными критериями. \n",
    "    \n",
    "**Лучшей моделью выбрана: LGBMRegressor, как модель с лучшим качеством предсказаний и достаточно высокой скоростью обучения и предсказания.**"
   ]
  }
 ],
 "metadata": {
  "ExecuteTimeLog": [
   {
    "duration": 2328,
    "start_time": "2022-09-19T19:10:11.547Z"
   },
   {
    "duration": 1921,
    "start_time": "2022-09-19T19:10:13.877Z"
   },
   {
    "duration": 6512,
    "start_time": "2022-09-19T19:10:15.801Z"
   },
   {
    "duration": 1194,
    "start_time": "2022-09-19T19:10:22.315Z"
   },
   {
    "duration": 8,
    "start_time": "2022-09-19T19:10:23.512Z"
   },
   {
    "duration": 58,
    "start_time": "2022-09-19T19:10:23.522Z"
   },
   {
    "duration": 10,
    "start_time": "2022-09-19T19:10:23.600Z"
   },
   {
    "duration": 40,
    "start_time": "2022-09-19T19:10:23.612Z"
   },
   {
    "duration": 16,
    "start_time": "2022-09-19T19:10:23.655Z"
   },
   {
    "duration": 58,
    "start_time": "2022-09-19T19:10:23.673Z"
   },
   {
    "duration": 2,
    "start_time": "2022-09-19T19:10:23.733Z"
   },
   {
    "duration": 89,
    "start_time": "2022-09-19T19:10:23.737Z"
   },
   {
    "duration": 82,
    "start_time": "2022-09-19T19:10:23.828Z"
   },
   {
    "duration": 64,
    "start_time": "2022-09-19T19:10:23.912Z"
   },
   {
    "duration": 99,
    "start_time": "2022-09-19T19:10:23.977Z"
   },
   {
    "duration": 77,
    "start_time": "2022-09-19T19:10:24.078Z"
   },
   {
    "duration": 22,
    "start_time": "2022-09-19T19:10:24.158Z"
   },
   {
    "duration": 185,
    "start_time": "2022-09-19T19:10:24.182Z"
   },
   {
    "duration": 159,
    "start_time": "2022-09-19T19:10:24.369Z"
   },
   {
    "duration": 274,
    "start_time": "2022-09-19T19:10:24.530Z"
   },
   {
    "duration": 143,
    "start_time": "2022-09-19T19:10:24.806Z"
   },
   {
    "duration": 209,
    "start_time": "2022-09-19T19:10:24.951Z"
   },
   {
    "duration": 202,
    "start_time": "2022-09-19T19:10:25.161Z"
   },
   {
    "duration": 123,
    "start_time": "2022-09-19T19:10:25.365Z"
   },
   {
    "duration": 31,
    "start_time": "2022-09-19T19:10:25.489Z"
   },
   {
    "duration": 20,
    "start_time": "2022-09-19T19:10:25.522Z"
   },
   {
    "duration": 271,
    "start_time": "2022-09-19T19:10:25.543Z"
   },
   {
    "duration": 139,
    "start_time": "2022-09-19T19:10:25.816Z"
   },
   {
    "duration": 14,
    "start_time": "2022-09-19T19:10:25.956Z"
   },
   {
    "duration": 46,
    "start_time": "2022-09-19T19:10:25.972Z"
   },
   {
    "duration": 14,
    "start_time": "2022-09-19T19:10:26.019Z"
   },
   {
    "duration": 22,
    "start_time": "2022-09-19T19:10:26.034Z"
   },
   {
    "duration": 243,
    "start_time": "2022-09-19T19:10:26.057Z"
   },
   {
    "duration": 14,
    "start_time": "2022-09-19T19:10:26.302Z"
   },
   {
    "duration": 204,
    "start_time": "2022-09-19T19:10:26.317Z"
   },
   {
    "duration": 123,
    "start_time": "2022-09-19T19:10:39.577Z"
   },
   {
    "duration": 564,
    "start_time": "2022-09-19T19:10:42.570Z"
   },
   {
    "duration": 421,
    "start_time": "2022-09-19T19:10:43.595Z"
   },
   {
    "duration": 145,
    "start_time": "2022-09-19T19:10:44.080Z"
   },
   {
    "duration": 9616,
    "start_time": "2022-09-19T19:10:51.186Z"
   },
   {
    "duration": 265,
    "start_time": "2022-09-19T19:11:02.136Z"
   },
   {
    "duration": 14,
    "start_time": "2022-09-19T19:11:04.087Z"
   },
   {
    "duration": 4,
    "start_time": "2022-09-19T19:11:11.165Z"
   },
   {
    "duration": 6,
    "start_time": "2022-09-19T19:11:20.367Z"
   },
   {
    "duration": 14072,
    "start_time": "2022-09-19T19:11:24.543Z"
   },
   {
    "duration": 398,
    "start_time": "2022-09-19T19:11:38.617Z"
   },
   {
    "duration": 7,
    "start_time": "2022-09-19T19:11:39.099Z"
   },
   {
    "duration": 238,
    "start_time": "2022-09-19T19:11:40.877Z"
   },
   {
    "duration": 6,
    "start_time": "2022-09-19T19:11:41.277Z"
   },
   {
    "duration": 347,
    "start_time": "2022-09-19T19:12:12.602Z"
   },
   {
    "duration": 142,
    "start_time": "2022-09-19T19:12:12.951Z"
   },
   {
    "duration": 14405,
    "start_time": "2022-09-19T19:12:13.897Z"
   },
   {
    "duration": 398,
    "start_time": "2022-09-19T19:12:28.304Z"
   },
   {
    "duration": 6,
    "start_time": "2022-09-19T19:12:28.704Z"
   },
   {
    "duration": 3,
    "start_time": "2022-09-19T19:12:31.887Z"
   },
   {
    "duration": 5,
    "start_time": "2022-09-19T19:12:32.967Z"
   },
   {
    "duration": 66363,
    "start_time": "2022-09-19T19:12:34.147Z"
   },
   {
    "duration": 302,
    "start_time": "2022-09-19T19:13:40.601Z"
   },
   {
    "duration": 56279,
    "start_time": "2022-09-19T19:13:46.529Z"
   },
   {
    "duration": 391,
    "start_time": "2022-09-19T19:14:42.810Z"
   },
   {
    "duration": 45762,
    "start_time": "2022-09-19T19:28:22.356Z"
   },
   {
    "duration": 1771,
    "start_time": "2022-09-20T15:04:50.011Z"
   },
   {
    "duration": 2637,
    "start_time": "2022-09-20T15:04:57.124Z"
   },
   {
    "duration": 2246,
    "start_time": "2022-09-20T15:05:23.822Z"
   },
   {
    "duration": 2276,
    "start_time": "2022-09-20T15:05:26.071Z"
   },
   {
    "duration": 4,
    "start_time": "2022-09-20T15:05:28.349Z"
   },
   {
    "duration": 3072,
    "start_time": "2022-09-20T15:05:28.355Z"
   },
   {
    "duration": 6,
    "start_time": "2022-09-20T15:05:31.429Z"
   },
   {
    "duration": 55,
    "start_time": "2022-09-20T15:05:31.437Z"
   },
   {
    "duration": 11,
    "start_time": "2022-09-20T15:05:31.494Z"
   },
   {
    "duration": 43,
    "start_time": "2022-09-20T15:05:31.507Z"
   },
   {
    "duration": 11,
    "start_time": "2022-09-20T15:05:31.551Z"
   },
   {
    "duration": 49,
    "start_time": "2022-09-20T15:05:31.565Z"
   },
   {
    "duration": 3,
    "start_time": "2022-09-20T15:05:31.615Z"
   },
   {
    "duration": 96,
    "start_time": "2022-09-20T15:05:31.619Z"
   },
   {
    "duration": 95,
    "start_time": "2022-09-20T15:05:31.718Z"
   },
   {
    "duration": 109,
    "start_time": "2022-09-20T15:05:31.815Z"
   },
   {
    "duration": 159,
    "start_time": "2022-09-20T15:05:31.926Z"
   },
   {
    "duration": 82,
    "start_time": "2022-09-20T15:05:32.090Z"
   },
   {
    "duration": 26,
    "start_time": "2022-09-20T15:05:32.174Z"
   },
   {
    "duration": 251,
    "start_time": "2022-09-20T15:05:32.202Z"
   },
   {
    "duration": 145,
    "start_time": "2022-09-20T15:05:32.456Z"
   },
   {
    "duration": 251,
    "start_time": "2022-09-20T15:05:32.603Z"
   },
   {
    "duration": 148,
    "start_time": "2022-09-20T15:05:32.856Z"
   },
   {
    "duration": 230,
    "start_time": "2022-09-20T15:05:33.006Z"
   },
   {
    "duration": 231,
    "start_time": "2022-09-20T15:05:33.238Z"
   },
   {
    "duration": 132,
    "start_time": "2022-09-20T15:05:33.471Z"
   },
   {
    "duration": 26,
    "start_time": "2022-09-20T15:05:33.605Z"
   },
   {
    "duration": 20,
    "start_time": "2022-09-20T15:05:33.632Z"
   },
   {
    "duration": 270,
    "start_time": "2022-09-20T15:05:33.654Z"
   },
   {
    "duration": 145,
    "start_time": "2022-09-20T15:05:33.927Z"
   },
   {
    "duration": 20,
    "start_time": "2022-09-20T15:05:34.073Z"
   },
   {
    "duration": 37,
    "start_time": "2022-09-20T15:05:34.095Z"
   },
   {
    "duration": 15,
    "start_time": "2022-09-20T15:05:34.135Z"
   },
   {
    "duration": 53,
    "start_time": "2022-09-20T15:05:34.152Z"
   },
   {
    "duration": 224,
    "start_time": "2022-09-20T15:05:34.208Z"
   },
   {
    "duration": 23,
    "start_time": "2022-09-20T15:05:34.434Z"
   },
   {
    "duration": 209,
    "start_time": "2022-09-20T15:05:34.458Z"
   },
   {
    "duration": 618,
    "start_time": "2022-09-20T15:05:49.297Z"
   },
   {
    "duration": 445,
    "start_time": "2022-09-20T15:05:53.050Z"
   },
   {
    "duration": 142,
    "start_time": "2022-09-20T15:05:56.322Z"
   },
   {
    "duration": 85,
    "start_time": "2022-09-20T15:06:17.355Z"
   },
   {
    "duration": 9483,
    "start_time": "2022-09-20T15:08:45.407Z"
   },
   {
    "duration": 3,
    "start_time": "2022-09-20T15:09:10.171Z"
   },
   {
    "duration": 78861,
    "start_time": "2022-09-20T15:09:31.543Z"
   },
   {
    "duration": 146829,
    "start_time": "2022-09-20T15:12:09.778Z"
   },
   {
    "duration": 335,
    "start_time": "2022-09-20T15:14:47.968Z"
   },
   {
    "duration": 2,
    "start_time": "2022-09-20T15:14:57.905Z"
   },
   {
    "duration": 2042,
    "start_time": "2022-09-20T15:43:52.773Z"
   },
   {
    "duration": 1757,
    "start_time": "2022-09-20T15:43:54.817Z"
   },
   {
    "duration": 7151,
    "start_time": "2022-09-20T15:43:56.576Z"
   },
   {
    "duration": 2875,
    "start_time": "2022-09-20T15:44:03.729Z"
   },
   {
    "duration": 7,
    "start_time": "2022-09-20T15:44:06.605Z"
   },
   {
    "duration": 56,
    "start_time": "2022-09-20T15:44:06.613Z"
   },
   {
    "duration": 9,
    "start_time": "2022-09-20T15:44:06.671Z"
   },
   {
    "duration": 51,
    "start_time": "2022-09-20T15:44:06.682Z"
   },
   {
    "duration": 11,
    "start_time": "2022-09-20T15:44:06.735Z"
   },
   {
    "duration": 57,
    "start_time": "2022-09-20T15:44:06.748Z"
   },
   {
    "duration": 3,
    "start_time": "2022-09-20T15:44:06.807Z"
   },
   {
    "duration": 67,
    "start_time": "2022-09-20T15:44:06.812Z"
   },
   {
    "duration": 84,
    "start_time": "2022-09-20T15:44:06.881Z"
   },
   {
    "duration": 71,
    "start_time": "2022-09-20T15:44:06.967Z"
   },
   {
    "duration": 66,
    "start_time": "2022-09-20T15:44:07.040Z"
   },
   {
    "duration": 57,
    "start_time": "2022-09-20T15:44:07.107Z"
   },
   {
    "duration": 18,
    "start_time": "2022-09-20T15:44:07.165Z"
   },
   {
    "duration": 173,
    "start_time": "2022-09-20T15:44:07.184Z"
   },
   {
    "duration": 139,
    "start_time": "2022-09-20T15:44:07.358Z"
   },
   {
    "duration": 212,
    "start_time": "2022-09-20T15:44:07.498Z"
   },
   {
    "duration": 131,
    "start_time": "2022-09-20T15:44:07.712Z"
   },
   {
    "duration": 213,
    "start_time": "2022-09-20T15:44:07.844Z"
   },
   {
    "duration": 200,
    "start_time": "2022-09-20T15:44:08.058Z"
   },
   {
    "duration": 109,
    "start_time": "2022-09-20T15:44:08.260Z"
   },
   {
    "duration": 35,
    "start_time": "2022-09-20T15:44:08.371Z"
   },
   {
    "duration": 21,
    "start_time": "2022-09-20T15:44:08.408Z"
   },
   {
    "duration": 195,
    "start_time": "2022-09-20T15:44:08.430Z"
   },
   {
    "duration": 114,
    "start_time": "2022-09-20T15:44:08.627Z"
   },
   {
    "duration": 13,
    "start_time": "2022-09-20T15:44:08.742Z"
   },
   {
    "duration": 23,
    "start_time": "2022-09-20T15:44:08.757Z"
   },
   {
    "duration": 33,
    "start_time": "2022-09-20T15:44:08.782Z"
   },
   {
    "duration": 22,
    "start_time": "2022-09-20T15:44:08.817Z"
   },
   {
    "duration": 188,
    "start_time": "2022-09-20T15:44:08.841Z"
   },
   {
    "duration": 13,
    "start_time": "2022-09-20T15:44:09.031Z"
   },
   {
    "duration": 178,
    "start_time": "2022-09-20T15:44:09.045Z"
   },
   {
    "duration": 57,
    "start_time": "2022-09-20T15:44:09.224Z"
   },
   {
    "duration": 38,
    "start_time": "2022-09-20T15:44:09.283Z"
   },
   {
    "duration": 3,
    "start_time": "2022-09-20T15:44:09.322Z"
   },
   {
    "duration": 1820,
    "start_time": "2022-09-20T15:52:57.147Z"
   },
   {
    "duration": 1819,
    "start_time": "2022-09-20T15:52:58.969Z"
   },
   {
    "duration": 4,
    "start_time": "2022-09-20T15:53:00.790Z"
   },
   {
    "duration": 798,
    "start_time": "2022-09-20T15:53:00.795Z"
   },
   {
    "duration": 6,
    "start_time": "2022-09-20T15:53:01.605Z"
   },
   {
    "duration": 56,
    "start_time": "2022-09-20T15:53:01.612Z"
   },
   {
    "duration": 7,
    "start_time": "2022-09-20T15:53:01.670Z"
   },
   {
    "duration": 42,
    "start_time": "2022-09-20T15:53:01.679Z"
   },
   {
    "duration": 11,
    "start_time": "2022-09-20T15:53:01.722Z"
   },
   {
    "duration": 39,
    "start_time": "2022-09-20T15:53:01.735Z"
   },
   {
    "duration": 20,
    "start_time": "2022-09-20T15:53:01.776Z"
   },
   {
    "duration": 63,
    "start_time": "2022-09-20T15:53:01.797Z"
   },
   {
    "duration": 65,
    "start_time": "2022-09-20T15:53:01.861Z"
   },
   {
    "duration": 58,
    "start_time": "2022-09-20T15:53:01.928Z"
   },
   {
    "duration": 67,
    "start_time": "2022-09-20T15:53:01.987Z"
   },
   {
    "duration": 66,
    "start_time": "2022-09-20T15:53:02.055Z"
   },
   {
    "duration": 16,
    "start_time": "2022-09-20T15:53:02.123Z"
   },
   {
    "duration": 153,
    "start_time": "2022-09-20T15:53:02.141Z"
   },
   {
    "duration": 117,
    "start_time": "2022-09-20T15:53:02.296Z"
   },
   {
    "duration": 196,
    "start_time": "2022-09-20T15:53:02.415Z"
   },
   {
    "duration": 127,
    "start_time": "2022-09-20T15:53:02.613Z"
   },
   {
    "duration": 274,
    "start_time": "2022-09-20T15:53:02.742Z"
   },
   {
    "duration": 118,
    "start_time": "2022-09-20T15:53:03.017Z"
   },
   {
    "duration": 107,
    "start_time": "2022-09-20T15:53:03.136Z"
   },
   {
    "duration": 24,
    "start_time": "2022-09-20T15:53:03.245Z"
   },
   {
    "duration": 40,
    "start_time": "2022-09-20T15:53:03.271Z"
   },
   {
    "duration": 198,
    "start_time": "2022-09-20T15:53:03.313Z"
   },
   {
    "duration": 116,
    "start_time": "2022-09-20T15:53:03.512Z"
   },
   {
    "duration": 13,
    "start_time": "2022-09-20T15:53:03.629Z"
   },
   {
    "duration": 20,
    "start_time": "2022-09-20T15:53:03.643Z"
   },
   {
    "duration": 14,
    "start_time": "2022-09-20T15:53:03.665Z"
   },
   {
    "duration": 22,
    "start_time": "2022-09-20T15:53:03.705Z"
   },
   {
    "duration": 184,
    "start_time": "2022-09-20T15:53:03.728Z"
   },
   {
    "duration": 12,
    "start_time": "2022-09-20T15:53:03.914Z"
   },
   {
    "duration": 177,
    "start_time": "2022-09-20T15:53:03.928Z"
   },
   {
    "duration": 52,
    "start_time": "2022-09-20T15:53:04.106Z"
   },
   {
    "duration": 23,
    "start_time": "2022-09-20T15:53:04.160Z"
   },
   {
    "duration": 2,
    "start_time": "2022-09-20T15:53:04.185Z"
   },
   {
    "duration": 3,
    "start_time": "2022-09-20T16:12:14.134Z"
   },
   {
    "duration": 2,
    "start_time": "2022-09-20T16:12:14.603Z"
   },
   {
    "duration": 334,
    "start_time": "2022-09-20T16:12:15.527Z"
   },
   {
    "duration": 10,
    "start_time": "2022-09-20T16:12:21.494Z"
   },
   {
    "duration": 1946,
    "start_time": "2022-09-20T16:12:30.491Z"
   },
   {
    "duration": 1791,
    "start_time": "2022-09-20T16:12:32.439Z"
   },
   {
    "duration": 5,
    "start_time": "2022-09-20T16:12:34.232Z"
   },
   {
    "duration": 891,
    "start_time": "2022-09-20T16:12:34.238Z"
   },
   {
    "duration": 6,
    "start_time": "2022-09-20T16:12:35.131Z"
   },
   {
    "duration": 49,
    "start_time": "2022-09-20T16:12:35.138Z"
   },
   {
    "duration": 18,
    "start_time": "2022-09-20T16:12:35.189Z"
   },
   {
    "duration": 30,
    "start_time": "2022-09-20T16:12:35.208Z"
   },
   {
    "duration": 10,
    "start_time": "2022-09-20T16:12:35.239Z"
   },
   {
    "duration": 32,
    "start_time": "2022-09-20T16:12:35.251Z"
   },
   {
    "duration": 3,
    "start_time": "2022-09-20T16:12:35.304Z"
   },
   {
    "duration": 63,
    "start_time": "2022-09-20T16:12:35.308Z"
   },
   {
    "duration": 79,
    "start_time": "2022-09-20T16:12:35.372Z"
   },
   {
    "duration": 64,
    "start_time": "2022-09-20T16:12:35.453Z"
   },
   {
    "duration": 58,
    "start_time": "2022-09-20T16:12:35.519Z"
   },
   {
    "duration": 69,
    "start_time": "2022-09-20T16:12:35.578Z"
   },
   {
    "duration": 16,
    "start_time": "2022-09-20T16:12:35.649Z"
   },
   {
    "duration": 153,
    "start_time": "2022-09-20T16:12:35.667Z"
   },
   {
    "duration": 119,
    "start_time": "2022-09-20T16:12:35.822Z"
   },
   {
    "duration": 197,
    "start_time": "2022-09-20T16:12:35.942Z"
   },
   {
    "duration": 221,
    "start_time": "2022-09-20T16:12:36.141Z"
   },
   {
    "duration": 186,
    "start_time": "2022-09-20T16:12:36.363Z"
   },
   {
    "duration": 119,
    "start_time": "2022-09-20T16:12:36.551Z"
   },
   {
    "duration": 108,
    "start_time": "2022-09-20T16:12:36.671Z"
   },
   {
    "duration": 33,
    "start_time": "2022-09-20T16:12:36.780Z"
   },
   {
    "duration": 21,
    "start_time": "2022-09-20T16:12:36.814Z"
   },
   {
    "duration": 197,
    "start_time": "2022-09-20T16:12:36.837Z"
   },
   {
    "duration": 120,
    "start_time": "2022-09-20T16:12:37.035Z"
   },
   {
    "duration": 13,
    "start_time": "2022-09-20T16:12:37.156Z"
   },
   {
    "duration": 35,
    "start_time": "2022-09-20T16:12:37.171Z"
   },
   {
    "duration": 14,
    "start_time": "2022-09-20T16:12:37.208Z"
   },
   {
    "duration": 21,
    "start_time": "2022-09-20T16:12:37.223Z"
   },
   {
    "duration": 215,
    "start_time": "2022-09-20T16:12:37.246Z"
   },
   {
    "duration": 12,
    "start_time": "2022-09-20T16:12:37.463Z"
   },
   {
    "duration": 177,
    "start_time": "2022-09-20T16:12:37.477Z"
   },
   {
    "duration": 58,
    "start_time": "2022-09-20T16:12:37.656Z"
   },
   {
    "duration": 23,
    "start_time": "2022-09-20T16:12:37.715Z"
   },
   {
    "duration": 3,
    "start_time": "2022-09-20T16:12:37.739Z"
   },
   {
    "duration": 10,
    "start_time": "2022-09-20T16:12:51.952Z"
   },
   {
    "duration": 547,
    "start_time": "2022-09-20T16:13:00.275Z"
   },
   {
    "duration": 401,
    "start_time": "2022-09-20T16:13:01.535Z"
   },
   {
    "duration": 126,
    "start_time": "2022-09-20T16:13:04.197Z"
   },
   {
    "duration": 64,
    "start_time": "2022-09-20T16:13:06.657Z"
   },
   {
    "duration": 63446,
    "start_time": "2022-09-20T16:13:10.091Z"
   },
   {
    "duration": 40769,
    "start_time": "2022-09-20T16:14:17.139Z"
   },
   {
    "duration": 3,
    "start_time": "2022-09-20T16:15:21.045Z"
   },
   {
    "duration": 4,
    "start_time": "2022-09-20T16:15:26.994Z"
   },
   {
    "duration": 21,
    "start_time": "2022-09-20T16:15:50.302Z"
   },
   {
    "duration": 4,
    "start_time": "2022-09-20T16:16:01.302Z"
   },
   {
    "duration": 31842,
    "start_time": "2022-09-20T16:16:07.168Z"
   },
   {
    "duration": 109,
    "start_time": "2022-09-20T16:17:21.223Z"
   },
   {
    "duration": 39642,
    "start_time": "2022-09-20T16:17:28.467Z"
   },
   {
    "duration": 236,
    "start_time": "2022-09-20T16:18:08.204Z"
   },
   {
    "duration": 6,
    "start_time": "2022-09-20T16:18:08.507Z"
   },
   {
    "duration": 93,
    "start_time": "2022-09-20T16:18:51.542Z"
   },
   {
    "duration": 40129,
    "start_time": "2022-09-20T16:18:57.576Z"
   },
   {
    "duration": 201,
    "start_time": "2022-09-20T16:19:37.708Z"
   },
   {
    "duration": 101,
    "start_time": "2022-09-20T16:19:37.910Z"
   },
   {
    "duration": 23,
    "start_time": "2022-09-20T16:21:06.570Z"
   },
   {
    "duration": 93,
    "start_time": "2022-09-20T16:21:33.138Z"
   },
   {
    "duration": 92,
    "start_time": "2022-09-20T16:21:37.641Z"
   },
   {
    "duration": 84,
    "start_time": "2022-09-20T16:21:39.407Z"
   },
   {
    "duration": 40588,
    "start_time": "2022-09-20T16:21:42.219Z"
   },
   {
    "duration": 200,
    "start_time": "2022-09-20T16:22:22.809Z"
   },
   {
    "duration": 94,
    "start_time": "2022-09-20T16:22:23.012Z"
   },
   {
    "duration": 23,
    "start_time": "2022-09-20T16:22:30.557Z"
   },
   {
    "duration": 7515,
    "start_time": "2022-09-20T16:23:28.499Z"
   },
   {
    "duration": 300,
    "start_time": "2022-09-20T16:23:36.106Z"
   },
   {
    "duration": 99,
    "start_time": "2022-09-20T16:23:36.407Z"
   },
   {
    "duration": 95,
    "start_time": "2022-09-20T16:23:47.102Z"
   },
   {
    "duration": 7819,
    "start_time": "2022-09-20T16:23:50.693Z"
   },
   {
    "duration": 391,
    "start_time": "2022-09-20T16:23:58.514Z"
   },
   {
    "duration": 6,
    "start_time": "2022-09-20T16:23:58.908Z"
   },
   {
    "duration": 112,
    "start_time": "2022-09-20T16:23:59.230Z"
   },
   {
    "duration": 7635,
    "start_time": "2022-09-20T16:24:01.370Z"
   },
   {
    "duration": 132,
    "start_time": "2022-09-20T16:24:09.008Z"
   },
   {
    "duration": 98,
    "start_time": "2022-09-20T16:24:09.208Z"
   },
   {
    "duration": 333,
    "start_time": "2022-09-20T16:24:40.167Z"
   },
   {
    "duration": 19,
    "start_time": "2022-09-20T16:24:45.071Z"
   },
   {
    "duration": 32620,
    "start_time": "2022-09-20T16:25:02.893Z"
   },
   {
    "duration": 227,
    "start_time": "2022-09-20T16:27:15.095Z"
   },
   {
    "duration": 52602,
    "start_time": "2022-09-20T16:27:25.108Z"
   },
   {
    "duration": 93,
    "start_time": "2022-09-20T16:28:57.524Z"
   },
   {
    "duration": 96,
    "start_time": "2022-09-20T16:28:59.415Z"
   },
   {
    "duration": 93,
    "start_time": "2022-09-20T16:28:59.513Z"
   },
   {
    "duration": 63,
    "start_time": "2022-09-20T16:30:52.406Z"
   },
   {
    "duration": 2177,
    "start_time": "2022-09-20T18:13:30.703Z"
   },
   {
    "duration": 1809,
    "start_time": "2022-09-20T18:13:32.882Z"
   },
   {
    "duration": 1546,
    "start_time": "2022-09-20T18:13:34.693Z"
   },
   {
    "duration": 1105,
    "start_time": "2022-09-20T18:13:36.241Z"
   },
   {
    "duration": 6,
    "start_time": "2022-09-20T18:13:37.348Z"
   },
   {
    "duration": 53,
    "start_time": "2022-09-20T18:13:37.355Z"
   },
   {
    "duration": 9,
    "start_time": "2022-09-20T18:13:37.409Z"
   },
   {
    "duration": 35,
    "start_time": "2022-09-20T18:13:37.420Z"
   },
   {
    "duration": 13,
    "start_time": "2022-09-20T18:13:37.456Z"
   },
   {
    "duration": 57,
    "start_time": "2022-09-20T18:13:37.471Z"
   },
   {
    "duration": 2,
    "start_time": "2022-09-20T18:13:37.530Z"
   },
   {
    "duration": 69,
    "start_time": "2022-09-20T18:13:37.533Z"
   },
   {
    "duration": 68,
    "start_time": "2022-09-20T18:13:37.604Z"
   },
   {
    "duration": 80,
    "start_time": "2022-09-20T18:13:37.675Z"
   },
   {
    "duration": 72,
    "start_time": "2022-09-20T18:13:37.756Z"
   },
   {
    "duration": 86,
    "start_time": "2022-09-20T18:13:37.831Z"
   },
   {
    "duration": 19,
    "start_time": "2022-09-20T18:13:37.919Z"
   },
   {
    "duration": 171,
    "start_time": "2022-09-20T18:13:37.940Z"
   },
   {
    "duration": 130,
    "start_time": "2022-09-20T18:13:38.112Z"
   },
   {
    "duration": 220,
    "start_time": "2022-09-20T18:13:38.244Z"
   },
   {
    "duration": 127,
    "start_time": "2022-09-20T18:13:38.466Z"
   },
   {
    "duration": 205,
    "start_time": "2022-09-20T18:13:38.595Z"
   },
   {
    "duration": 193,
    "start_time": "2022-09-20T18:13:38.801Z"
   },
   {
    "duration": 125,
    "start_time": "2022-09-20T18:13:38.995Z"
   },
   {
    "duration": 27,
    "start_time": "2022-09-20T18:13:39.122Z"
   },
   {
    "duration": 21,
    "start_time": "2022-09-20T18:13:39.151Z"
   },
   {
    "duration": 218,
    "start_time": "2022-09-20T18:13:39.174Z"
   },
   {
    "duration": 129,
    "start_time": "2022-09-20T18:13:39.399Z"
   },
   {
    "duration": 13,
    "start_time": "2022-09-20T18:13:39.530Z"
   },
   {
    "duration": 25,
    "start_time": "2022-09-20T18:13:39.544Z"
   },
   {
    "duration": 35,
    "start_time": "2022-09-20T18:13:39.571Z"
   },
   {
    "duration": 21,
    "start_time": "2022-09-20T18:13:39.608Z"
   },
   {
    "duration": 205,
    "start_time": "2022-09-20T18:13:39.630Z"
   },
   {
    "duration": 12,
    "start_time": "2022-09-20T18:13:39.836Z"
   },
   {
    "duration": 214,
    "start_time": "2022-09-20T18:13:39.850Z"
   },
   {
    "duration": 546,
    "start_time": "2022-09-20T18:13:57.957Z"
   },
   {
    "duration": 406,
    "start_time": "2022-09-20T18:14:01.933Z"
   },
   {
    "duration": 135,
    "start_time": "2022-09-20T18:14:05.749Z"
   },
   {
    "duration": 124,
    "start_time": "2022-09-20T18:14:13.125Z"
   },
   {
    "duration": 11078,
    "start_time": "2022-09-20T18:14:43.024Z"
   },
   {
    "duration": 99,
    "start_time": "2022-09-20T18:14:58.013Z"
   },
   {
    "duration": 95,
    "start_time": "2022-09-20T18:15:03.654Z"
   },
   {
    "duration": 2,
    "start_time": "2022-09-20T18:15:21.076Z"
   },
   {
    "duration": 6,
    "start_time": "2022-09-20T18:15:29.595Z"
   },
   {
    "duration": 2,
    "start_time": "2022-09-20T18:15:32.337Z"
   },
   {
    "duration": 8124,
    "start_time": "2022-09-20T18:15:36.734Z"
   },
   {
    "duration": 3,
    "start_time": "2022-09-20T18:15:50.501Z"
   },
   {
    "duration": 47108,
    "start_time": "2022-09-20T18:16:00.194Z"
   },
   {
    "duration": 97,
    "start_time": "2022-09-20T18:16:47.305Z"
   },
   {
    "duration": 128,
    "start_time": "2022-09-20T18:19:32.277Z"
   },
   {
    "duration": 5,
    "start_time": "2022-09-20T18:20:46.801Z"
   },
   {
    "duration": 41975,
    "start_time": "2022-09-20T18:21:22.749Z"
   },
   {
    "duration": 12,
    "start_time": "2022-09-20T18:50:40.156Z"
   },
   {
    "duration": 46,
    "start_time": "2022-09-20T18:50:50.533Z"
   },
   {
    "duration": 2467,
    "start_time": "2022-09-20T18:50:59.935Z"
   },
   {
    "duration": 2219,
    "start_time": "2022-09-20T18:51:02.404Z"
   },
   {
    "duration": 2931,
    "start_time": "2022-09-20T18:51:04.631Z"
   },
   {
    "duration": 1304,
    "start_time": "2022-09-20T18:51:07.564Z"
   },
   {
    "duration": 6,
    "start_time": "2022-09-20T18:51:08.870Z"
   },
   {
    "duration": 81,
    "start_time": "2022-09-20T18:51:08.878Z"
   },
   {
    "duration": 9,
    "start_time": "2022-09-20T18:51:08.961Z"
   },
   {
    "duration": 56,
    "start_time": "2022-09-20T18:51:08.971Z"
   },
   {
    "duration": 50,
    "start_time": "2022-09-20T18:51:09.034Z"
   },
   {
    "duration": 46,
    "start_time": "2022-09-20T18:51:09.086Z"
   },
   {
    "duration": 2,
    "start_time": "2022-09-20T18:51:09.134Z"
   },
   {
    "duration": 89,
    "start_time": "2022-09-20T18:51:09.138Z"
   },
   {
    "duration": 78,
    "start_time": "2022-09-20T18:51:09.229Z"
   },
   {
    "duration": 77,
    "start_time": "2022-09-20T18:51:09.318Z"
   },
   {
    "duration": 80,
    "start_time": "2022-09-20T18:51:09.396Z"
   },
   {
    "duration": 73,
    "start_time": "2022-09-20T18:51:09.478Z"
   },
   {
    "duration": 17,
    "start_time": "2022-09-20T18:51:09.553Z"
   },
   {
    "duration": 187,
    "start_time": "2022-09-20T18:51:09.571Z"
   },
   {
    "duration": 145,
    "start_time": "2022-09-20T18:51:09.759Z"
   },
   {
    "duration": 233,
    "start_time": "2022-09-20T18:51:09.909Z"
   },
   {
    "duration": 146,
    "start_time": "2022-09-20T18:51:10.143Z"
   },
   {
    "duration": 210,
    "start_time": "2022-09-20T18:51:10.291Z"
   },
   {
    "duration": 220,
    "start_time": "2022-09-20T18:51:10.503Z"
   },
   {
    "duration": 118,
    "start_time": "2022-09-20T18:51:10.732Z"
   },
   {
    "duration": 26,
    "start_time": "2022-09-20T18:51:10.851Z"
   },
   {
    "duration": 19,
    "start_time": "2022-09-20T18:51:10.879Z"
   },
   {
    "duration": 223,
    "start_time": "2022-09-20T18:51:10.899Z"
   },
   {
    "duration": 128,
    "start_time": "2022-09-20T18:51:11.124Z"
   },
   {
    "duration": 12,
    "start_time": "2022-09-20T18:51:11.254Z"
   },
   {
    "duration": 22,
    "start_time": "2022-09-20T18:51:11.267Z"
   },
   {
    "duration": 33,
    "start_time": "2022-09-20T18:51:11.291Z"
   },
   {
    "duration": 25,
    "start_time": "2022-09-20T18:51:11.325Z"
   },
   {
    "duration": 193,
    "start_time": "2022-09-20T18:51:11.351Z"
   },
   {
    "duration": 14,
    "start_time": "2022-09-20T18:51:11.546Z"
   },
   {
    "duration": 238,
    "start_time": "2022-09-20T18:51:11.561Z"
   },
   {
    "duration": 51,
    "start_time": "2022-09-20T18:51:11.801Z"
   },
   {
    "duration": 22,
    "start_time": "2022-09-20T18:51:11.854Z"
   },
   {
    "duration": 2,
    "start_time": "2022-09-20T18:51:11.878Z"
   },
   {
    "duration": 444,
    "start_time": "2022-09-20T18:51:30.333Z"
   },
   {
    "duration": 353,
    "start_time": "2022-09-20T18:51:32.344Z"
   },
   {
    "duration": 132,
    "start_time": "2022-09-20T18:51:33.696Z"
   },
   {
    "duration": 163,
    "start_time": "2022-09-20T18:51:34.504Z"
   },
   {
    "duration": 41251,
    "start_time": "2022-09-20T18:51:39.466Z"
   },
   {
    "duration": 3,
    "start_time": "2022-09-20T18:52:25.095Z"
   },
   {
    "duration": 225101,
    "start_time": "2022-09-20T18:52:26.456Z"
   },
   {
    "duration": 21,
    "start_time": "2022-09-20T18:58:14.150Z"
   },
   {
    "duration": 11,
    "start_time": "2022-09-20T18:58:20.204Z"
   },
   {
    "duration": 185489,
    "start_time": "2022-09-20T18:59:22.840Z"
   },
   {
    "duration": 28,
    "start_time": "2022-09-20T19:03:56.306Z"
   },
   {
    "duration": 85924,
    "start_time": "2022-09-20T19:04:12.446Z"
   },
   {
    "duration": 4,
    "start_time": "2022-09-20T19:05:38.371Z"
   },
   {
    "duration": 4,
    "start_time": "2022-09-20T19:05:38.383Z"
   },
   {
    "duration": 4,
    "start_time": "2022-09-20T19:06:40.237Z"
   },
   {
    "duration": 4,
    "start_time": "2022-09-20T19:06:59.280Z"
   },
   {
    "duration": 268,
    "start_time": "2022-09-20T19:07:07.840Z"
   },
   {
    "duration": 24,
    "start_time": "2022-09-20T19:07:11.130Z"
   },
   {
    "duration": 911,
    "start_time": "2022-09-20T19:07:14.558Z"
   },
   {
    "duration": 175,
    "start_time": "2022-09-20T19:07:21.864Z"
   },
   {
    "duration": 945,
    "start_time": "2022-09-20T19:07:24.833Z"
   },
   {
    "duration": 17,
    "start_time": "2022-09-20T19:07:37.979Z"
   },
   {
    "duration": 100990,
    "start_time": "2022-09-20T19:08:13.433Z"
   }
  ],
  "kernelspec": {
   "display_name": "Python 3 (ipykernel)",
   "language": "python",
   "name": "python3"
  },
  "language_info": {
   "codemirror_mode": {
    "name": "ipython",
    "version": 3
   },
   "file_extension": ".py",
   "mimetype": "text/x-python",
   "name": "python",
   "nbconvert_exporter": "python",
   "pygments_lexer": "ipython3",
   "version": "3.9.7"
  },
  "toc": {
   "base_numbering": 1,
   "nav_menu": {},
   "number_sections": true,
   "sideBar": true,
   "skip_h1_title": true,
   "title_cell": "Table of Contents",
   "title_sidebar": "Contents",
   "toc_cell": false,
   "toc_position": {},
   "toc_section_display": true,
   "toc_window_display": false
  }
 },
 "nbformat": 4,
 "nbformat_minor": 2
}
