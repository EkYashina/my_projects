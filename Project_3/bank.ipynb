{
 "cells": [
  {
   "cell_type": "markdown",
   "metadata": {
    "toc": true
   },
   "source": [
    "<h1>Содержание<span class=\"tocSkip\"></span></h1>\n",
    "<div class=\"toc\"><ul class=\"toc-item\"><li><ul class=\"toc-item\"><li><span><a href=\"#Описание-исследования\" data-toc-modified-id=\"Описание-исследования-0.1\"><span class=\"toc-item-num\">0.1&nbsp;&nbsp;</span>Описание исследования</a></span></li></ul></li><li><span><a href=\"#Подготовка-данных\" data-toc-modified-id=\"Подготовка-данных-1\"><span class=\"toc-item-num\">1&nbsp;&nbsp;</span>Подготовка данных</a></span></li><li><span><a href=\"#Исследование-задачи\" data-toc-modified-id=\"Исследование-задачи-2\"><span class=\"toc-item-num\">2&nbsp;&nbsp;</span>Исследование задачи</a></span></li><li><span><a href=\"#Борьба-с-дисбалансом\" data-toc-modified-id=\"Борьба-с-дисбалансом-3\"><span class=\"toc-item-num\">3&nbsp;&nbsp;</span>Борьба с дисбалансом</a></span></li><li><span><a href=\"#Тестирование-модели\" data-toc-modified-id=\"Тестирование-модели-4\"><span class=\"toc-item-num\">4&nbsp;&nbsp;</span>Тестирование модели</a></span></li></ul></div>"
   ]
  },
  {
   "cell_type": "markdown",
   "metadata": {},
   "source": [
    "# Отток клиентов"
   ]
  },
  {
   "cell_type": "markdown",
   "metadata": {},
   "source": [
    "### Описание исследования \n",
    "\n",
    "Из «Бета-Банка» стали уходить клиенты. Каждый месяц. Немного, но заметно. Банковские маркетологи посчитали: сохранять текущих клиентов дешевле, чем привлекать новых.\n",
    "\n",
    "**Цель исследования**: спрогнозировать, уйдёт клиент из банка в ближайшее время или нет.\n",
    "\n",
    "Постройте модель с предельно большим значением *F1*-меры. Чтобы сдать проект успешно, нужно довести метрику до 0.59. Проверьте *F1*-меру на тестовой выборке самостоятельно. Дополнительно измеряйте *AUC-ROC*, сравнивайте её значение с *F1*-мерой.\n",
    "\n",
    "\n",
    "**Исходные данные** \n",
    "\n",
    "Предоставлены исторические данные о поведении клиентов и расторжении договоров с банком. \n",
    "Источник данных: [https://www.kaggle.com/barelydedicated/bank-customer-churn-modeling](https://www.kaggle.com/barelydedicated/bank-customer-churn-modeling)\n",
    "\n",
    "Признаки:\n",
    "\n",
    "    RowNumber — индекс строки в данных\n",
    "    CustomerId — уникальный идентификатор клиента\n",
    "    Surname — фамилия\n",
    "    CreditScore — кредитный рейтинг\n",
    "    Geography — страна проживания\n",
    "    Gender — пол\n",
    "    Age — возраст\n",
    "    Tenure — сколько лет человек является клиентом банка\n",
    "    Balance — баланс на счёте\n",
    "    NumOfProducts — количество продуктов банка, используемых клиентом\n",
    "    HasCrCard — наличие кредитной карты\n",
    "    IsActiveMember — активность клиента\n",
    "    EstimatedSalary — предполагаемая зарплата\n",
    "    \n",
    "Целевой признак:\n",
    "\n",
    "    Exited — факт ухода клиент\n"
   ]
  },
  {
   "cell_type": "markdown",
   "metadata": {},
   "source": [
    "## Подготовка данных"
   ]
  },
  {
   "cell_type": "code",
   "execution_count": 1,
   "metadata": {},
   "outputs": [],
   "source": [
    "#Импортируем библиотеки \n",
    "import pandas as pd\n",
    "import matplotlib.pyplot as plt\n",
    "\n",
    "from sklearn.model_selection import train_test_split\n",
    "from sklearn.preprocessing import StandardScaler\n",
    "from sklearn.linear_model import LogisticRegression\n",
    "from sklearn.tree import DecisionTreeClassifier\n",
    "from sklearn.ensemble import RandomForestClassifier \n",
    "from sklearn.metrics import accuracy_score, precision_score, recall_score, f1_score, confusion_matrix, roc_curve, roc_auc_score\n",
    "from sklearn.utils import shuffle"
   ]
  },
  {
   "cell_type": "markdown",
   "metadata": {},
   "source": [
    "Откроем таблицу с данными, изучим общую информацию о данных:"
   ]
  },
  {
   "cell_type": "code",
   "execution_count": 2,
   "metadata": {},
   "outputs": [
    {
     "data": {
      "text/html": [
       "<div>\n",
       "<style scoped>\n",
       "    .dataframe tbody tr th:only-of-type {\n",
       "        vertical-align: middle;\n",
       "    }\n",
       "\n",
       "    .dataframe tbody tr th {\n",
       "        vertical-align: top;\n",
       "    }\n",
       "\n",
       "    .dataframe thead th {\n",
       "        text-align: right;\n",
       "    }\n",
       "</style>\n",
       "<table border=\"1\" class=\"dataframe\">\n",
       "  <thead>\n",
       "    <tr style=\"text-align: right;\">\n",
       "      <th></th>\n",
       "      <th>RowNumber</th>\n",
       "      <th>CustomerId</th>\n",
       "      <th>Surname</th>\n",
       "      <th>CreditScore</th>\n",
       "      <th>Geography</th>\n",
       "      <th>Gender</th>\n",
       "      <th>Age</th>\n",
       "      <th>Tenure</th>\n",
       "      <th>Balance</th>\n",
       "      <th>NumOfProducts</th>\n",
       "      <th>HasCrCard</th>\n",
       "      <th>IsActiveMember</th>\n",
       "      <th>EstimatedSalary</th>\n",
       "      <th>Exited</th>\n",
       "    </tr>\n",
       "  </thead>\n",
       "  <tbody>\n",
       "    <tr>\n",
       "      <th>0</th>\n",
       "      <td>1</td>\n",
       "      <td>15634602</td>\n",
       "      <td>Hargrave</td>\n",
       "      <td>619</td>\n",
       "      <td>France</td>\n",
       "      <td>Female</td>\n",
       "      <td>42</td>\n",
       "      <td>2.0</td>\n",
       "      <td>0.00</td>\n",
       "      <td>1</td>\n",
       "      <td>1</td>\n",
       "      <td>1</td>\n",
       "      <td>101348.88</td>\n",
       "      <td>1</td>\n",
       "    </tr>\n",
       "    <tr>\n",
       "      <th>1</th>\n",
       "      <td>2</td>\n",
       "      <td>15647311</td>\n",
       "      <td>Hill</td>\n",
       "      <td>608</td>\n",
       "      <td>Spain</td>\n",
       "      <td>Female</td>\n",
       "      <td>41</td>\n",
       "      <td>1.0</td>\n",
       "      <td>83807.86</td>\n",
       "      <td>1</td>\n",
       "      <td>0</td>\n",
       "      <td>1</td>\n",
       "      <td>112542.58</td>\n",
       "      <td>0</td>\n",
       "    </tr>\n",
       "    <tr>\n",
       "      <th>2</th>\n",
       "      <td>3</td>\n",
       "      <td>15619304</td>\n",
       "      <td>Onio</td>\n",
       "      <td>502</td>\n",
       "      <td>France</td>\n",
       "      <td>Female</td>\n",
       "      <td>42</td>\n",
       "      <td>8.0</td>\n",
       "      <td>159660.80</td>\n",
       "      <td>3</td>\n",
       "      <td>1</td>\n",
       "      <td>0</td>\n",
       "      <td>113931.57</td>\n",
       "      <td>1</td>\n",
       "    </tr>\n",
       "    <tr>\n",
       "      <th>3</th>\n",
       "      <td>4</td>\n",
       "      <td>15701354</td>\n",
       "      <td>Boni</td>\n",
       "      <td>699</td>\n",
       "      <td>France</td>\n",
       "      <td>Female</td>\n",
       "      <td>39</td>\n",
       "      <td>1.0</td>\n",
       "      <td>0.00</td>\n",
       "      <td>2</td>\n",
       "      <td>0</td>\n",
       "      <td>0</td>\n",
       "      <td>93826.63</td>\n",
       "      <td>0</td>\n",
       "    </tr>\n",
       "    <tr>\n",
       "      <th>4</th>\n",
       "      <td>5</td>\n",
       "      <td>15737888</td>\n",
       "      <td>Mitchell</td>\n",
       "      <td>850</td>\n",
       "      <td>Spain</td>\n",
       "      <td>Female</td>\n",
       "      <td>43</td>\n",
       "      <td>2.0</td>\n",
       "      <td>125510.82</td>\n",
       "      <td>1</td>\n",
       "      <td>1</td>\n",
       "      <td>1</td>\n",
       "      <td>79084.10</td>\n",
       "      <td>0</td>\n",
       "    </tr>\n",
       "  </tbody>\n",
       "</table>\n",
       "</div>"
      ],
      "text/plain": [
       "   RowNumber  CustomerId   Surname  CreditScore Geography  Gender  Age  \\\n",
       "0          1    15634602  Hargrave          619    France  Female   42   \n",
       "1          2    15647311      Hill          608     Spain  Female   41   \n",
       "2          3    15619304      Onio          502    France  Female   42   \n",
       "3          4    15701354      Boni          699    France  Female   39   \n",
       "4          5    15737888  Mitchell          850     Spain  Female   43   \n",
       "\n",
       "   Tenure    Balance  NumOfProducts  HasCrCard  IsActiveMember  \\\n",
       "0     2.0       0.00              1          1               1   \n",
       "1     1.0   83807.86              1          0               1   \n",
       "2     8.0  159660.80              3          1               0   \n",
       "3     1.0       0.00              2          0               0   \n",
       "4     2.0  125510.82              1          1               1   \n",
       "\n",
       "   EstimatedSalary  Exited  \n",
       "0        101348.88       1  \n",
       "1        112542.58       0  \n",
       "2        113931.57       1  \n",
       "3         93826.63       0  \n",
       "4         79084.10       0  "
      ]
     },
     "execution_count": 2,
     "metadata": {},
     "output_type": "execute_result"
    }
   ],
   "source": [
    "try:\n",
    "    data = pd.read_csv('C:\\\\Users\\\\vasil\\\\Downloads\\\\ML_2\\\\Churn.csv')\n",
    "except:\n",
    "    data = pd.read_csv('/datasets/Churn.csv')\n",
    "    \n",
    "data.head()"
   ]
  },
  {
   "cell_type": "code",
   "execution_count": 3,
   "metadata": {},
   "outputs": [
    {
     "name": "stdout",
     "output_type": "stream",
     "text": [
      "<class 'pandas.core.frame.DataFrame'>\n",
      "RangeIndex: 10000 entries, 0 to 9999\n",
      "Data columns (total 14 columns):\n",
      " #   Column           Non-Null Count  Dtype  \n",
      "---  ------           --------------  -----  \n",
      " 0   RowNumber        10000 non-null  int64  \n",
      " 1   CustomerId       10000 non-null  int64  \n",
      " 2   Surname          10000 non-null  object \n",
      " 3   CreditScore      10000 non-null  int64  \n",
      " 4   Geography        10000 non-null  object \n",
      " 5   Gender           10000 non-null  object \n",
      " 6   Age              10000 non-null  int64  \n",
      " 7   Tenure           9091 non-null   float64\n",
      " 8   Balance          10000 non-null  float64\n",
      " 9   NumOfProducts    10000 non-null  int64  \n",
      " 10  HasCrCard        10000 non-null  int64  \n",
      " 11  IsActiveMember   10000 non-null  int64  \n",
      " 12  EstimatedSalary  10000 non-null  float64\n",
      " 13  Exited           10000 non-null  int64  \n",
      "dtypes: float64(3), int64(8), object(3)\n",
      "memory usage: 1.1+ MB\n"
     ]
    }
   ],
   "source": [
    "data.info()"
   ]
  },
  {
   "cell_type": "code",
   "execution_count": 4,
   "metadata": {},
   "outputs": [
    {
     "data": {
      "text/plain": [
       "1    7055\n",
       "0    2945\n",
       "Name: HasCrCard, dtype: int64"
      ]
     },
     "execution_count": 4,
     "metadata": {},
     "output_type": "execute_result"
    }
   ],
   "source": [
    "data['HasCrCard'].value_counts() #сумма уникальных значений в столбце"
   ]
  },
  {
   "cell_type": "code",
   "execution_count": 5,
   "metadata": {},
   "outputs": [
    {
     "data": {
      "text/plain": [
       "1    5151\n",
       "0    4849\n",
       "Name: IsActiveMember, dtype: int64"
      ]
     },
     "execution_count": 5,
     "metadata": {},
     "output_type": "execute_result"
    }
   ],
   "source": [
    "data['IsActiveMember'].value_counts() #сумма уникальных значений в столбце"
   ]
  },
  {
   "cell_type": "code",
   "execution_count": 6,
   "metadata": {},
   "outputs": [
    {
     "data": {
      "text/plain": [
       "0.0909"
      ]
     },
     "execution_count": 6,
     "metadata": {},
     "output_type": "execute_result"
    }
   ],
   "source": [
    "data['Tenure'].isnull().mean() #доля пропусков в столбце Tenure"
   ]
  },
  {
   "cell_type": "code",
   "execution_count": 7,
   "metadata": {
    "scrolled": true
   },
   "outputs": [
    {
     "data": {
      "text/plain": [
       "0    7963\n",
       "1    2037\n",
       "Name: Exited, dtype: int64"
      ]
     },
     "execution_count": 7,
     "metadata": {},
     "output_type": "execute_result"
    }
   ],
   "source": [
    "data.Exited.value_counts() #cоотношение классов в выборке"
   ]
  },
  {
   "cell_type": "markdown",
   "metadata": {},
   "source": [
    "Для построения модели, с прогнозом уйдет ли клиент из банка, необходимы признакими, которые позволяют оценить поведение клиента, поэтому столбцы RowNumber, CustomerId, Surname удалим из таблицы, как незначимые для анализа. \n",
    "\n",
    "Единственный столбец, имеющий пропуски Tenure значим для прогнозирования, при этом доля пропусков 9%. Но не будем принебрегать этой долей и терять данные, ведь в таблице наблюдается неравное соотношение классов и удаление строк с положительными значениями целевого признаками может ухудшить качество модели. Поэтому сохраним данные, которые есть. Пропуски в столбце обработаем нулем, а для того, чтобы алгоритм понимал, что это пропуски добавим столбец  tenure_isnull, в котором 1 означает наличие пропуска в столбце. \n",
    "\n",
    "Приведем название всех столбцов таблицы к нижнему регистру. "
   ]
  },
  {
   "cell_type": "code",
   "execution_count": 8,
   "metadata": {},
   "outputs": [],
   "source": [
    "data.columns = data.columns.str.lower()"
   ]
  },
  {
   "cell_type": "code",
   "execution_count": 9,
   "metadata": {},
   "outputs": [
    {
     "data": {
      "text/html": [
       "<div>\n",
       "<style scoped>\n",
       "    .dataframe tbody tr th:only-of-type {\n",
       "        vertical-align: middle;\n",
       "    }\n",
       "\n",
       "    .dataframe tbody tr th {\n",
       "        vertical-align: top;\n",
       "    }\n",
       "\n",
       "    .dataframe thead th {\n",
       "        text-align: right;\n",
       "    }\n",
       "</style>\n",
       "<table border=\"1\" class=\"dataframe\">\n",
       "  <thead>\n",
       "    <tr style=\"text-align: right;\">\n",
       "      <th></th>\n",
       "      <th>creditscore</th>\n",
       "      <th>geography</th>\n",
       "      <th>gender</th>\n",
       "      <th>age</th>\n",
       "      <th>tenure</th>\n",
       "      <th>balance</th>\n",
       "      <th>numofproducts</th>\n",
       "      <th>hascrcard</th>\n",
       "      <th>isactivemember</th>\n",
       "      <th>estimatedsalary</th>\n",
       "      <th>exited</th>\n",
       "    </tr>\n",
       "  </thead>\n",
       "  <tbody>\n",
       "    <tr>\n",
       "      <th>0</th>\n",
       "      <td>619</td>\n",
       "      <td>France</td>\n",
       "      <td>Female</td>\n",
       "      <td>42</td>\n",
       "      <td>2.0</td>\n",
       "      <td>0.00</td>\n",
       "      <td>1</td>\n",
       "      <td>1</td>\n",
       "      <td>1</td>\n",
       "      <td>101348.88</td>\n",
       "      <td>1</td>\n",
       "    </tr>\n",
       "    <tr>\n",
       "      <th>1</th>\n",
       "      <td>608</td>\n",
       "      <td>Spain</td>\n",
       "      <td>Female</td>\n",
       "      <td>41</td>\n",
       "      <td>1.0</td>\n",
       "      <td>83807.86</td>\n",
       "      <td>1</td>\n",
       "      <td>0</td>\n",
       "      <td>1</td>\n",
       "      <td>112542.58</td>\n",
       "      <td>0</td>\n",
       "    </tr>\n",
       "    <tr>\n",
       "      <th>2</th>\n",
       "      <td>502</td>\n",
       "      <td>France</td>\n",
       "      <td>Female</td>\n",
       "      <td>42</td>\n",
       "      <td>8.0</td>\n",
       "      <td>159660.80</td>\n",
       "      <td>3</td>\n",
       "      <td>1</td>\n",
       "      <td>0</td>\n",
       "      <td>113931.57</td>\n",
       "      <td>1</td>\n",
       "    </tr>\n",
       "    <tr>\n",
       "      <th>3</th>\n",
       "      <td>699</td>\n",
       "      <td>France</td>\n",
       "      <td>Female</td>\n",
       "      <td>39</td>\n",
       "      <td>1.0</td>\n",
       "      <td>0.00</td>\n",
       "      <td>2</td>\n",
       "      <td>0</td>\n",
       "      <td>0</td>\n",
       "      <td>93826.63</td>\n",
       "      <td>0</td>\n",
       "    </tr>\n",
       "    <tr>\n",
       "      <th>4</th>\n",
       "      <td>850</td>\n",
       "      <td>Spain</td>\n",
       "      <td>Female</td>\n",
       "      <td>43</td>\n",
       "      <td>2.0</td>\n",
       "      <td>125510.82</td>\n",
       "      <td>1</td>\n",
       "      <td>1</td>\n",
       "      <td>1</td>\n",
       "      <td>79084.10</td>\n",
       "      <td>0</td>\n",
       "    </tr>\n",
       "  </tbody>\n",
       "</table>\n",
       "</div>"
      ],
      "text/plain": [
       "   creditscore geography  gender  age  tenure    balance  numofproducts  \\\n",
       "0          619    France  Female   42     2.0       0.00              1   \n",
       "1          608     Spain  Female   41     1.0   83807.86              1   \n",
       "2          502    France  Female   42     8.0  159660.80              3   \n",
       "3          699    France  Female   39     1.0       0.00              2   \n",
       "4          850     Spain  Female   43     2.0  125510.82              1   \n",
       "\n",
       "   hascrcard  isactivemember  estimatedsalary  exited  \n",
       "0          1               1        101348.88       1  \n",
       "1          0               1        112542.58       0  \n",
       "2          1               0        113931.57       1  \n",
       "3          0               0         93826.63       0  \n",
       "4          1               1         79084.10       0  "
      ]
     },
     "execution_count": 9,
     "metadata": {},
     "output_type": "execute_result"
    }
   ],
   "source": [
    "data.drop(columns=['rownumber', 'customerid', 'surname'], inplace=True)\n",
    "data.head()"
   ]
  },
  {
   "cell_type": "code",
   "execution_count": 10,
   "metadata": {},
   "outputs": [],
   "source": [
    "data['tenure'] = data['tenure'].fillna(0)"
   ]
  },
  {
   "cell_type": "code",
   "execution_count": 11,
   "metadata": {},
   "outputs": [],
   "source": [
    "#формула для создания фиктивного признака \n",
    "\n",
    "def tenure_isnull(tenure):\n",
    "    if tenure == 0:\n",
    "        return 1\n",
    "    return 0 "
   ]
  },
  {
   "cell_type": "code",
   "execution_count": 12,
   "metadata": {},
   "outputs": [
    {
     "data": {
      "text/html": [
       "<div>\n",
       "<style scoped>\n",
       "    .dataframe tbody tr th:only-of-type {\n",
       "        vertical-align: middle;\n",
       "    }\n",
       "\n",
       "    .dataframe tbody tr th {\n",
       "        vertical-align: top;\n",
       "    }\n",
       "\n",
       "    .dataframe thead th {\n",
       "        text-align: right;\n",
       "    }\n",
       "</style>\n",
       "<table border=\"1\" class=\"dataframe\">\n",
       "  <thead>\n",
       "    <tr style=\"text-align: right;\">\n",
       "      <th></th>\n",
       "      <th>creditscore</th>\n",
       "      <th>geography</th>\n",
       "      <th>gender</th>\n",
       "      <th>age</th>\n",
       "      <th>tenure</th>\n",
       "      <th>balance</th>\n",
       "      <th>numofproducts</th>\n",
       "      <th>hascrcard</th>\n",
       "      <th>isactivemember</th>\n",
       "      <th>estimatedsalary</th>\n",
       "      <th>exited</th>\n",
       "      <th>tenure_isnull</th>\n",
       "    </tr>\n",
       "  </thead>\n",
       "  <tbody>\n",
       "    <tr>\n",
       "      <th>9995</th>\n",
       "      <td>771</td>\n",
       "      <td>France</td>\n",
       "      <td>Male</td>\n",
       "      <td>39</td>\n",
       "      <td>5.0</td>\n",
       "      <td>0.00</td>\n",
       "      <td>2</td>\n",
       "      <td>1</td>\n",
       "      <td>0</td>\n",
       "      <td>96270.64</td>\n",
       "      <td>0</td>\n",
       "      <td>0</td>\n",
       "    </tr>\n",
       "    <tr>\n",
       "      <th>9996</th>\n",
       "      <td>516</td>\n",
       "      <td>France</td>\n",
       "      <td>Male</td>\n",
       "      <td>35</td>\n",
       "      <td>10.0</td>\n",
       "      <td>57369.61</td>\n",
       "      <td>1</td>\n",
       "      <td>1</td>\n",
       "      <td>1</td>\n",
       "      <td>101699.77</td>\n",
       "      <td>0</td>\n",
       "      <td>0</td>\n",
       "    </tr>\n",
       "    <tr>\n",
       "      <th>9997</th>\n",
       "      <td>709</td>\n",
       "      <td>France</td>\n",
       "      <td>Female</td>\n",
       "      <td>36</td>\n",
       "      <td>7.0</td>\n",
       "      <td>0.00</td>\n",
       "      <td>1</td>\n",
       "      <td>0</td>\n",
       "      <td>1</td>\n",
       "      <td>42085.58</td>\n",
       "      <td>1</td>\n",
       "      <td>0</td>\n",
       "    </tr>\n",
       "    <tr>\n",
       "      <th>9998</th>\n",
       "      <td>772</td>\n",
       "      <td>Germany</td>\n",
       "      <td>Male</td>\n",
       "      <td>42</td>\n",
       "      <td>3.0</td>\n",
       "      <td>75075.31</td>\n",
       "      <td>2</td>\n",
       "      <td>1</td>\n",
       "      <td>0</td>\n",
       "      <td>92888.52</td>\n",
       "      <td>1</td>\n",
       "      <td>0</td>\n",
       "    </tr>\n",
       "    <tr>\n",
       "      <th>9999</th>\n",
       "      <td>792</td>\n",
       "      <td>France</td>\n",
       "      <td>Female</td>\n",
       "      <td>28</td>\n",
       "      <td>0.0</td>\n",
       "      <td>130142.79</td>\n",
       "      <td>1</td>\n",
       "      <td>1</td>\n",
       "      <td>0</td>\n",
       "      <td>38190.78</td>\n",
       "      <td>0</td>\n",
       "      <td>1</td>\n",
       "    </tr>\n",
       "  </tbody>\n",
       "</table>\n",
       "</div>"
      ],
      "text/plain": [
       "      creditscore geography  gender  age  tenure    balance  numofproducts  \\\n",
       "9995          771    France    Male   39     5.0       0.00              2   \n",
       "9996          516    France    Male   35    10.0   57369.61              1   \n",
       "9997          709    France  Female   36     7.0       0.00              1   \n",
       "9998          772   Germany    Male   42     3.0   75075.31              2   \n",
       "9999          792    France  Female   28     0.0  130142.79              1   \n",
       "\n",
       "      hascrcard  isactivemember  estimatedsalary  exited  tenure_isnull  \n",
       "9995          1               0         96270.64       0              0  \n",
       "9996          1               1        101699.77       0              0  \n",
       "9997          0               1         42085.58       1              0  \n",
       "9998          1               0         92888.52       1              0  \n",
       "9999          1               0         38190.78       0              1  "
      ]
     },
     "execution_count": 12,
     "metadata": {},
     "output_type": "execute_result"
    }
   ],
   "source": [
    "data['tenure_isnull'] = data['tenure'].apply(tenure_isnull)\n",
    "data.tail()"
   ]
  },
  {
   "cell_type": "markdown",
   "metadata": {},
   "source": [
    "В данных есть 2 категориальных признака преобразуем их техникой OHE."
   ]
  },
  {
   "cell_type": "code",
   "execution_count": 13,
   "metadata": {},
   "outputs": [],
   "source": [
    "data_ohe = pd.get_dummies(data, drop_first=True)"
   ]
  },
  {
   "cell_type": "code",
   "execution_count": 14,
   "metadata": {},
   "outputs": [],
   "source": [
    "target = data_ohe['exited']\n",
    "features = data_ohe.drop(['exited'] , axis=1)"
   ]
  },
  {
   "cell_type": "markdown",
   "metadata": {},
   "source": [
    "Для обучения модели и проверки ее качества разделим исходную таблицу на тренировочную, валидационную и тестовую. Данных немного, поэтому наибольшую долю заложим на обучение, разделим все данные в пропорции: 80%-10%-10%"
   ]
  },
  {
   "cell_type": "code",
   "execution_count": 15,
   "metadata": {},
   "outputs": [],
   "source": [
    "#разделим обучающую и валидационную выборки\n",
    "\n",
    "features_train, features_valid, target_train, target_valid = train_test_split(\n",
    "    features, target, test_size=0.2, random_state=12345) "
   ]
  },
  {
   "cell_type": "code",
   "execution_count": 16,
   "metadata": {},
   "outputs": [],
   "source": [
    "#разделим валидационную и тренировочную выборки\n",
    "features_valid, features_test, target_valid, target_test = train_test_split(\n",
    "    features_valid, target_valid, test_size=0.5, random_state=12345) "
   ]
  },
  {
   "cell_type": "code",
   "execution_count": 17,
   "metadata": {},
   "outputs": [
    {
     "data": {
      "text/plain": [
       "((8000, 12), (1000, 12), (1000, 12))"
      ]
     },
     "execution_count": 17,
     "metadata": {},
     "output_type": "execute_result"
    }
   ],
   "source": [
    "#проверим размеры выборок \n",
    "features_train.shape, features_valid.shape, features_test.shape "
   ]
  },
  {
   "cell_type": "markdown",
   "metadata": {},
   "source": [
    "Приведем численные признаки к одному масштабу:\n"
   ]
  },
  {
   "cell_type": "code",
   "execution_count": 18,
   "metadata": {
    "scrolled": true
   },
   "outputs": [
    {
     "name": "stderr",
     "output_type": "stream",
     "text": [
      "C:\\Users\\vasil\\anaconda3\\lib\\site-packages\\pandas\\core\\frame.py:3678: SettingWithCopyWarning: \n",
      "A value is trying to be set on a copy of a slice from a DataFrame.\n",
      "Try using .loc[row_indexer,col_indexer] = value instead\n",
      "\n",
      "See the caveats in the documentation: https://pandas.pydata.org/pandas-docs/stable/user_guide/indexing.html#returning-a-view-versus-a-copy\n",
      "  self[col] = igetitem(value, i)\n"
     ]
    },
    {
     "data": {
      "text/plain": [
       "(      creditscore       age    tenure   balance  numofproducts  hascrcard  \\\n",
       " 454      1.107585  0.011482  0.466088  0.819420      -0.899779  -1.551033   \n",
       " 8307    -0.338704 -0.844298 -0.496821  0.923294      -0.899779   0.644731   \n",
       " 4811    -0.782922 -1.224645  0.787058 -1.220083       0.811234   0.644731   \n",
       " 1132    -0.235398 -0.178692 -1.459730 -1.220083       0.811234   0.644731   \n",
       " 9640     1.024940 -0.368865 -0.496821 -1.220083      -0.899779   0.644731   \n",
       " \n",
       "       isactivemember  estimatedsalary  tenure_isnull  geography_Germany  \\\n",
       " 454         0.960528        -0.757878       -0.38805                  0   \n",
       " 8307        0.960528        -1.194506       -0.38805                  0   \n",
       " 4811       -1.041094         0.212357       -0.38805                  0   \n",
       " 1132        0.960528         1.239310        2.57699                  0   \n",
       " 9640       -1.041094         1.583001       -0.38805                  0   \n",
       " \n",
       "       geography_Spain  gender_Male  \n",
       " 454                 0            0  \n",
       " 8307                0            1  \n",
       " 4811                1            0  \n",
       " 1132                0            1  \n",
       " 9640                0            0  ,\n",
       "       creditscore       age    tenure   balance  numofproducts  hascrcard  \\\n",
       " 5459    -1.247800 -0.273778  0.787058 -1.220083       0.811234   0.644731   \n",
       " 2899    -0.669285 -0.368865  0.787058 -1.220083       0.811234   0.644731   \n",
       " 6221    -1.423421  0.582002 -1.459730  1.416609       2.522248   0.644731   \n",
       " 5918    -0.524656 -1.034472 -0.817791  0.647519      -0.899779  -1.551033   \n",
       " 1901     1.500150  2.673909  0.145118 -1.220083       0.811234  -1.551033   \n",
       " \n",
       "       isactivemember  estimatedsalary  tenure_isnull  geography_Germany  \\\n",
       " 5459       -1.041094        -0.340817       -0.38805                  0   \n",
       " 2899       -1.041094        -0.511832       -0.38805                  0   \n",
       " 6221       -1.041094        -0.873435        2.57699                  0   \n",
       " 5918        0.960528        -0.700142       -0.38805                  1   \n",
       " 1901        0.960528        -0.787472       -0.38805                  0   \n",
       " \n",
       "       geography_Spain  gender_Male  \n",
       " 5459                1            0  \n",
       " 2899                0            0  \n",
       " 6221                0            0  \n",
       " 5918                0            1  \n",
       " 1901                1            1  ,\n",
       "       creditscore       age    tenure   balance  numofproducts  hascrcard  \\\n",
       " 2877     0.064191  2.673909  0.145118  0.698158       0.811234   0.644731   \n",
       " 8377     1.562133  0.106568 -0.175851 -1.220083       0.811234   0.644731   \n",
       " 154     -0.380027  0.391828  0.466088 -1.220083       0.811234   0.644731   \n",
       " 4937    -0.762260 -0.273778 -0.496821  0.719088       0.811234  -1.551033   \n",
       " 9041    -1.423421  0.962348 -1.459730  1.527934      -0.899779   0.644731   \n",
       " \n",
       "       isactivemember  estimatedsalary  tenure_isnull  geography_Germany  \\\n",
       " 2877        0.960528         0.126084       -0.38805                  0   \n",
       " 8377        0.960528        -0.318457       -0.38805                  0   \n",
       " 154         0.960528         0.152230       -0.38805                  0   \n",
       " 4937        0.960528         0.754901       -0.38805                  0   \n",
       " 9041       -1.041094         0.450293        2.57699                  1   \n",
       " \n",
       "       geography_Spain  gender_Male  \n",
       " 2877                1            1  \n",
       " 8377                1            1  \n",
       " 154                 0            0  \n",
       " 4937                0            1  \n",
       " 9041                0            0  )"
      ]
     },
     "execution_count": 18,
     "metadata": {},
     "output_type": "execute_result"
    }
   ],
   "source": [
    "numeric = ['creditscore', 'age', 'tenure', 'balance', 'numofproducts', 'hascrcard', 'isactivemember', \n",
    "           'estimatedsalary', 'tenure_isnull']\n",
    "\n",
    "scaler = StandardScaler()\n",
    "scaler.fit(features_train[numeric])\n",
    "features_train[numeric] = scaler.transform(features_train[numeric])\n",
    "features_valid[numeric] = scaler.transform(features_valid[numeric])\n",
    "features_test[numeric] = scaler.transform(features_test[numeric])\n",
    "\n",
    "features_train.head(), features_valid.head(), features_test.head()"
   ]
  },
  {
   "cell_type": "markdown",
   "metadata": {},
   "source": [
    "## Исследование задачи"
   ]
  },
  {
   "cell_type": "markdown",
   "metadata": {},
   "source": [
    "Исследуем баланс классов в выборке:"
   ]
  },
  {
   "cell_type": "code",
   "execution_count": 19,
   "metadata": {},
   "outputs": [
    {
     "data": {
      "text/plain": [
       "0    0.7963\n",
       "1    0.2037\n",
       "Name: exited, dtype: float64"
      ]
     },
     "execution_count": 19,
     "metadata": {},
     "output_type": "execute_result"
    }
   ],
   "source": [
    "class_frequency = data_ohe['exited'].value_counts(normalize=2/len(data['exited']))\n",
    "class_frequency"
   ]
  },
  {
   "cell_type": "code",
   "execution_count": 20,
   "metadata": {},
   "outputs": [
    {
     "data": {
      "image/png": "[encoded data removed]",
      "text/plain": [
       "<Figure size 432x288 with 1 Axes>"
      ]
     },
     "metadata": {
      "needs_background": "light"
     },
     "output_type": "display_data"
    }
   ],
   "source": [
    "class_frequency.plot(kind='bar', title=\"Распределение классов  выборке\", ylabel= 'доля от общей выборки') \n",
    "\n",
    "plt.show()"
   ]
  },
  {
   "cell_type": "markdown",
   "metadata": {},
   "source": [
    "В общей выборке класс 0 составляет почти 80%, наблюдается явный дисбаланс классов, который повлияет на предсказания модели, положительные результаты она будет предсказывать хуже. Для начала обучим модель без учета дисбаланса классов."
   ]
  },
  {
   "cell_type": "code",
   "execution_count": 21,
   "metadata": {},
   "outputs": [
    {
     "data": {
      "text/plain": [
       "0.785"
      ]
     },
     "execution_count": 21,
     "metadata": {},
     "output_type": "execute_result"
    }
   ],
   "source": [
    "log_reg = LogisticRegression(random_state=12345, solver='liblinear') \n",
    "log_reg.fit(features_train, target_train)\n",
    "predictions_valid = log_reg.predict(features_valid) \n",
    "\n",
    "accuracy_score(target_valid, predictions_valid) "
   ]
  },
  {
   "cell_type": "markdown",
   "metadata": {},
   "source": [
    "Доля правильных ответов 78,5%, но одной метрики для оценки качества не достаточно, проверим модель на адекватность, сравним её accuracy с константной моделью. "
   ]
  },
  {
   "cell_type": "code",
   "execution_count": 22,
   "metadata": {},
   "outputs": [
    {
     "data": {
      "text/plain": [
       "0.79875"
      ]
     },
     "execution_count": 22,
     "metadata": {},
     "output_type": "execute_result"
    }
   ],
   "source": [
    "target_pred_constant = pd.Series(0, index=target_train.index) #константная модель прогнозирует класс 0 любому объекту \n",
    "\n",
    "accuracy_score(target_train, target_pred_constant) "
   ]
  },
  {
   "cell_type": "markdown",
   "metadata": {},
   "source": [
    "Модель логистической регрессии предсказывает хуже, чем константная модель. Получается, что модель не адектвана, построим для нее матрицу ошибок"
   ]
  },
  {
   "cell_type": "code",
   "execution_count": 23,
   "metadata": {},
   "outputs": [
    {
     "data": {
      "text/plain": [
       "array([[741,  34],\n",
       "       [181,  44]], dtype=int64)"
      ]
     },
     "execution_count": 23,
     "metadata": {},
     "output_type": "execute_result"
    }
   ],
   "source": [
    "confusion_matrix(target_valid, predictions_valid)"
   ]
  },
  {
   "cell_type": "markdown",
   "metadata": {},
   "source": [
    "Предсказывая положительный класс, модель чаще делает ошибки (181 ложно положительных), чем предсказывает верно (44 истино положительных). Посчитаем еще 2 метрики, оценивающие качетсво модели: полноту и точность. "
   ]
  },
  {
   "cell_type": "code",
   "execution_count": 24,
   "metadata": {},
   "outputs": [
    {
     "data": {
      "text/plain": [
       "0.19555555555555557"
      ]
     },
     "execution_count": 24,
     "metadata": {},
     "output_type": "execute_result"
    }
   ],
   "source": [
    "recall_score(target_valid, predictions_valid)"
   ]
  },
  {
   "cell_type": "markdown",
   "metadata": {},
   "source": [
    "Модель предсказывает 19% положительных ответов из всех ответов, являющихся положительными.  "
   ]
  },
  {
   "cell_type": "code",
   "execution_count": 25,
   "metadata": {},
   "outputs": [
    {
     "data": {
      "text/plain": [
       "0.5641025641025641"
      ]
     },
     "execution_count": 25,
     "metadata": {},
     "output_type": "execute_result"
    }
   ],
   "source": [
    "precision_score(target_valid, predictions_valid)"
   ]
  },
  {
   "cell_type": "markdown",
   "metadata": {},
   "source": [
    " 56% предсказаний, которые модель определяет как положительные, являются положительными. \n",
    "Завершим анализ вычислением f1-меры. "
   ]
  },
  {
   "cell_type": "code",
   "execution_count": 26,
   "metadata": {},
   "outputs": [
    {
     "data": {
      "text/plain": [
       "0.29042904290429045"
      ]
     },
     "execution_count": 26,
     "metadata": {},
     "output_type": "execute_result"
    }
   ],
   "source": [
    "f1_score(target_valid, predictions_valid)"
   ]
  },
  {
   "cell_type": "code",
   "execution_count": 27,
   "metadata": {},
   "outputs": [
    {
     "data": {
      "text/plain": [
       "(0.5882352941176471, 5)"
      ]
     },
     "execution_count": 27,
     "metadata": {},
     "output_type": "execute_result"
    }
   ],
   "source": [
    "#Решающее дерево \n",
    "\n",
    "best_tree = None\n",
    "best_result = 0\n",
    "best_depth = 0 #введем переменные для поиска лучшей модели, которые далее применим в цикле \n",
    "\n",
    "for depth in range(1, 12):\n",
    "    tree = DecisionTreeClassifier(random_state=12345, max_depth=depth) #в цикле будем изменять значения параметра глубины \n",
    "    tree.fit(features_train, target_train) #обучаем модель на тренировочной выборке\n",
    "    predictions_valid_tree = tree.predict(features_valid) \n",
    "    result = f1_score(target_valid, predictions_valid_tree) #определяем качество модели на валидационной выборке\n",
    "    if result > best_result:\n",
    "        best_tree = tree #сохраним наилучшую модель\n",
    "        best_result = result #сохраним наилучшее значение метрики accuracy на валидационных данных\n",
    "        best_depth = depth #сохраним наилучшее значение гиперпараметра \n",
    "        \n",
    "best_result, best_depth "
   ]
  },
  {
   "cell_type": "code",
   "execution_count": 28,
   "metadata": {},
   "outputs": [
    {
     "data": {
      "text/plain": [
       "(0.5868945868945868, 200, 21)"
      ]
     },
     "execution_count": 28,
     "metadata": {},
     "output_type": "execute_result"
    }
   ],
   "source": [
    "#Случайный лес \n",
    "\n",
    "best_forest = None\n",
    "best_result_forest = 0 \n",
    "best_estimators = 0 \n",
    "best_depth_forest1 = 0  #введем переменные для поиска лучшей модели, которые далее применим в цикле \n",
    "\n",
    "for est in range (100, 1001, 100):\n",
    "    for depth2 in range (1, 22, 2):\n",
    "        forest2  = RandomForestClassifier(random_state=12345, n_estimators=est, max_depth=depth2) #в цикле будем изменять количество деревьев\n",
    "        forest2.fit(features_train, target_train) #обучаем модель на тренировочной выборке\n",
    "        predictions_valid_forest  = forest2.predict(features_valid) #получим предсказания на валидационной выборке\n",
    "        result2 = f1_score(target_valid, predictions_valid_forest) #определяем качество модели на валидационной выборке\n",
    "        if result2 > best_result_forest:\n",
    "            best_forest = forest2 #сохраним наилучшую модель\n",
    "            best_result_forest = result2 #сохраним наилучшее значение метрики accuracy на валидационных данных\n",
    "            best_estimators = est #сохраним наилучшее значение гиперпараметра \n",
    "            best_depth = depth2 #сохраним наилучшее значение гиперпараметра                               \n",
    "\n",
    "best_result_forest,  best_estimators, best_depth"
   ]
  },
  {
   "cell_type": "markdown",
   "metadata": {},
   "source": [
    "**Вывод**\n",
    "\n",
    "Была обучена модель логистической регрессии без учета дисбаланса и оценено ее качесто. Метрика accuracy составила 0,78 и оказалась ниже, чем accuracy константной модели.\n",
    "\n",
    "Метрики полноты и точности составили 0,19 и 0,56, среднее гармоническое этих метрик 0,29. Матрица ошибок, как и все 3 метрики показывают, что предсказывая положительный класс, модель чаще делает ошибки, чем предсказывает верно.\n",
    "\n",
    "С учетом проведенного анализа, сделаем вывод, что ошибок при оценке класса 1 недопустимо много, требуется доработать модель в части сбалансированности классов.\n",
    "\n",
    "У модели решающего дерева и случайного леса f1_score значительно выше, чем у логистической регрессии."
   ]
  },
  {
   "cell_type": "markdown",
   "metadata": {},
   "source": [
    "## Борьба с дисбалансом"
   ]
  },
  {
   "cell_type": "markdown",
   "metadata": {},
   "source": [
    "Для улучшения качества модели, подберем метод устранения дисбаланса, при котором получим наулучшее значение f1-меры. \n"
   ]
  },
  {
   "cell_type": "markdown",
   "metadata": {},
   "source": [
    "**Метод взвешивания классов**"
   ]
  },
  {
   "cell_type": "code",
   "execution_count": 29,
   "metadata": {},
   "outputs": [
    {
     "data": {
      "text/plain": [
       "0.5047619047619047"
      ]
     },
     "execution_count": 29,
     "metadata": {},
     "output_type": "execute_result"
    }
   ],
   "source": [
    "#Логистическая регрессия \n",
    "\n",
    "log_reg2 = LogisticRegression(random_state=12345, solver='liblinear', class_weight='balanced') \n",
    "log_reg2.fit(features_train, target_train)\n",
    "predictions_valid2 = log_reg2.predict(features_valid) \n",
    "\n",
    "f1_score(target_valid, predictions_valid2)"
   ]
  },
  {
   "cell_type": "markdown",
   "metadata": {},
   "source": [
    "Метод позволил увеличить f1-меру почти на 30 пунктов"
   ]
  },
  {
   "cell_type": "code",
   "execution_count": 30,
   "metadata": {},
   "outputs": [
    {
     "data": {
      "text/plain": [
       "(0.5959595959595959, 7)"
      ]
     },
     "execution_count": 30,
     "metadata": {},
     "output_type": "execute_result"
    }
   ],
   "source": [
    "#Решающее дерево \n",
    "\n",
    "best_tree1 = None\n",
    "best_result_tree1 = 0\n",
    "best_depth1 = 0 \n",
    "for depth1 in range(1, 22, 2):\n",
    "    tree1 = DecisionTreeClassifier(random_state=12345, max_depth=depth1, class_weight='balanced') #обучаем модель на тренировочной выборке с агументом взвешивания классов) #обучаем модель на тренировочной выборке с агументом взвешивания классов\n",
    "    tree1.fit(features_train, target_train) \n",
    "    predictions_valid_tree1 = tree1.predict(features_valid) \n",
    "    result1 = f1_score(target_valid, predictions_valid_tree1) \n",
    "    if result1 > best_result_tree1:\n",
    "        best_tree1 = tree1 #сохраним наилучшую модель\n",
    "        best_result_tree1 = result1 #сохраним наилучшее значение метрики accuracy на валидационных данных\n",
    "        best_depth1 = depth1 #сохраним наилучшее значение гиперпараметра \n",
    "        \n",
    "best_result_tree1 , best_depth1"
   ]
  },
  {
   "cell_type": "markdown",
   "metadata": {},
   "source": [
    "Значение метрики улучшилось незначительно (исходное значение 0.5882)"
   ]
  },
  {
   "cell_type": "code",
   "execution_count": 31,
   "metadata": {},
   "outputs": [
    {
     "data": {
      "text/plain": [
       "(0.6603053435114503, 1000, 21)"
      ]
     },
     "execution_count": 31,
     "metadata": {},
     "output_type": "execute_result"
    }
   ],
   "source": [
    "#Случайный лес \n",
    "\n",
    "best_forest = None\n",
    "best_result_forest = 0 \n",
    "best_estimators = 0 \n",
    "best_depth_forest1 = 0  #введем переменные для поиска лучшей модели, которые далее применим в цикле \n",
    "\n",
    "for est in range (100, 1001, 100):\n",
    "    for depth2 in range (1, 22, 2):\n",
    "        forest2  = RandomForestClassifier(random_state=12345, n_estimators=est, max_depth=depth2, class_weight='balanced') #в цикле будем изменять количество деревьев\n",
    "        forest2.fit(features_train, target_train) #обучаем модель на тренировочной выборке\n",
    "        predictions_valid_forest  = forest2.predict(features_valid) #получим предсказания на валидационной выборке\n",
    "        result2 = f1_score(target_valid, predictions_valid_forest) #определяем качество модели на валидационной выборке\n",
    "        if result2 > best_result_forest:\n",
    "            best_forest = forest2 #сохраним наилучшую модель\n",
    "            best_result_forest = result2 #сохраним наилучшее значение метрики accuracy на валидационных данных\n",
    "            best_estimators = est #сохраним наилучшее значение гиперпараметра \n",
    "            best_depth_forest1 = depth2 #сохраним наилучшее значение гиперпараметра                               \n",
    "\n",
    "best_result_forest,  best_estimators, best_depth"
   ]
  },
  {
   "cell_type": "markdown",
   "metadata": {},
   "source": [
    "Значение метрики улучшилось значительно (исходное значение 0.5868)"
   ]
  },
  {
   "cell_type": "markdown",
   "metadata": {},
   "source": [
    "**Метод увеличения выборки**"
   ]
  },
  {
   "cell_type": "code",
   "execution_count": 32,
   "metadata": {},
   "outputs": [],
   "source": [
    "def upsample(features, target, repeat): \n",
    "    features_zeros = features[target == 0]\n",
    "    features_ones = features[target == 1]\n",
    "    target_zeros = target[target == 0]\n",
    "    target_ones = target[target == 1]\n",
    "    \n",
    "    features_upsampled = pd.concat([features_zeros] + [features_ones] * repeat)\n",
    "    target_upsampled = pd.concat([target_zeros] + [target_ones] * repeat)\n",
    "\n",
    "    features_upsampled, target_upsampled = shuffle(features_upsampled, target_upsampled, random_state=12345)\n",
    "    return features_upsampled, target_upsampled "
   ]
  },
  {
   "cell_type": "code",
   "execution_count": 33,
   "metadata": {},
   "outputs": [
    {
     "data": {
      "text/plain": [
       "((12830, 12), (12830,))"
      ]
     },
     "execution_count": 33,
     "metadata": {},
     "output_type": "execute_result"
    }
   ],
   "source": [
    "features_upsampled, target_upsampled = upsample(features_train, target_train, 4)\n",
    "\n",
    "features_upsampled.shape, target_upsampled.shape"
   ]
  },
  {
   "cell_type": "code",
   "execution_count": 34,
   "metadata": {},
   "outputs": [
    {
     "data": {
      "text/plain": [
       "0.5063291139240507"
      ]
     },
     "execution_count": 34,
     "metadata": {},
     "output_type": "execute_result"
    }
   ],
   "source": [
    "#Логистическая регрессия \n",
    "\n",
    "log_reg3 = LogisticRegression(random_state=12345, solver='liblinear') \n",
    "log_reg3.fit(features_upsampled, target_upsampled)\n",
    "predictions_valid3 = log_reg3.predict(features_valid) \n",
    "\n",
    "f1_score(target_valid, predictions_valid3) #обучим модель на новой выборке и оценим ее качество "
   ]
  },
  {
   "cell_type": "markdown",
   "metadata": {},
   "source": [
    "f1-мера чуть лучше, чем при взвешивании классов "
   ]
  },
  {
   "cell_type": "code",
   "execution_count": 35,
   "metadata": {},
   "outputs": [
    {
     "data": {
      "text/plain": [
       "(0.5973154362416108, 7)"
      ]
     },
     "execution_count": 35,
     "metadata": {},
     "output_type": "execute_result"
    }
   ],
   "source": [
    "#Решающее дерево \n",
    "\n",
    "best_tree2 = None\n",
    "best_result_tree2 = 0\n",
    "best_depth_tree2 = 0 #введем переменные для поиска лучшей модели, которые далее применим в цикле \n",
    "\n",
    "for depth3 in range(1, 22, 2):\n",
    "    tree2 = DecisionTreeClassifier(random_state=12345, max_depth=depth3) #в цикле будем изменять значения параметра глубины \n",
    "    tree2.fit(features_upsampled, target_upsampled) #обучаем модель на тренировочной выборке\n",
    "    predictions_valid_tree2 = tree2.predict(features_valid) \n",
    "    result_tree2 = f1_score(target_valid, predictions_valid_tree2) #определяем качество модели на валидационной выборке\n",
    "    if result_tree2 > best_result_tree2:\n",
    "        best_tree2 = tree2 #сохраним наилучшую модель\n",
    "        best_result_tree2 = result_tree2 #сохраним наилучшее значение метрики accuracy на валидационных данных\n",
    "        best_depth_tree2 = depth3 #сохраним наилучшее значение гиперпараметра \n",
    "        \n",
    "best_result_tree2, best_depth_tree2 "
   ]
  },
  {
   "cell_type": "markdown",
   "metadata": {},
   "source": [
    "Значение метрики улучшилось незначительно"
   ]
  },
  {
   "cell_type": "code",
   "execution_count": 36,
   "metadata": {},
   "outputs": [
    {
     "data": {
      "text/plain": [
       "(0.6556169429097607, 100, 7)"
      ]
     },
     "execution_count": 36,
     "metadata": {},
     "output_type": "execute_result"
    }
   ],
   "source": [
    "#Случайный лес\n",
    "\n",
    "best_forest2 = None\n",
    "best_result_forest2 = 0 \n",
    "best_estimators2 = 0 \n",
    "best_depth_forest2 = 0  #введем переменные для поиска лучшей модели, которые далее применим в цикле \n",
    "\n",
    "for est2 in range (100, 1001, 100):\n",
    "    for depth4 in range (1, 22, 2):\n",
    "        forest3  = RandomForestClassifier(random_state=12345, n_estimators=est, max_depth=depth4) #в цикле будем изменять количество деревьев\n",
    "        forest3.fit(features_upsampled, target_upsampled) #обучаем модель на тренировочной выборке\n",
    "        predictions_valid_forest2  = forest3.predict(features_valid) #получим предсказания на валидационной выборке\n",
    "        result_forest2 = f1_score(target_valid, predictions_valid_forest2) #определяем качество модели на валидационной выборке\n",
    "        if result_forest2 > best_result_forest2:\n",
    "            best_forest2 = forest3 #сохраним наилучшую модель\n",
    "            best_result_forest2 = result_forest2 #сохраним наилучшее значение метрики accuracy на валидационных данных\n",
    "            best_estimators2 = est2 #сохраним наилучшее значение гиперпараметра \n",
    "            best_depth_forest2 = depth4 #сохраним наилучшее значение гиперпараметра                             \n",
    "best_result_forest2,  best_estimators2, best_depth_forest2"
   ]
  },
  {
   "cell_type": "markdown",
   "metadata": {},
   "source": [
    "F1-мера при методе увеличения выборки чуть меньше, чем при взвешивании классов "
   ]
  },
  {
   "cell_type": "markdown",
   "metadata": {},
   "source": [
    "**Метод уменьшения выборки**"
   ]
  },
  {
   "cell_type": "code",
   "execution_count": 37,
   "metadata": {},
   "outputs": [],
   "source": [
    "def downsample(features, target, fraction):\n",
    "    features_zeros = features[target == 0]\n",
    "    features_ones = features[target == 1]\n",
    "    target_zeros = target[target == 0]\n",
    "    target_ones = target[target == 1]\n",
    " \n",
    "    features_downsampled = pd.concat(\n",
    "        [features_zeros.sample(frac=fraction, random_state=12345)] + [features_ones])\n",
    "    target_downsampled = pd.concat(\n",
    "        [target_zeros.sample(frac=fraction, random_state=12345)] + [target_ones])\n",
    " \n",
    "    features_downsampled, target_downsampled = shuffle(\n",
    "        features_downsampled, target_downsampled, random_state=12345)\n",
    " \n",
    "    return features_downsampled, target_downsampled "
   ]
  },
  {
   "cell_type": "code",
   "execution_count": 38,
   "metadata": {},
   "outputs": [
    {
     "data": {
      "text/plain": [
       "((4166, 12), (4166,))"
      ]
     },
     "execution_count": 38,
     "metadata": {},
     "output_type": "execute_result"
    }
   ],
   "source": [
    "features_downsampled, target_downsampled = downsample(features_train, target_train, 0.4)\n",
    "\n",
    "features_downsampled.shape, target_downsampled.shape "
   ]
  },
  {
   "cell_type": "code",
   "execution_count": 39,
   "metadata": {},
   "outputs": [
    {
     "data": {
      "text/plain": [
       "0.5080645161290323"
      ]
     },
     "execution_count": 39,
     "metadata": {},
     "output_type": "execute_result"
    }
   ],
   "source": [
    "#Логистическая регрессия \n",
    "\n",
    "log_reg4 = LogisticRegression(random_state=12345, solver='liblinear') \n",
    "log_reg4.fit(features_downsampled, target_downsampled)\n",
    "predictions_valid4 = log_reg4.predict(features_valid) \n",
    "\n",
    "f1_score(target_valid, predictions_valid4) "
   ]
  },
  {
   "cell_type": "code",
   "execution_count": 40,
   "metadata": {},
   "outputs": [
    {
     "data": {
      "text/plain": [
       "(0.6385542168674699, 5)"
      ]
     },
     "execution_count": 40,
     "metadata": {},
     "output_type": "execute_result"
    }
   ],
   "source": [
    "#Решающее дерево \n",
    "\n",
    "best_result = 0\n",
    "best_depth = 0 #введем переменные для поиска лучшей модели, которые далее применим в цикле \n",
    "\n",
    "for depth in range(1, 12):\n",
    "    tree = DecisionTreeClassifier(random_state=12345, max_depth=depth) #в цикле будем изменять значения параметра глубины \n",
    "    tree.fit(features_downsampled, target_downsampled) #обучаем модель на тренировочной выборке\n",
    "    predictions_valid_tree = tree.predict(features_valid) \n",
    "    result = f1_score(target_valid, predictions_valid_tree) #определяем качество модели на валидационной выборке\n",
    "    if result > best_result:\n",
    "        best_tree = tree #сохраним наилучшую модель\n",
    "        best_result = result #сохраним наилучшее значение метрики accuracy на валидационных данных\n",
    "        best_depth = depth #сохраним наилучшее значение гиперпараметра \n",
    "        \n",
    "best_result, best_depth "
   ]
  },
  {
   "cell_type": "markdown",
   "metadata": {},
   "source": [
    "Это лучшее f1-меры для модели решающего дерева"
   ]
  },
  {
   "cell_type": "code",
   "execution_count": 41,
   "metadata": {},
   "outputs": [
    {
     "data": {
      "text/plain": [
       "(0.663677130044843, 300, 7)"
      ]
     },
     "execution_count": 41,
     "metadata": {},
     "output_type": "execute_result"
    }
   ],
   "source": [
    "#Случайный лес \n",
    "\n",
    "best_forest = None\n",
    "best_result2 = 0 \n",
    "best_estimators = 0 \n",
    "best_depth2 = 0  #введем переменные для поиска лучшей модели, которые далее применим в цикле \n",
    "\n",
    "for est in range (100, 500, 100):\n",
    "    for depth2 in range (1, 11, 2):\n",
    "        forest  = RandomForestClassifier(random_state=12345, n_estimators=est, max_depth=depth2) #в цикле будем изменять количество деревьев\n",
    "        forest.fit(features_downsampled, target_downsampled) #обучаем модель на тренировочной выборке\n",
    "        predictions_valid_forest  = forest.predict(features_valid) #получим предсказания на валидационной выборке\n",
    "        result2 = f1_score(target_valid, predictions_valid_forest) #определяем качество модели на валидационной выборке\n",
    "        if result2 > best_result2:\n",
    "            best_forest = forest #сохраним наилучшую модель\n",
    "            best_result2 = result2 #сохраним наилучшее значение метрики accuracy на валидационных данных\n",
    "            best_estimators = est #сохраним наилучшее значение гиперпараметра \n",
    "            best_depth2 = depth2 #сохраним наилучшее значение гиперпараметра                               \n",
    "\n",
    "best_result2,  best_estimators, best_depth2"
   ]
  },
  {
   "cell_type": "markdown",
   "metadata": {},
   "source": [
    "**Вывод: После обучения каждой модели на всех методах борьбы с дисбалансом, лучшие результаты показали модели случайного леса со взвешиванием классов и случайного леса с уменьшением выборки, f1-мера более 0.66\n",
    "    Проверим их на тестовой выборке.**"
   ]
  },
  {
   "cell_type": "markdown",
   "metadata": {},
   "source": [
    "## Тестирование модели"
   ]
  },
  {
   "cell_type": "markdown",
   "metadata": {},
   "source": [
    "Проверим модели на тестовой выборке:"
   ]
  },
  {
   "cell_type": "code",
   "execution_count": 42,
   "metadata": {},
   "outputs": [
    {
     "data": {
      "text/plain": [
       "0.4870129870129869"
      ]
     },
     "execution_count": 42,
     "metadata": {},
     "output_type": "execute_result"
    }
   ],
   "source": [
    "predictions_test = forest2.predict(features_test)\n",
    "f1_score_test_1= f1_score(target_test, predictions_test)\n",
    "f1_score_test_1"
   ]
  },
  {
   "cell_type": "code",
   "execution_count": 43,
   "metadata": {},
   "outputs": [
    {
     "data": {
      "text/plain": [
       "0.6265060240963856"
      ]
     },
     "execution_count": 43,
     "metadata": {},
     "output_type": "execute_result"
    }
   ],
   "source": [
    "predictions_test2 = forest.predict(features_test)\n",
    "f1_score_test_2 = f1_score(target_test, predictions_test2)\n",
    "f1_score_test_2"
   ]
  },
  {
   "cell_type": "markdown",
   "metadata": {},
   "source": [
    "Модель случайного леса с методом устранения дисбаланса путем уменьшения выборки  проходит по условию f1-мера не менее 0.59. и является лучшей моделью. На тестовой выборке у нее f1_score не много меньше, чем на валидационной. "
   ]
  },
  {
   "cell_type": "markdown",
   "metadata": {},
   "source": [
    "**AUC ROC**"
   ]
  },
  {
   "cell_type": "markdown",
   "metadata": {},
   "source": [
    "Оценим точность этой модели логистической регрессии используя метрику AUC ROC и сравним ее значение с f1-score:\n",
    "Для начала построим кривую ошибок, затем посчитаем площадь под этой кривой:"
   ]
  },
  {
   "cell_type": "code",
   "execution_count": 44,
   "metadata": {},
   "outputs": [
    {
     "name": "stdout",
     "output_type": "stream",
     "text": [
      "На тестовой выборке модель показала:\n",
      "   Мера F1: 0.6265060240963856 \n",
      "   Мера AUC-ROC: 0.8732784932628601 \n",
      "\n"
     ]
    },
    {
     "data": {
      "image/png": "[encoded data removed]",
      "text/plain": [
       "<Figure size 1080x360 with 1 Axes>"
      ]
     },
     "metadata": {
      "needs_background": "light"
     },
     "output_type": "display_data"
    }
   ],
   "source": [
    "probabilities_test = forest.predict_proba(features_test)\n",
    "probabilities_one_test = probabilities_test[:, 1]\n",
    "auc_roc = roc_auc_score(target_test, probabilities_one_test)\n",
    "\n",
    "print('На тестовой выборке модель показала:\\n   Мера F1:', f1_score_test_2, '\\n   Мера AUC-ROC:', auc_roc,'\\n')\n",
    "\n",
    "fpr, tpr, thresholds = roc_curve(target_test, probabilities_one_test)\n",
    "\n",
    "plt.figure(figsize=(15,5))\n",
    "\n",
    "plt.plot(fpr,tpr)\n",
    "plt.plot([0, 1], [0, 1], linestyle='--')\n",
    "plt.xlim([0,1])\n",
    "plt.ylim([0,1])\n",
    "plt.xlabel('False Positive Rate')\n",
    "plt.ylabel('True Positive Rate')\n",
    "plt.title('ROC-кривая')\n",
    "plt.show()"
   ]
  },
  {
   "cell_type": "markdown",
   "metadata": {},
   "source": [
    "Метрика ROC учитывает результаты классификации и вероятность предсказания всех классов, метрика f1-score оценивает только результаты классификации, а значит оценивает как предсказывает модель и сколько делает ошибок на данной выборке. F1-score не может учесть вероятности предсказания класса для модели, поэтому на новых выборках для той же модели значение F1-score может  отличатся. "
   ]
  },
  {
   "cell_type": "markdown",
   "metadata": {},
   "source": [
    "Учитывая эффективность модели при разных пороговых значениях, метрика auc_roc точнее оценивает способность модели к предсказанию."
   ]
  },
  {
   "cell_type": "markdown",
   "metadata": {},
   "source": [
    "**Общий вывод**\n",
    "\n",
    "Цель исследования состояла в том, чтобы спрогнозировать, уйдёт клиент из банка в ближайшее время или нет.\n",
    "\n",
    "Для этого нужно было построить модель с предельно большим значением F1-меры, от 0.59. \n",
    "\n",
    "Для определения лучшей модели сначала были обработаны исходные данные: \n",
    "    - подготовлены признаки, которые важны для прогноза, определен целевой признак;\n",
    "    - категориальные признаки  преобразованы техникой OHE;\n",
    "    - данные разделены на три выборки: обучающую, валидационную, тестовую;\n",
    "    - все цифровые значения приведены к одному масштабу. \n",
    "    \n",
    "Далее были обучены 2 вида модели без учета дисбаланса классов, среди них лучшей моделью стала модель решающего дерева с глубиной 5, ее f1_score составил 0,58. Был выявлен дисбаланс классов в пользу отрицательного, класс 0 составляет почти 80%. Матрица ошибок, метрики полноты и точности подтверждают, что модель делает много ошибок при оценке класса 1. \n",
    "\n",
    "На 3 моделях было использовано 3 метода устранения дисбаланса, для сравнения моделей использовали f1_score. В результате определили 2 лучшие модели:  \n",
    "\n",
    "    forest2 (случайный лес с гиперпараметрами 1000 деревье, глубина 21, метод взвешивания классов) f1_score = 0.66 \n",
    "\n",
    "    forest (случайный лес с гиперпараметрами 300 деревье, глубина 7, метод уменьшения выборки) f1_score = 0.66\n",
    "   \n",
    "\n",
    "**На порезультатам проверки на тестовой выборке Лучшая модель - модель случайного forest, на тестовой выборке f1-мера равна  0.62. Для прогнозирования следует использовать эту модель.**"
   ]
  }
 ],
 "metadata": {
  "kernelspec": {
   "display_name": "Python 3 (ipykernel)",
   "language": "python",
   "name": "python3"
  },
  "language_info": {
   "codemirror_mode": {
    "name": "ipython",
    "version": 3
   },
   "file_extension": ".py",
   "mimetype": "text/x-python",
   "name": "python",
   "nbconvert_exporter": "python",
   "pygments_lexer": "ipython3",
   "version": "3.9.7"
  },
  "toc": {
   "base_numbering": 1,
   "nav_menu": {},
   "number_sections": true,
   "sideBar": true,
   "skip_h1_title": true,
   "title_cell": "Содержание",
   "title_sidebar": "Contents",
   "toc_cell": true,
   "toc_position": {
    "height": "calc(100% - 180px)",
    "left": "10px",
    "top": "150px",
    "width": "165px"
   },
   "toc_section_display": true,
   "toc_window_display": true
  }
 },
 "nbformat": 4,
 "nbformat_minor": 2
}
